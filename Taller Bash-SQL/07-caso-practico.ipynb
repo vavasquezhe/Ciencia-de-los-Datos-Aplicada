{
 "cells": [
  {
   "cell_type": "markdown",
   "metadata": {},
   "source": [
    "Caso Práctico\n",
    "===\n",
    "\n",
    "**Juan David Velásquez Henao**  \n",
    "jdvelasq@unal.edu.co   \n",
    "Universidad Nacional de Colombia, Sede Medellín  \n",
    "Facultad de Minas  \n",
    "Medellín, Colombia\n",
    "\n",
    "---\n",
    "\n",
    "Haga click [aquí](https://github.com/jdvelasq/Bash-for-data-science/blob/master/01-archivos-y-directorios.ipynb) para acceder a la última versión online.\n",
    "\n",
    "Haga click [aquí](http://nbviewer.jupyter.org/github/jdvelasq/Bash-for-data-science/blob/master/01-archivos-y-directorios.ipynb) para ver la última versión online en `nbviewer`. \n",
    "\n",
    "---\n",
    "[Licencia](https://github.com/jdvelasq/transformacion-datos-bash/blob/master/LICENCIA.txt)  \n",
    "[Readme](https://github.com/jdvelasq/transformacion-datos-bash/blob/master/readme.md)"
   ]
  },
  {
   "cell_type": "markdown",
   "metadata": {},
   "source": [
    "Este subdirectorio `files/caso-practico` contiene la información de cuatro (4) estaciones automáticas de medición de viento. Se desear realizar un proceso de transformación de los datos con el fin de producir la información requerida para construir un atlas eólico de la región. A continuación se presentan los requerimientos solicitados y su respectiva solución."
   ]
  },
  {
   "cell_type": "code",
   "execution_count": 2,
   "metadata": {},
   "outputs": [
    {
     "name": "stdout",
     "output_type": "stream",
     "text": [
      "FECHA;HHMMSS;DIR;VEL\n",
      "16/04/05;11:10:00;135;6,3\n",
      "16/04/05;11:20:00;135;5,1\n",
      "16/04/05;11:30:00;135;6,3\n",
      "16/04/05;11:40:00;113;6,1\n",
      "16/04/05;11:50:00;135;4,1\n",
      "16/04/05;12:00:00;135;5,5\n",
      "16/04/05;12:10:00;135;5,4\n",
      "16/04/05;12:20:00;135;5,5\n",
      "16/04/05;12:30:00;90;4,6\n"
     ]
    }
   ],
   "source": [
    "head Estacion1.csv"
   ]
  },
  {
   "cell_type": "markdown",
   "metadata": {},
   "source": [
    "**Requerimiento 1.--** Generar una tabla unificada que contenga las siguientes columnas:\n",
    "\n",
    "* Nombre de la estación.\n",
    "* Fecha en el formato YYYY-MM-DD.\n",
    "* Año.\n",
    "* Mes.\n",
    "* Dia.\n",
    "* HHMMSS.\n",
    "* Hora (HH).\n",
    "* Minuto (MM).\n",
    "* Dirección.\n",
    "* Velocidad."
   ]
  },
  {
   "cell_type": "code",
   "execution_count": null,
   "metadata": {},
   "outputs": [],
   "source": []
  },
  {
   "cell_type": "code",
   "execution_count": 5,
   "metadata": {
    "collapsed": true
   },
   "outputs": [],
   "source": [
    "##\n",
    "## Se elimina la terminación .csv del nombre de la estación\n",
    "## Se cambian las ',' por '.'\n",
    "## Se cambian los ';' por ','\n",
    "##\n",
    "sed -e \"s/.csv//g\" -e \"s/,/./g\" -e \"s/;/,/g\" out.1 > out.2"
   ]
  },
  {
   "cell_type": "code",
   "execution_count": 6,
   "metadata": {
    "collapsed": true
   },
   "outputs": [],
   "source": [
    "##\n",
    "## Se extrae de HH:MM:SS las HH y los MM\n",
    "## Patron:   ,HH:MM:SS\n",
    "sed -e    \"s/,\\([0-9]*\\):\\([0-9]*\\):\\([0-9]*\\)/,\\1:\\2:\\3,\\1,\\2/g\" out.2 > out.3"
   ]
  },
  {
   "cell_type": "code",
   "execution_count": 7,
   "metadata": {
    "collapsed": true
   },
   "outputs": [],
   "source": [
    "## \n",
    "## Se agrega el 0 al digito del dia\n",
    "##\n",
    "sed -e \"s/,\\([0-9]\\)\\//,0\\1\\//g\" out.3 > out.4"
   ]
  },
  {
   "cell_type": "code",
   "execution_count": 8,
   "metadata": {
    "collapsed": true
   },
   "outputs": [],
   "source": [
    "##\n",
    "## Se cambia el formato DD/MM/YY a YYYY-MM-DD\n",
    "## y agrega las columnas año, mes, dia\n",
    "##\n",
    "sed -e \"s/,\\([0-9][0-9]\\)\\/\\([0-9][0-9]\\)\\/\\([0-9][0-9]\\)/,20\\3-\\2-\\1,20\\3,\\2,\\1/g\" out.4 > out.5"
   ]
  },
  {
   "cell_type": "code",
   "execution_count": 9,
   "metadata": {
    "scrolled": true
   },
   "outputs": [
    {
     "name": "stdout",
     "output_type": "stream",
     "text": [
      "ESTACION,FECHA,ANO,MES,DIA,HHMMSS,HORA,MIN,DIR,VEL\n",
      "Estacion1,2005-04-16,2005,04,16,11:10:00,11,10,135,6.3\n",
      "Estacion1,2005-04-16,2005,04,16,11:20:00,11,20,135,5.1\n",
      "Estacion1,2005-04-16,2005,04,16,11:30:00,11,30,135,6.3\n",
      "Estacion1,2005-04-16,2005,04,16,11:40:00,11,40,113,6.1\n",
      "Estacion1,2005-04-16,2005,04,16,11:50:00,11,50,135,4.1\n",
      "Estacion1,2005-04-16,2005,04,16,12:00:00,12,00,135,5.5\n",
      "Estacion1,2005-04-16,2005,04,16,12:10:00,12,10,135,5.4\n",
      "Estacion1,2005-04-16,2005,04,16,12:20:00,12,20,135,5.5\n",
      "Estacion1,2005-04-16,2005,04,16,12:30:00,12,30,90,4.6\n"
     ]
    }
   ],
   "source": [
    "##\n",
    "## se renombra el archivo\n",
    "##\n",
    "mv out.5 tabla1.csv\n",
    "rm out.*\n",
    "head tabla1.csv"
   ]
  },
  {
   "cell_type": "markdown",
   "metadata": {},
   "source": [
    "**Requerimiento 2.--** Generar una tabla unificada que contenga las siguientes columnas:\n",
    "\n",
    "* Nombre de la estación.\n",
    "* Año.\n",
    "* Mes.\n",
    "* Dia.\n",
    "* Hora.\n",
    "* Velocidad media del viento para la correspodiente hora."
   ]
  },
  {
   "cell_type": "code",
   "execution_count": 10,
   "metadata": {},
   "outputs": [
    {
     "name": "stdout",
     "output_type": "stream",
     "text": [
      "ESTACION,ANO,MES,DIA,HORA,VEL\n",
      "Estacion1,2005,4,16,11,5.58\n",
      "Estacion1,2005,4,16,12,5.45\n",
      "Estacion1,2005,4,16,13,4.866666666666667\n",
      "Estacion1,2005,4,16,14,3.6666666666666665\n",
      "Estacion1,2005,4,16,15,3.466666666666667\n",
      "Estacion1,2005,4,16,16,3.6999999999999993\n",
      "Estacion1,2005,4,16,17,4.833333333333333\n",
      "Estacion1,2005,4,16,18,4.766666666666667\n",
      "Estacion1,2005,4,16,19,4.3500000000000005\n"
     ]
    }
   ],
   "source": [
    "csvsql --query \"select ESTACION,ANO,MES,DIA,HORA,avg(VEL) as VEL from tabla1 group by ESTACION,FECHA,HORA\" tabla1.csv > tabla2.csv \n",
    "head tabla2.csv"
   ]
  },
  {
   "cell_type": "markdown",
   "metadata": {},
   "source": [
    "**Requerimiento 3.--** Generar una tabla que contenga las siguientes columnas:\n",
    "\n",
    "* Estación.\n",
    "* Año.\n",
    "* Mes.\n",
    "* Velocidad media del viento para ese mes y ese año."
   ]
  },
  {
   "cell_type": "code",
   "execution_count": 11,
   "metadata": {},
   "outputs": [
    {
     "name": "stdout",
     "output_type": "stream",
     "text": [
      "ESTACION,ANO,MES,VEL\n",
      "Estacion1,2005,4,2.980049261083752\n",
      "Estacion1,2005,5,3.4361263736263665\n",
      "Estacion1,2005,6,3.621287716797346\n",
      "Estacion1,2005,7,3.7123727663424635\n",
      "Estacion1,2005,8,3.6979252165982546\n",
      "Estacion1,2005,9,3.475673741950862\n",
      "Estacion1,2005,10,2.8820582877959997\n",
      "Estacion1,2005,11,2.565895540186022\n",
      "Estacion1,2005,12,3.524970608981886\n"
     ]
    }
   ],
   "source": [
    "csvsql --query \"select ESTACION,ANO,MES,avg(VEL) as VEL from tabla1 group by ESTACION,ANO,MES\" tabla1.csv > tabla3.csv \n",
    "head tabla3.csv"
   ]
  },
  {
   "cell_type": "markdown",
   "metadata": {},
   "source": [
    "**Requerimiento 4.--** Generar una tabla que contenga las siguientes columnas:\n",
    "\n",
    "* Estación.\n",
    "* Año.\n",
    "* Velocidad media para dicho año."
   ]
  },
  {
   "cell_type": "code",
   "execution_count": 12,
   "metadata": {},
   "outputs": [
    {
     "name": "stdout",
     "output_type": "stream",
     "text": [
      "ESTACION,ANO,VEL\n",
      "Estacion1,2005,3.3451502263684962\n",
      "Estacion1,2006,3.3697993754545075\n",
      "Estacion1,2007,3.5963472619575434\n",
      "Estacion1,2008,3.398824975040326\n",
      "Estacion1,2009,3.66482712188342\n",
      "Estacion1,2010,3.161873801110522\n",
      "Estacion1,2011,3.1365808236671544\n",
      "Estacion1,2012,3.4450454680241487\n",
      "Estacion1,2013,3.538342011064097\n"
     ]
    }
   ],
   "source": [
    "csvsql --query \"select ESTACION,ANO,avg(VEL) as VEL from tabla1 group by ESTACION,ANO\" tabla1.csv > tabla4.csv \n",
    "head tabla4.csv"
   ]
  },
  {
   "cell_type": "markdown",
   "metadata": {},
   "source": [
    "**Requerimiento 5.--** Generar una tabla que contenga las siguientes columnas:\n",
    "\n",
    "* Estación.\n",
    "* Mes.\n",
    "* Velocidad media para ese mes calculada sobre todos los datos."
   ]
  },
  {
   "cell_type": "code",
   "execution_count": 13,
   "metadata": {},
   "outputs": [
    {
     "name": "stdout",
     "output_type": "stream",
     "text": [
      "ESTACION,MES,VEL\n",
      "Estacion1,1,3.5059530159813543\n",
      "Estacion1,2,3.535678972415966\n",
      "Estacion1,3,3.442782103186926\n",
      "Estacion1,4,3.245272212639869\n",
      "Estacion1,5,3.3720682876357375\n",
      "Estacion1,6,3.8454275262917066\n",
      "Estacion1,7,3.87093433279369\n",
      "Estacion1,8,3.5631316578756835\n",
      "Estacion1,9,3.4851503458982678\n"
     ]
    }
   ],
   "source": [
    "csvsql --query \"select ESTACION,MES,avg(VEL) as VEL from tabla1 group by ESTACION,MES\" tabla1.csv > tabla5.csv \n",
    "head tabla5.csv"
   ]
  },
  {
   "cell_type": "markdown",
   "metadata": {},
   "source": [
    "**Requerimiento 6.--** Generar una tabla que contenga las siguientes columnas:\n",
    "\n",
    "* Estación.\n",
    "* Hora.\n",
    "* Velocidad media para ese hora calculada sobre todos los datos."
   ]
  },
  {
   "cell_type": "code",
   "execution_count": 14,
   "metadata": {},
   "outputs": [
    {
     "name": "stdout",
     "output_type": "stream",
     "text": [
      "ESTACION,HORA,VEL\n",
      "Estacion1,0,2.5171288813271278\n",
      "Estacion1,1,2.4229398000425624\n",
      "Estacion1,2,2.423709581093773\n",
      "Estacion1,3,2.453470646169688\n",
      "Estacion1,4,2.5101003574966674\n",
      "Estacion1,5,2.5656465985655394\n",
      "Estacion1,6,2.5511213266884494\n",
      "Estacion1,7,2.598566170176347\n",
      "Estacion1,8,3.2485589294904735\n"
     ]
    }
   ],
   "source": [
    "csvsql --query \"select ESTACION,HORA,avg(VEL) as VEL from tabla1 group by ESTACION,HORA\" tabla1.csv > tabla6.csv \n",
    "head tabla6.csv"
   ]
  },
  {
   "cell_type": "markdown",
   "metadata": {},
   "source": [
    "**Requerimiento 7.--** Generar una tabla que contenga las siguientes columnas:\n",
    "\n",
    "* Estación.\n",
    "* Mes (MM).\n",
    "* Hora (HH).\n",
    "* Velocidad media para ese mes y esa hora calculada sobre todos los datos."
   ]
  },
  {
   "cell_type": "code",
   "execution_count": 15,
   "metadata": {},
   "outputs": [
    {
     "name": "stdout",
     "output_type": "stream",
     "text": [
      "ESTACION,MES,HORA,VEL\n",
      "Estacion1,1,0,2.6165900969882587\n",
      "Estacion1,1,1,2.5905102040816357\n",
      "Estacion1,1,2,2.5831483350151436\n",
      "Estacion1,1,3,2.5837741607324567\n",
      "Estacion1,1,4,2.654375970999486\n",
      "Estacion1,1,5,2.7493222106360746\n",
      "Estacion1,1,6,2.7320062047569835\n",
      "Estacion1,1,7,2.30347648261759\n",
      "Estacion1,1,8,2.7752786220871384\n"
     ]
    }
   ],
   "source": [
    "csvsql --query \"select ESTACION,MES,HORA,avg(VEL) as VEL from tabla1 group by ESTACION,MES,HORA\" tabla1.csv > tabla7.csv \n",
    "head tabla7.csv"
   ]
  },
  {
   "cell_type": "markdown",
   "metadata": {},
   "source": [
    "Caso Práctico\n",
    "===\n",
    "\n",
    "**Juan David Velásquez Henao**  \n",
    "jdvelasq@unal.edu.co   \n",
    "Universidad Nacional de Colombia, Sede Medellín  \n",
    "Facultad de Minas  \n",
    "Medellín, Colombia\n",
    "\n",
    "---\n",
    "\n",
    "Haga click [aquí](https://github.com/jdvelasq/Bash-for-data-science/blob/master/01-archivos-y-directorios.ipynb) para acceder a la última versión online.\n",
    "\n",
    "Haga click [aquí](http://nbviewer.jupyter.org/github/jdvelasq/Bash-for-data-science/blob/master/01-archivos-y-directorios.ipynb) para ver la última versión online en `nbviewer`. \n",
    "\n",
    "---\n",
    "[Licencia](https://github.com/jdvelasq/transformacion-datos-bash/blob/master/LICENCIA.txt)  \n",
    "[Readme](https://github.com/jdvelasq/transformacion-datos-bash/blob/master/readme.md)"
   ]
  }
 ],
 "metadata": {
  "kernel_info": {
   "name": "bash"
  },
  "kernelspec": {
   "display_name": "Bash",
   "language": "bash",
   "name": "bash"
  },
  "language_info": {
   "codemirror_mode": "shell",
   "file_extension": ".sh",
   "mimetype": "text/x-sh",
   "name": "bash"
  },
  "nteract": {
   "version": "0.8.4"
  }
 },
 "nbformat": 4,
 "nbformat_minor": 2
}
