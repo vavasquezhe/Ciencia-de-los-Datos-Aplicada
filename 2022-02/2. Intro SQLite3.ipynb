{
 "cells": [
  {
   "cell_type": "markdown",
   "id": "6d7ba7ea",
   "metadata": {
    "tags": []
   },
   "source": [
    "## Intro SQLite3\n",
    "---"
   ]
  },
  {
   "cell_type": "markdown",
   "id": "ef3c74b3",
   "metadata": {
    "tags": []
   },
   "source": [
    "## Ciencia de los Datos Aplicada\n",
    "* ##### Facultad de Minas\n",
    "* ##### Universidad Nacional de Colombia\n",
    "* ##### Autor: Valentina Vásquez Hernandez"
   ]
  },
  {
   "cell_type": "markdown",
   "id": "5be3fcc6-9182-4f06-aa25-3b874303e279",
   "metadata": {},
   "source": [
    "---"
   ]
  },
  {
   "cell_type": "markdown",
   "id": "28a8f885",
   "metadata": {},
   "source": [
    "### 1. ¿Qué es SQLite?"
   ]
  },
  {
   "cell_type": "markdown",
   "id": "8d87a848",
   "metadata": {},
   "source": [
    "* `Bases de datos con arquitectura cliente-servidor:` MySQL, Oracle, PostgreSQL, SQL Server. Tienen una compatibilidad completa con `SQL` (lenguaje estandar en la comunidad), y cuentan con una combinación de código abierto y distribución comercial; es decir, permite a pequeñas empresas tener acceso a un almacenamiento escalable, manejo de concurrencia, centralización y control sobre los datos.\n",
    "\n",
    "* `SqLite`:  Base de datos embebida, serverless y completamente de código abierto. Se especializa enalmacenar data local para aplicaciones y dispositivos. Tienen una compatibilidad completa con `SQL`. [1](https://www.sqlite.org/whentouse.html)\n"
   ]
  },
  {
   "cell_type": "markdown",
   "id": "d2d87177",
   "metadata": {},
   "source": [
    "> Esquema base de datos relacional [2](https://www.pragimtech.com/blog/mongodb-tutorial/relational-and-non-relational-databases/)\n",
    "\n",
    "\n",
    "<img src=\"data/relationaldb.jpg\" alt=\"drawing\" width=\"600\"/>\n"
   ]
  },
  {
   "cell_type": "markdown",
   "id": "02c66283",
   "metadata": {},
   "source": [
    "**Principales comandos:**\n",
    "\n",
    "* `SELECT`, `SELECT DISTINCT`: comando obligatorio en cualquier sentancia. Selecciona todos los registros y únicos, respectivamente.\n",
    "* `WHERE`, `HAVING`: permiten filtrar columnas de la tabla, estáticos y calculados, respectivamente.\n",
    "* `ORDER BY`: ordena el resultado de una columna de acuerdo a lo que especifique el usuario.\n",
    "* `INSERT INTO`, `DELETE`, `UPDATE`\n",
    "* `COUNT`, `MAX`, `MIN`, `SUM`, `AVG`, `GROUP BY`: funciones de agregación.\n",
    "\n",
    "**Estructura:**    \n",
    "> Database \n",
    ">> Tables\n",
    ">>> Rows/Columns\n",
    "\n",
    "\n",
    "*Documentación*: https://www.sqlite.org/lang.html"
   ]
  },
  {
   "cell_type": "markdown",
   "id": "0e9ff925",
   "metadata": {},
   "source": [
    "### 1. ¿Cómo uso MySQL/MariaDB?"
   ]
  },
  {
   "cell_type": "markdown",
   "id": "d2d9ebe1-0f64-4f78-9d5b-33951f9991f0",
   "metadata": {},
   "source": [
    "El valor agregado de MariaDB es replicar un entorno productivo de manera local, *OpenSource* y explorar la integración de varias herramientas con un sistema de gestión de bases de datos."
   ]
  },
  {
   "cell_type": "code",
   "execution_count": 1,
   "id": "d668958f-3de4-4934-a339-3d3a1674be4e",
   "metadata": {},
   "outputs": [],
   "source": [
    "##La librería sqllite se encuentra por defecto en Python desde la versión 2.5\n",
    "import sqlite3\n",
    "\n",
    "conn = sqlite3.connect(\":memory:\") \n",
    "cur = conn.cursor()"
   ]
  },
  {
   "cell_type": "code",
   "execution_count": 7,
   "id": "6eb54d0c-a8b4-42fd-98c2-252395e73801",
   "metadata": {},
   "outputs": [],
   "source": [
    "## Se crea una carpeta donde se almacenarán los scripts en formato .sql\n",
    "!rm -rf tmp\n",
    "!mkdir -p tmp"
   ]
  },
  {
   "cell_type": "markdown",
   "id": "af4a7ec8-4262-4e6c-a8e1-4446af00497a",
   "metadata": {},
   "source": [
    "A continuación se crea la tabla a usar y se establece el esquema de la tabla:"
   ]
  },
  {
   "cell_type": "code",
   "execution_count": 2,
   "id": "b3832850-8f43-40cf-ac4c-56331380a351",
   "metadata": {},
   "outputs": [],
   "source": [
    "## Se crea la tabla \n",
    "cur.executescript(\n",
    "    \"\"\"\n",
    "    DROP TABLE IF EXISTS cars;\n",
    "\n",
    "    CREATE TABLE cars (\n",
    "        Id             INT,\n",
    "        symboling      FLOAT(8,4),\n",
    "        normalized_losses      INT,\n",
    "        make      VARCHAR(20),\n",
    "        fuel_type      VARCHAR(20),\n",
    "        aspiration      VARCHAR(20),\n",
    "        num_of_doors      VARCHAR(20),\n",
    "        body_style      VARCHAR(20),\n",
    "        drive_wheels      VARCHAR(20),\n",
    "        engine_location      VARCHAR(20),\n",
    "        wheel_base       FLOAT(8,4),\n",
    "        length      FLOAT(8,4),\n",
    "        width      FLOAT(8,4),\n",
    "        height      FLOAT(8,4),\n",
    "        curb_weight      FLOAT(8,4),\n",
    "        engine_type      VARCHAR(20),\n",
    "        num_of_cylinders      VARCHAR(20),\n",
    "        engine_size      FLOAT(8,4),\n",
    "        fuel_system      VARCHAR(20),\n",
    "        bore      FLOAT(8,4),\n",
    "        stroke      FLOAT(8,4),\n",
    "        compression_ratio      INT,\n",
    "        horsepower      INT,\n",
    "        peak_rpm      INT,\n",
    "        city_mpg      INT,\n",
    "        highway_mpg      INT,\n",
    "        price      INT\n",
    "        );\n",
    "    \"\"\"\n",
    ")\n",
    "\n",
    "conn.commit()"
   ]
  },
  {
   "cell_type": "code",
   "execution_count": 3,
   "id": "b409b55c-5bed-4826-99b2-e889334a0de5",
   "metadata": {},
   "outputs": [
    {
     "data": {
      "text/plain": [
       "[('cars',)]"
      ]
     },
     "execution_count": 3,
     "metadata": {},
     "output_type": "execute_result"
    }
   ],
   "source": [
    "## Verificamos las tasblas existentes\n",
    "cur.execute(\"SELECT name FROM sqlite_master WHERE type='table';\").fetchall()"
   ]
  },
  {
   "cell_type": "code",
   "execution_count": 4,
   "id": "dec031a0",
   "metadata": {},
   "outputs": [
    {
     "data": {
      "text/plain": [
       "[]"
      ]
     },
     "execution_count": 4,
     "metadata": {},
     "output_type": "execute_result"
    }
   ],
   "source": [
    "## Verificamos las bases de datos existentes\n",
    "cur.execute(\"SELECT name FROM sqlite_master WHERE type='database';\").fetchall()"
   ]
  },
  {
   "cell_type": "markdown",
   "id": "ac2df7d8-5816-49cf-b98a-a888391cb61b",
   "metadata": {},
   "source": [
    "A continuación se cargaran los datos `data/cars.csv` a una tabla, de los cuales se puede leer la descripción en el archivo `Data/description.txt`:"
   ]
  },
  {
   "cell_type": "code",
   "execution_count": 5,
   "id": "fe09d539-b1ac-443d-81c1-08ac15ff2762",
   "metadata": {},
   "outputs": [],
   "source": [
    "import pandas as pd\n",
    "\n",
    "drivers = pd.read_csv(\"Data/input/cars.csv\", sep=\";\")\n",
    "n = 1\n",
    "lista = []\n",
    "for i, row in drivers.iterrows():\n",
    "    sql = \"INSERT INTO cars VALUES (?,?,?,?,?,?,?,?,?,?,?,?,?,?,?,?,?,?,?,?,?,?,?,?,?,?,?)\"\n",
    "    cur.execute(sql, tuple([n] + list(row)))   \n",
    "    conn.commit()\n",
    "    lista.append(tuple([n] + list(row)))\n",
    "    n += 1"
   ]
  },
  {
   "cell_type": "code",
   "execution_count": 8,
   "id": "4e171337",
   "metadata": {},
   "outputs": [
    {
     "data": {
      "text/plain": [
       "[(1,\n",
       "  2.0,\n",
       "  164,\n",
       "  'audi',\n",
       "  'gas',\n",
       "  'std',\n",
       "  'four',\n",
       "  'sedan',\n",
       "  '4wd',\n",
       "  'front',\n",
       "  99.4,\n",
       "  176.6,\n",
       "  66.4,\n",
       "  54.3,\n",
       "  2824.0,\n",
       "  'ohc',\n",
       "  'five',\n",
       "  136.0,\n",
       "  'mpfi',\n",
       "  3.19,\n",
       "  3.4,\n",
       "  8,\n",
       "  115,\n",
       "  5500,\n",
       "  18,\n",
       "  22,\n",
       "  17450)]"
      ]
     },
     "execution_count": 8,
     "metadata": {},
     "output_type": "execute_result"
    }
   ],
   "source": [
    "#\n",
    "# Verificación\n",
    "#\n",
    "cur.execute(\"SELECT * FROM cars LIMIT 1;\").fetchall()"
   ]
  },
  {
   "cell_type": "markdown",
   "id": "7e905699-777f-4e58-9a22-a105597d47ea",
   "metadata": {},
   "source": [
    "Dada la integración con Python, es posible ejecutar consultas sobre SqlLite3 e interactuar con funciones de usuario en Python:"
   ]
  },
  {
   "cell_type": "code",
   "execution_count": 12,
   "id": "ee8c8fa3",
   "metadata": {},
   "outputs": [
    {
     "data": {
      "text/plain": [
       "[('chevrolet', 'gas', 'two', 5151, 5723.0, 6295),\n",
       " ('chevrolet', 'gas', 'four', 6575, 6575.0, 6575),\n",
       " ('nissan', 'diesel', 'two', 7099, 7099.0, 7099),\n",
       " ('subaru', 'gas', 'two', 5118, 6591.333333333333, 7603),\n",
       " ('volkswagen', 'diesel', 'two', 7775, 7775.0, 7775),\n",
       " ('plymouth', 'gas', 'two', 5572, 6764.5, 7957),\n",
       " ('dodge', 'gas', 'four', 6229, 7362.75, 8921),\n",
       " ('plymouth', 'gas', 'four', 6229, 7362.75, 8921),\n",
       " ('mitsubishi', 'gas', 'four', 6989, 8434.0, 9279),\n",
       " ('volkswagen', 'diesel', 'four', 7995, 8745.0, 9495),\n",
       " ('mitsubishi', 'gas', 'two', 5389, 7399.0, 9959),\n",
       " ('volkswagen', 'gas', 'two', 7975, 8977.5, 9980),\n",
       " ('volkswagen', 'gas', 'four', 8195, 8895.0, 9995),\n",
       " ('honda', 'gas', 'two', 5399, 7465.75, 10345),\n",
       " ('mazda', 'gas', 'two', 5195, 7505.0, 10595),\n",
       " ('toyota', 'diesel', 'four', 7788, 8794.666666666666, 10698),\n",
       " ('subaru', 'gas', 'four', 7126, 9191.222222222223, 11694),\n",
       " ('honda', 'gas', 'four', 7295, 9335.0, 12945),\n",
       " ('dodge', 'gas', 'two', 5572, 8217.5, 12964),\n",
       " ('nissan', 'gas', 'four', 6849, 9954.555555555555, 14399),\n",
       " ('toyota', 'gas', 'four', 6488, 9024.57142857143, 15690),\n",
       " ('toyota', 'gas', 'two', 5348, 10562.0, 17669),\n",
       " ('peugot', 'diesel', 'four', 13200, 16016.666666666666, 17950),\n",
       " ('peugot', 'gas', 'four', 11900, 15565.0, 18150),\n",
       " ('saab', 'gas', 'two', 11850, 15013.333333333334, 18150),\n",
       " ('mazda', 'gas', 'four', 6695, 10392.5, 18280),\n",
       " ('saab', 'gas', 'four', 12170, 15433.333333333334, 18620),\n",
       " ('nissan', 'gas', 'two', 5499, 11349.0, 19699),\n",
       " ('bmw', 'gas', 'two', 16430, 18700.0, 20970),\n",
       " ('bmw', 'gas', 'four', 16925, 19015.0, 21105),\n",
       " ('porsche', 'gas', 'two', 22018, 22018.0, 22018),\n",
       " ('volvo', 'diesel', 'four', 22470, 22470.0, 22470),\n",
       " ('volvo', 'gas', 'four', 12940, 17622.5, 22625),\n",
       " ('audi', 'gas', 'four', 17450, 19678.333333333332, 23875),\n",
       " ('mercedes-benz', 'diesel', 'two', 28176, 28176.0, 28176),\n",
       " ('mercedes-benz', 'diesel', 'four', 25552, 28466.666666666668, 31600),\n",
       " ('jaguar', 'gas', 'four', 32250, 32250.0, 32250),\n",
       " ('mercedes-benz', 'gas', 'two', 35056, 35056.0, 35056)]"
      ]
     },
     "execution_count": 12,
     "metadata": {},
     "output_type": "execute_result"
    }
   ],
   "source": [
    "## Se obtiene por marca, tipo de de combustible y número de puestas el precio mīnimio, precio máximo, y precio promedio\n",
    "cur.execute(\"\"\"\n",
    "SELECT \n",
    "make,\n",
    "fuel_type,\n",
    "num_of_doors,\n",
    "MIN(price) AS min_price,\n",
    "AVG(price) AS avg_price,\n",
    "MAX(price) AS max_price\n",
    "FROM cars\n",
    "GROUP BY fuel_type, num_of_doors, make \n",
    "ORDER BY max_price;\n",
    "\"\"\").fetchall()"
   ]
  },
  {
   "cell_type": "code",
   "execution_count": 13,
   "id": "0f1ba684-7e98-4187-9f75-46c27f9ff8cd",
   "metadata": {},
   "outputs": [
    {
     "name": "stdout",
     "output_type": "stream",
     "text": [
      "Writing /tmp/query_make.sql\n"
     ]
    }
   ],
   "source": [
    "%%writefile /tmp/query_make.sql\n",
    "SELECT \n",
    "make,\n",
    "fuel_type,\n",
    " num_of_doors,\n",
    " MIN(price) AS min_price,\n",
    " AVG(price) AS avg_price,\n",
    " MAX(price) AS max_price \n",
    "FROM cars \n",
    "WHERE make = {}{}{}\n",
    "GROUP BY fuel_type,num_of_doors,make \n",
    "ORDER BY max_price;"
   ]
  },
  {
   "cell_type": "code",
   "execution_count": 14,
   "id": "9341b544-ab1b-4f1f-96dd-0d6bd1158254",
   "metadata": {},
   "outputs": [],
   "source": [
    "def make_query(make):\n",
    "    file = open(\"/tmp/query_make.sql\", 'r').read()\n",
    "    query = file.format(\"'\",str(make),\"'\")\n",
    "    query_path = \"tmp/query_make_{}.sql\".format(make)\n",
    "    with open(query_path, 'w') as f:\n",
    "        f.write(query)\n",
    "    f.close()\n",
    "    return query_path"
   ]
  },
  {
   "cell_type": "code",
   "execution_count": 15,
   "id": "2b6d4f2b-b365-4421-b9cf-87bd6211d271",
   "metadata": {},
   "outputs": [
    {
     "data": {
      "text/plain": [
       "'tmp/query_make_jaguar.sql'"
      ]
     },
     "execution_count": 15,
     "metadata": {},
     "output_type": "execute_result"
    }
   ],
   "source": [
    "make_query(\"jaguar\")"
   ]
  },
  {
   "cell_type": "code",
   "execution_count": 16,
   "id": "32f2950c-f762-4799-b653-85b300293678",
   "metadata": {},
   "outputs": [
    {
     "data": {
      "text/plain": [
       "'tmp/query_make_mazda.sql'"
      ]
     },
     "execution_count": 16,
     "metadata": {},
     "output_type": "execute_result"
    }
   ],
   "source": [
    "make_query(\"mazda\")"
   ]
  },
  {
   "cell_type": "code",
   "execution_count": 17,
   "id": "1daa3c27-7991-4f31-9157-be99e37456d0",
   "metadata": {},
   "outputs": [
    {
     "data": {
      "text/plain": [
       "'tmp/query_make_toyota.sql'"
      ]
     },
     "execution_count": 17,
     "metadata": {},
     "output_type": "execute_result"
    }
   ],
   "source": [
    "make_query(\"toyota\")"
   ]
  },
  {
   "cell_type": "code",
   "execution_count": 106,
   "id": "9a866bcc",
   "metadata": {},
   "outputs": [],
   "source": [
    "import csv\n",
    "def query_to_csv(sql_file):\n",
    "   with open(sql_file, 'r') as file:\n",
    "      data = cur.execute(file.read()).fetchall()\n",
    "      out = open(str(sql_file.split(\"/\")[1]).split(\".\")[0]+'.csv','w') #sql_file.split(\"/\")[1].split['.'][0]\n",
    "      csv_out=csv.writer(out)\n",
    "      csv_out.writerows([[str(e) for e in row] for row in data])\n",
    "      file.close()\n",
    "      out.close()\n"
   ]
  },
  {
   "cell_type": "code",
   "execution_count": 105,
   "id": "62752c6e",
   "metadata": {},
   "outputs": [],
   "source": [
    "query_to_csv('tmp/query_make_toyota.sql')"
   ]
  },
  {
   "cell_type": "markdown",
   "id": "8871486a-9fc0-4d2e-a0f8-e34675e7b699",
   "metadata": {},
   "source": [
    "**Operaciones de ventana**"
   ]
  },
  {
   "cell_type": "code",
   "execution_count": 111,
   "id": "9ac918db-39a6-4f56-8ef5-f37c145eefde",
   "metadata": {},
   "outputs": [
    {
     "name": "stdout",
     "output_type": "stream",
     "text": [
      "Writing tmp/sqlite_window_func_1.sql\n"
     ]
    }
   ],
   "source": [
    "%%writefile tmp/sqlite_window_func_1.sql\n",
    "SELECT \n",
    "RANK() OVER (PARTITION BY engine_location ORDER BY aspiration DESC) AS rank, \n",
    "DENSE_RANK() OVER (PARTITION BY engine_location ORDER BY aspiration DESC) AS dense_rank, \n",
    "ROW_NUMBER() OVER (PARTITION BY engine_location ORDER BY aspiration DESC) AS row_num,\n",
    "engine_location, aspiration\n",
    "FROM cars;"
   ]
  },
  {
   "cell_type": "code",
   "execution_count": 114,
   "id": "0d66ccdb-7c72-44c6-9114-75ed82a0243d",
   "metadata": {},
   "outputs": [
    {
     "data": {
      "text/plain": [
       "[(1, 1, 1, 'front', 'turbo'),\n",
       " (1, 1, 2, 'front', 'turbo'),\n",
       " (1, 1, 3, 'front', 'turbo'),\n",
       " (1, 1, 4, 'front', 'turbo'),\n",
       " (1, 1, 5, 'front', 'turbo'),\n",
       " (1, 1, 6, 'front', 'turbo'),\n",
       " (1, 1, 7, 'front', 'turbo'),\n",
       " (1, 1, 8, 'front', 'turbo'),\n",
       " (1, 1, 9, 'front', 'turbo'),\n",
       " (1, 1, 10, 'front', 'turbo'),\n",
       " (1, 1, 11, 'front', 'turbo'),\n",
       " (1, 1, 12, 'front', 'turbo'),\n",
       " (1, 1, 13, 'front', 'turbo'),\n",
       " (1, 1, 14, 'front', 'turbo'),\n",
       " (1, 1, 15, 'front', 'turbo'),\n",
       " (1, 1, 16, 'front', 'turbo'),\n",
       " (1, 1, 17, 'front', 'turbo'),\n",
       " (1, 1, 18, 'front', 'turbo'),\n",
       " (1, 1, 19, 'front', 'turbo'),\n",
       " (1, 1, 20, 'front', 'turbo'),\n",
       " (1, 1, 21, 'front', 'turbo'),\n",
       " (1, 1, 22, 'front', 'turbo'),\n",
       " (1, 1, 23, 'front', 'turbo'),\n",
       " (1, 1, 24, 'front', 'turbo'),\n",
       " (1, 1, 25, 'front', 'turbo'),\n",
       " (1, 1, 26, 'front', 'turbo'),\n",
       " (1, 1, 27, 'front', 'turbo'),\n",
       " (28, 2, 28, 'front', 'std'),\n",
       " (28, 2, 29, 'front', 'std'),\n",
       " (28, 2, 30, 'front', 'std'),\n",
       " (28, 2, 31, 'front', 'std'),\n",
       " (28, 2, 32, 'front', 'std'),\n",
       " (28, 2, 33, 'front', 'std'),\n",
       " (28, 2, 34, 'front', 'std'),\n",
       " (28, 2, 35, 'front', 'std'),\n",
       " (28, 2, 36, 'front', 'std'),\n",
       " (28, 2, 37, 'front', 'std'),\n",
       " (28, 2, 38, 'front', 'std'),\n",
       " (28, 2, 39, 'front', 'std'),\n",
       " (28, 2, 40, 'front', 'std'),\n",
       " (28, 2, 41, 'front', 'std'),\n",
       " (28, 2, 42, 'front', 'std'),\n",
       " (28, 2, 43, 'front', 'std'),\n",
       " (28, 2, 44, 'front', 'std'),\n",
       " (28, 2, 45, 'front', 'std'),\n",
       " (28, 2, 46, 'front', 'std'),\n",
       " (28, 2, 47, 'front', 'std'),\n",
       " (28, 2, 48, 'front', 'std'),\n",
       " (28, 2, 49, 'front', 'std'),\n",
       " (28, 2, 50, 'front', 'std'),\n",
       " (28, 2, 51, 'front', 'std'),\n",
       " (28, 2, 52, 'front', 'std'),\n",
       " (28, 2, 53, 'front', 'std'),\n",
       " (28, 2, 54, 'front', 'std'),\n",
       " (28, 2, 55, 'front', 'std'),\n",
       " (28, 2, 56, 'front', 'std'),\n",
       " (28, 2, 57, 'front', 'std'),\n",
       " (28, 2, 58, 'front', 'std'),\n",
       " (28, 2, 59, 'front', 'std'),\n",
       " (28, 2, 60, 'front', 'std'),\n",
       " (28, 2, 61, 'front', 'std'),\n",
       " (28, 2, 62, 'front', 'std'),\n",
       " (28, 2, 63, 'front', 'std'),\n",
       " (28, 2, 64, 'front', 'std'),\n",
       " (28, 2, 65, 'front', 'std'),\n",
       " (28, 2, 66, 'front', 'std'),\n",
       " (28, 2, 67, 'front', 'std'),\n",
       " (28, 2, 68, 'front', 'std'),\n",
       " (28, 2, 69, 'front', 'std'),\n",
       " (28, 2, 70, 'front', 'std'),\n",
       " (28, 2, 71, 'front', 'std'),\n",
       " (28, 2, 72, 'front', 'std'),\n",
       " (28, 2, 73, 'front', 'std'),\n",
       " (28, 2, 74, 'front', 'std'),\n",
       " (28, 2, 75, 'front', 'std'),\n",
       " (28, 2, 76, 'front', 'std'),\n",
       " (28, 2, 77, 'front', 'std'),\n",
       " (28, 2, 78, 'front', 'std'),\n",
       " (28, 2, 79, 'front', 'std'),\n",
       " (28, 2, 80, 'front', 'std'),\n",
       " (28, 2, 81, 'front', 'std'),\n",
       " (28, 2, 82, 'front', 'std'),\n",
       " (28, 2, 83, 'front', 'std'),\n",
       " (28, 2, 84, 'front', 'std'),\n",
       " (28, 2, 85, 'front', 'std'),\n",
       " (28, 2, 86, 'front', 'std'),\n",
       " (28, 2, 87, 'front', 'std'),\n",
       " (28, 2, 88, 'front', 'std'),\n",
       " (28, 2, 89, 'front', 'std'),\n",
       " (28, 2, 90, 'front', 'std'),\n",
       " (28, 2, 91, 'front', 'std'),\n",
       " (28, 2, 92, 'front', 'std'),\n",
       " (28, 2, 93, 'front', 'std'),\n",
       " (28, 2, 94, 'front', 'std'),\n",
       " (28, 2, 95, 'front', 'std'),\n",
       " (28, 2, 96, 'front', 'std'),\n",
       " (28, 2, 97, 'front', 'std'),\n",
       " (28, 2, 98, 'front', 'std'),\n",
       " (28, 2, 99, 'front', 'std'),\n",
       " (28, 2, 100, 'front', 'std'),\n",
       " (28, 2, 101, 'front', 'std'),\n",
       " (28, 2, 102, 'front', 'std'),\n",
       " (28, 2, 103, 'front', 'std'),\n",
       " (28, 2, 104, 'front', 'std'),\n",
       " (28, 2, 105, 'front', 'std'),\n",
       " (28, 2, 106, 'front', 'std'),\n",
       " (28, 2, 107, 'front', 'std'),\n",
       " (28, 2, 108, 'front', 'std'),\n",
       " (28, 2, 109, 'front', 'std'),\n",
       " (28, 2, 110, 'front', 'std'),\n",
       " (28, 2, 111, 'front', 'std'),\n",
       " (28, 2, 112, 'front', 'std'),\n",
       " (28, 2, 113, 'front', 'std'),\n",
       " (28, 2, 114, 'front', 'std'),\n",
       " (28, 2, 115, 'front', 'std'),\n",
       " (28, 2, 116, 'front', 'std'),\n",
       " (28, 2, 117, 'front', 'std'),\n",
       " (28, 2, 118, 'front', 'std'),\n",
       " (28, 2, 119, 'front', 'std'),\n",
       " (28, 2, 120, 'front', 'std'),\n",
       " (28, 2, 121, 'front', 'std'),\n",
       " (28, 2, 122, 'front', 'std'),\n",
       " (28, 2, 123, 'front', 'std'),\n",
       " (28, 2, 124, 'front', 'std'),\n",
       " (28, 2, 125, 'front', 'std'),\n",
       " (28, 2, 126, 'front', 'std'),\n",
       " (28, 2, 127, 'front', 'std'),\n",
       " (28, 2, 128, 'front', 'std'),\n",
       " (28, 2, 129, 'front', 'std'),\n",
       " (28, 2, 130, 'front', 'std'),\n",
       " (28, 2, 131, 'front', 'std'),\n",
       " (28, 2, 132, 'front', 'std'),\n",
       " (28, 2, 133, 'front', 'std'),\n",
       " (28, 2, 134, 'front', 'std'),\n",
       " (28, 2, 135, 'front', 'std'),\n",
       " (28, 2, 136, 'front', 'std'),\n",
       " (28, 2, 137, 'front', 'std'),\n",
       " (28, 2, 138, 'front', 'std'),\n",
       " (28, 2, 139, 'front', 'std'),\n",
       " (28, 2, 140, 'front', 'std'),\n",
       " (28, 2, 141, 'front', 'std'),\n",
       " (28, 2, 142, 'front', 'std'),\n",
       " (28, 2, 143, 'front', 'std'),\n",
       " (28, 2, 144, 'front', 'std'),\n",
       " (28, 2, 145, 'front', 'std'),\n",
       " (28, 2, 146, 'front', 'std'),\n",
       " (28, 2, 147, 'front', 'std'),\n",
       " (28, 2, 148, 'front', 'std'),\n",
       " (28, 2, 149, 'front', 'std'),\n",
       " (28, 2, 150, 'front', 'std'),\n",
       " (28, 2, 151, 'front', 'std'),\n",
       " (28, 2, 152, 'front', 'std'),\n",
       " (28, 2, 153, 'front', 'std'),\n",
       " (28, 2, 154, 'front', 'std'),\n",
       " (28, 2, 155, 'front', 'std'),\n",
       " (28, 2, 156, 'front', 'std'),\n",
       " (28, 2, 157, 'front', 'std'),\n",
       " (28, 2, 158, 'front', 'std')]"
      ]
     },
     "execution_count": 114,
     "metadata": {},
     "output_type": "execute_result"
    }
   ],
   "source": [
    "cur.execute(open('tmp/sqlite_window_func_1.sql', 'r').read()).fetchall()"
   ]
  },
  {
   "cell_type": "code",
   "execution_count": 118,
   "id": "b7707d22-02dc-464b-bb2f-47aab9eaf741",
   "metadata": {},
   "outputs": [
    {
     "name": "stdout",
     "output_type": "stream",
     "text": [
      "Overwriting tmp/sqlite_window_func_2.sql\n"
     ]
    }
   ],
   "source": [
    "%%writefile tmp/sqlite_window_func_2.sql\n",
    "SELECT \n",
    "Id, drive_wheels, price,\n",
    "LAG(price,1) OVER (ORDER BY price) AS price_lag\n",
    "FROM cars;"
   ]
  },
  {
   "cell_type": "code",
   "execution_count": 119,
   "id": "c19298bf-7fc0-436f-919d-5129b945862a",
   "metadata": {},
   "outputs": [
    {
     "data": {
      "text/plain": [
       "[(97, 'fwd', 5118, None),\n",
       " (8, 'fwd', 5151, 5118),\n",
       " (33, 'fwd', 5195, 5151),\n",
       " (109, 'fwd', 5348, 5195),\n",
       " (49, 'fwd', 5389, 5348),\n",
       " (21, 'fwd', 5399, 5389),\n",
       " (59, 'fwd', 5499, 5399),\n",
       " (11, 'fwd', 5572, 5499),\n",
       " (84, 'fwd', 5572, 5572),\n",
       " (34, 'fwd', 6095, 5572),\n",
       " (50, 'fwd', 6189, 6095),\n",
       " (14, 'fwd', 6229, 6189),\n",
       " (86, 'fwd', 6229, 6229),\n",
       " (9, 'fwd', 6295, 6229),\n",
       " (110, 'fwd', 6338, 6295),\n",
       " (12, 'fwd', 6377, 6338),\n",
       " (19, 'fwd', 6479, 6377),\n",
       " (111, 'fwd', 6488, 6479),\n",
       " (22, 'fwd', 6529, 6488),\n",
       " (10, 'fwd', 6575, 6529),\n",
       " (61, 'fwd', 6649, 6575),\n",
       " (51, 'fwd', 6669, 6649),\n",
       " (15, 'fwd', 6692, 6669),\n",
       " (87, 'fwd', 6692, 6692),\n",
       " (36, 'fwd', 6695, 6692),\n",
       " (35, 'fwd', 6795, 6695),\n",
       " (62, 'fwd', 6849, 6795),\n",
       " (20, 'fwd', 6855, 6849),\n",
       " (112, 'fwd', 6918, 6855),\n",
       " (115, 'fwd', 6938, 6918),\n",
       " (55, 'fwd', 6989, 6938),\n",
       " (98, 'fwd', 7053, 6989),\n",
       " (60, 'fwd', 7099, 7053),\n",
       " (100, 'fwd', 7126, 7099),\n",
       " (23, 'fwd', 7129, 7126),\n",
       " (116, 'fwd', 7198, 7129),\n",
       " (24, 'fwd', 7295, 7198),\n",
       " (25, 'fwd', 7295, 7295),\n",
       " (64, 'fwd', 7299, 7295),\n",
       " (63, 'fwd', 7349, 7299),\n",
       " (37, 'fwd', 7395, 7349),\n",
       " (105, 'fwd', 7463, 7395),\n",
       " (66, 'fwd', 7499, 7463),\n",
       " (99, '4wd', 7603, 7499),\n",
       " (16, 'fwd', 7609, 7603),\n",
       " (88, 'fwd', 7609, 7609),\n",
       " (52, 'fwd', 7689, 7609),\n",
       " (119, 'fwd', 7738, 7689),\n",
       " (101, 'fwd', 7775, 7738),\n",
       " (140, 'fwd', 7775, 7775),\n",
       " (118, 'fwd', 7788, 7775),\n",
       " (65, 'fwd', 7799, 7788),\n",
       " (26, 'fwd', 7895, 7799),\n",
       " (113, '4wd', 7898, 7895),\n",
       " (117, 'fwd', 7898, 7898),\n",
       " (13, 'fwd', 7957, 7898),\n",
       " (85, 'fwd', 7957, 7957),\n",
       " (141, 'fwd', 7975, 7957),\n",
       " (142, 'fwd', 7995, 7975),\n",
       " (67, 'fwd', 7999, 7995),\n",
       " (107, '4wd', 8013, 7999),\n",
       " (122, 'rwd', 8058, 8013),\n",
       " (56, 'fwd', 8189, 8058),\n",
       " (143, 'fwd', 8195, 8189),\n",
       " (123, 'rwd', 8238, 8195),\n",
       " (68, 'fwd', 8249, 8238),\n",
       " (120, 'fwd', 8358, 8249),\n",
       " (126, 'rwd', 8449, 8358),\n",
       " (39, 'fwd', 8495, 8449),\n",
       " (144, 'fwd', 8495, 8495),\n",
       " (54, 'fwd', 8499, 8495),\n",
       " (114, '4wd', 8778, 8499),\n",
       " (28, 'fwd', 8845, 8778),\n",
       " (38, 'fwd', 8845, 8845),\n",
       " (17, 'fwd', 8921, 8845),\n",
       " (89, 'fwd', 8921, 8921),\n",
       " (132, 'fwd', 8948, 8921),\n",
       " (69, 'fwd', 8949, 8948),\n",
       " (27, 'fwd', 9095, 8949),\n",
       " (103, '4wd', 9233, 9095),\n",
       " (121, 'fwd', 9258, 9233),\n",
       " (57, 'fwd', 9279, 9258),\n",
       " (58, 'fwd', 9279, 9279),\n",
       " (124, 'rwd', 9298, 9279),\n",
       " (145, 'fwd', 9495, 9298),\n",
       " (125, 'rwd', 9538, 9495),\n",
       " (70, 'fwd', 9549, 9538),\n",
       " (127, 'rwd', 9639, 9549),\n",
       " (53, 'fwd', 9959, 9639),\n",
       " (102, 'fwd', 9960, 9959),\n",
       " (147, 'fwd', 9980, 9960),\n",
       " (134, 'fwd', 9988, 9980),\n",
       " (128, 'rwd', 9989, 9988),\n",
       " (146, 'fwd', 9995, 9989),\n",
       " (106, 'fwd', 10198, 9995),\n",
       " (41, 'fwd', 10245, 10198),\n",
       " (29, 'fwd', 10295, 10245),\n",
       " (31, 'fwd', 10345, 10295),\n",
       " (40, 'fwd', 10595, 10345),\n",
       " (133, 'fwd', 10698, 10595),\n",
       " (135, 'fwd', 10898, 10698),\n",
       " (129, 'rwd', 11199, 10898),\n",
       " (42, 'fwd', 11245, 11199),\n",
       " (136, 'fwd', 11248, 11245),\n",
       " (104, '4wd', 11259, 11248),\n",
       " (130, 'rwd', 11549, 11259),\n",
       " (108, '4wd', 11694, 11549),\n",
       " (91, 'fwd', 11850, 11694),\n",
       " (77, 'rwd', 11900, 11850),\n",
       " (92, 'fwd', 12170, 11900),\n",
       " (148, 'rwd', 12940, 12170),\n",
       " (30, 'fwd', 12945, 12940),\n",
       " (18, 'fwd', 12964, 12945),\n",
       " (78, 'rwd', 13200, 12964),\n",
       " (149, 'rwd', 13415, 13200),\n",
       " (71, 'fwd', 13499, 13415),\n",
       " (73, 'fwd', 13499, 13499),\n",
       " (72, 'fwd', 14399, 13499),\n",
       " (93, 'fwd', 15040, 14399),\n",
       " (94, 'fwd', 15510, 15040),\n",
       " (79, 'rwd', 15580, 15510),\n",
       " (139, 'rwd', 15690, 15580),\n",
       " (150, 'rwd', 15985, 15690),\n",
       " (138, 'rwd', 15998, 15985),\n",
       " (4, 'rwd', 16430, 15998),\n",
       " (151, 'rwd', 16515, 16430),\n",
       " (137, 'rwd', 16558, 16515),\n",
       " (81, 'rwd', 16630, 16558),\n",
       " (154, 'rwd', 16845, 16630),\n",
       " (80, 'rwd', 16900, 16845),\n",
       " (5, 'rwd', 16925, 16900),\n",
       " (74, 'rwd', 17199, 16925),\n",
       " (1, '4wd', 17450, 17199),\n",
       " (131, 'rwd', 17669, 17450),\n",
       " (2, 'fwd', 17710, 17669),\n",
       " (82, 'rwd', 17950, 17710),\n",
       " (83, 'rwd', 18150, 17950),\n",
       " (95, 'fwd', 18150, 18150),\n",
       " (43, 'rwd', 18280, 18150),\n",
       " (76, 'rwd', 18399, 18280),\n",
       " (152, 'rwd', 18420, 18399),\n",
       " (96, 'fwd', 18620, 18420),\n",
       " (153, 'rwd', 18950, 18620),\n",
       " (155, 'rwd', 19045, 18950),\n",
       " (75, 'rwd', 19699, 19045),\n",
       " (6, 'rwd', 20970, 19699),\n",
       " (7, 'rwd', 21105, 20970),\n",
       " (156, 'rwd', 21485, 21105),\n",
       " (90, 'rwd', 22018, 21485),\n",
       " (157, 'rwd', 22470, 22018),\n",
       " (158, 'rwd', 22625, 22470),\n",
       " (3, 'fwd', 23875, 22625),\n",
       " (44, 'rwd', 25552, 23875),\n",
       " (46, 'rwd', 28176, 25552),\n",
       " (45, 'rwd', 28248, 28176),\n",
       " (47, 'rwd', 31600, 28248),\n",
       " (32, 'rwd', 32250, 31600),\n",
       " (48, 'rwd', 35056, 32250)]"
      ]
     },
     "execution_count": 119,
     "metadata": {},
     "output_type": "execute_result"
    }
   ],
   "source": [
    "cur.execute(open('tmp/sqlite_window_func_2.sql', 'r').read()).fetchall()"
   ]
  },
  {
   "cell_type": "markdown",
   "id": "1676c16b",
   "metadata": {},
   "source": [
    "---"
   ]
  }
 ],
 "metadata": {
  "kernelspec": {
   "display_name": "Python 3.9.13 64-bit",
   "language": "python",
   "name": "python3"
  },
  "language_info": {
   "codemirror_mode": {
    "name": "ipython",
    "version": 3
   },
   "file_extension": ".py",
   "mimetype": "text/x-python",
   "name": "python",
   "nbconvert_exporter": "python",
   "pygments_lexer": "ipython3",
   "version": "3.9.13"
  },
  "vscode": {
   "interpreter": {
    "hash": "aee8b7b246df8f9039afb4144a1f6fd8d2ca17a180786b69acc140d282b71a49"
   }
  }
 },
 "nbformat": 4,
 "nbformat_minor": 5
}
