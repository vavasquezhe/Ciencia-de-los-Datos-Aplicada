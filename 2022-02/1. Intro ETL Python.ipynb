{
 "cells": [
  {
   "cell_type": "markdown",
   "metadata": {
    "tags": []
   },
   "source": [
    "## ETL in Python\n",
    "---"
   ]
  },
  {
   "cell_type": "markdown",
   "metadata": {
    "tags": []
   },
   "source": [
    "## Ciencia de los Datos Aplicada\n",
    "* ##### Facultad de Minas\n",
    "* ##### Universidad Nacional de Colombia\n",
    "* ##### Autor: Valentina Vásquez Hernandez"
   ]
  },
  {
   "cell_type": "markdown",
   "metadata": {},
   "source": [
    "---"
   ]
  },
  {
   "cell_type": "markdown",
   "metadata": {},
   "source": [
    "### 1. Definición del problema en términos del negocio"
   ]
  },
  {
   "cell_type": "markdown",
   "metadata": {},
   "source": [
    "Los archivos `Traditional_exports_<year>` corresponden a las exportaciones colombianas de café, carbón, ferroníquel y petróleo y sus derivados, denominados como tradicionales, y que representan aproximadamente el 62% de las exportaciones totales del país.[1]\n",
    ".\n",
    "Se encuentran medidas en toneladas métricas (volumen de producto en medida internacional) y en dolares FOB (Free On Board) que denota el valor de los productos en las aduanas fronterizas incluyendo el costo de impuestos, derechos de exportación, inspecciones, etc, hasta que este ha sido debidamente puesto en el transporte de salida."
   ]
  },
  {
   "cell_type": "code",
   "execution_count": 17,
   "metadata": {},
   "outputs": [
    {
     "name": "stdout",
     "output_type": "stream",
     "text": [
      "date;unit_measure;coffee;coal;oil_oilbyproducts;ferronickel \n",
      "1/01/2013;USDkFOB;198__825;331.415;869.485;164.672\n",
      "1/02/2013;USDkFOB;204--067;320.377;798.291;84.737\n",
      "1/03/2013;USDkFOB;185[]607;451.517;1.018.803;NA  \n",
      "1/04/2013;USDkFOB;166::088;505.207;1.008.097;106.612\n",
      "1/05/2013;USDkFOB;147[]223;443.903;1.202.917;59.587\n",
      "1/06/2013;USDkFOB;159-_400;526.593;1.460.899;115.974\n",
      "1/07/2013;USDkFOB;172-_324;512.079;1.335.526;104.470\n",
      "1/08/2013;USDkFOB;116[]587;388.721;1.274.605;59.520\n",
      "1/09/2013;USDkFOB;129--225;416.759;1.208.662;34.901\n"
     ]
    }
   ],
   "source": [
    "! head data/input/Traditional_exports_2013.csv"
   ]
  },
  {
   "cell_type": "markdown",
   "metadata": {},
   "source": [
    "### 2. Definición del problema en términos de los datos"
   ]
  },
  {
   "cell_type": "markdown",
   "metadata": {},
   "source": [
    "El objetivo de este taller es construir el pipeline de una ETL (Extract, Transform and Load) en Python usando PSL para el procesamiento de los datos y Pandas para obtener métricas básicas y disponibilizar el esquema resultante. A continuación un paso a paso para lograr este objetivo:"
   ]
  },
  {
   "cell_type": "code",
   "execution_count": 18,
   "metadata": {},
   "outputs": [
    {
     "name": "stdout",
     "output_type": "stream",
     "text": [
      "Hola\n"
     ]
    }
   ],
   "source": [
    "print(\"Hola\")"
   ]
  },
  {
   "cell_type": "markdown",
   "metadata": {},
   "source": [
    "> `Paso 1: Extract:` Tomar los archivos *Traditional_exports_year*, unificar el formato de las columnas y exportar el resultado a un archivo csv unificado para todos los años.\n",
    "\n",
    "        1. Formatear la fecha a YYYY-MM-dd \n",
    "        2. Unificar las unidades de medida\n",
    "        3. Unificar el separador de miles "
   ]
  },
  {
   "cell_type": "markdown",
   "metadata": {},
   "source": [
    "> `Paso 2: Transform:` Generar las siguientes transformaciones en los datos de acuerdo con el archivo obtenido en el paso anterior:\n",
    "\n",
    "        1. Eliminar registros con registros nulos\n",
    "        2. Obtener al total de exportaciones por año y por unidad de medida\n",
    "        3. Obtener el valor mínimo, máximo y promedio de cada tipo de exportación por año y unidad de medida\n",
    "        4. Obtener gráfica donde se observe la evolución del FOB USD en los años por commodity\n",
    "        5. Obtener gráfica donde se observe el cambio en la composición de las exportaciones por commodity"
   ]
  },
  {
   "cell_type": "markdown",
   "metadata": {},
   "source": [
    "> `Paso 3: Load:` \n",
    "\n",
    "        1. Exportar la tabla obtenida en el numeral 2 del paso anterior a formato .csv, .parquet y .json"
   ]
  },
  {
   "cell_type": "markdown",
   "metadata": {
    "tags": []
   },
   "source": [
    "### Paso 1. Extract"
   ]
  },
  {
   "cell_type": "code",
   "execution_count": 19,
   "metadata": {},
   "outputs": [],
   "source": [
    "## Se importan las librerías necesarias\n",
    "import glob\n",
    "import re\n",
    "import numpy as np\n",
    "import pandas as pd\n",
    "import seaborn as sns\n",
    "import matplotlib.pyplot as plt"
   ]
  },
  {
   "cell_type": "code",
   "execution_count": 20,
   "metadata": {},
   "outputs": [
    {
     "data": {
      "text/plain": [
       "['data/input/Traditional_exports_2017.csv',\n",
       " 'data/input/Traditional_exports_2016.csv',\n",
       " 'data/input/Traditional_exports_2014.csv',\n",
       " 'data/input/Traditional_exports_2015.csv',\n",
       " 'data/input/Traditional_exports_2013.csv',\n",
       " 'data/input/Traditional_exports_2018.csv']"
      ]
     },
     "execution_count": 20,
     "metadata": {},
     "output_type": "execute_result"
    }
   ],
   "source": [
    "## Se muestran los archivos con el patrón de nombre\n",
    "files = glob.glob('data/input/Traditional_*.csv')\n",
    "files"
   ]
  },
  {
   "cell_type": "code",
   "execution_count": 21,
   "metadata": {},
   "outputs": [
    {
     "name": "stdout",
     "output_type": "stream",
     "text": [
      "date;unit_measure;coffee;coal;oil_oilbyproducts;ferronickel \n",
      "1/01/2013;USDkFOB;198__825;331.415;869.485;164.672\n",
      "1/02/2013;USDkFOB;204--067;320.377;798.291;84.737\n",
      "1/03/2013;USDkFOB;185[]607;451.517;1.018.803;NA  \n",
      "1/04/2013;USDkFOB;166::088;505.207;1.008.097;106.612\n",
      "1/05/2013;USDkFOB;147[]223;443.903;1.202.917;59.587\n",
      "1/06/2013;USDkFOB;159-_400;526.593;1.460.899;115.974\n",
      "1/07/2013;USDkFOB;172-_324;512.079;1.335.526;104.470\n",
      "1/08/2013;USDkFOB;116[]587;388.721;1.274.605;59.520\n",
      "1/09/2013;USDkFOB;129--225;416.759;1.208.662;34.901\n"
     ]
    }
   ],
   "source": [
    "! head data/input/Traditional_exports_2013.csv"
   ]
  },
  {
   "cell_type": "code",
   "execution_count": 22,
   "metadata": {},
   "outputs": [
    {
     "data": {
      "text/plain": [
       "['date;unit_measure;coffee;coal;oil_oilbyproducts;ferronickel \\n',\n",
       " '1/01/2013;USDkFOB;198__825;331.415;869.485;164.672\\n',\n",
       " '1/02/2013;USDkFOB;204--067;320.377;798.291;84.737\\n',\n",
       " '1/03/2013;USDkFOB;185[]607;451.517;1.018.803;NA  \\n',\n",
       " '1/04/2013;USDkFOB;166::088;505.207;1.008.097;106.612\\n',\n",
       " '1/05/2013;USDkFOB;147[]223;443.903;1.202.917;59.587\\n',\n",
       " '1/06/2013;USDkFOB;159-_400;526.593;1.460.899;115.974\\n',\n",
       " '1/07/2013;USDkFOB;172-_324;512.079;1.335.526;104.470\\n',\n",
       " '1/08/2013;USDkFOB;116[]587;388.721;1.274.605;59.520\\n',\n",
       " '1/09/2013;USDkFOB;129--225;416.759;1.208.662;34.901\\n',\n",
       " '1/10/2013;USDkFOB;128__630;372.998;899.103;0\\n',\n",
       " '1/11/2013;USDkFOB;99::066;119.325;647.674;13.064\\n',\n",
       " '1/12/2013;USDkFOB;147&&924;123.714;486.439;34.677\\n',\n",
       " '1/01/2013;MetricTons;66[]969;5.680.613;1.629.315;17.404\\n',\n",
       " '1/02/2013;MetricTons;67&&361;4.652.213;1.398.563;9.584\\n',\n",
       " '1/03/2013;MetricTons;57::227;6.990.127;1.646.669;NA  \\n',\n",
       " '1/04/2013;MetricTons;50-_740;7.198.798;1.608.215;11.157\\n',\n",
       " '1/05/2013;MetricTons;45&&863;5.948.872;1.655.379;6.264\\n',\n",
       " '1/06/2013;MetricTons;49&&634;6.747.136;1.832.509;13.539\\n',\n",
       " '1/07/2013;MetricTons;53::000;6.177.986;1.706.649;14.216\\n',\n",
       " '1/08/2013;MetricTons;35-_684;4.689.358;1.869.422;8.991\\n',\n",
       " '1/09/2013;MetricTons;38&&984;4.671.754;1.921.589;5.581\\n',\n",
       " '1/10/2013;MetricTons;38::962;4.479.653;2.095.938;0\\n',\n",
       " '1/11/2013;MetricTons;33-_184;1.079.153;1.987.773;2.633\\n',\n",
       " '1/12/2013;MetricTons;49[]425;1.350.277;2.015.913;5.630']"
      ]
     },
     "execution_count": 22,
     "metadata": {},
     "output_type": "execute_result"
    }
   ],
   "source": [
    "iter_file = \"data/input/Traditional_exports_2013.csv\"\n",
    "file = open(iter_file, 'r').readlines()\n",
    "file"
   ]
  },
  {
   "cell_type": "code",
   "execution_count": 23,
   "metadata": {},
   "outputs": [
    {
     "data": {
      "text/plain": [
       "<re.Match object; span=(0, 18), match='1/01/2013;USDkFOB;'>"
      ]
     },
     "execution_count": 23,
     "metadata": {},
     "output_type": "execute_result"
    }
   ],
   "source": [
    "date  = re.search('^([0-9]+)/([0-9]+)/([0-9]+);([a-zA-Z]+);', file[1])\n",
    "date"
   ]
  },
  {
   "cell_type": "code",
   "execution_count": 24,
   "metadata": {},
   "outputs": [
    {
     "data": {
      "text/plain": [
       "'2013-01-01;USDkFOB;'"
      ]
     },
     "execution_count": 24,
     "metadata": {},
     "output_type": "execute_result"
    }
   ],
   "source": [
    "date.group(3) + '-'  + date.group(2) + '-' + '0' + date.group(1)  + ';'  + date.group(4) + ';'"
   ]
  },
  {
   "cell_type": "code",
   "execution_count": 25,
   "metadata": {},
   "outputs": [
    {
     "data": {
      "text/plain": [
       "'198.825;331.415;869.485;164.672'"
      ]
     },
     "execution_count": 25,
     "metadata": {},
     "output_type": "execute_result"
    }
   ],
   "source": [
    "numbers = re.search(';([0-9]+)([!#$%&*+-.^_`|~:\\[\\]]+)([0-9]+);([0-9]+[.,-;=:%&]+[0-9]+);([0-9]+[.,-;=:%&]+[0-9]+;.+)', file[1])\n",
    "numbers.group(1) + '.'  + numbers.group(3) + \";\" + numbers.group(4) + \";\" + numbers.group(5)"
   ]
  },
  {
   "cell_type": "code",
   "execution_count": 26,
   "metadata": {},
   "outputs": [
    {
     "data": {
      "text/plain": [
       "'1/01/2013;USDkFOB;198__825;331.415;869.485;164.672\\n'"
      ]
     },
     "execution_count": 26,
     "metadata": {},
     "output_type": "execute_result"
    }
   ],
   "source": [
    "##Antes\n",
    "file[1]"
   ]
  },
  {
   "cell_type": "code",
   "execution_count": 27,
   "metadata": {},
   "outputs": [],
   "source": [
    "def render_line(line):\n",
    "    \"\"\"\n",
    "    Gets traditional_exports_<year> format line\n",
    "    Input: string\n",
    "    Output: string\n",
    "    \"\"\"\n",
    "    try: \n",
    "        date  = re.search('^([0-9]+)/([0-9]+)/([0-9]+);([a-zA-Z]+);', line)\n",
    "        date_string = date.group(3) + '-'  + date.group(2) + '-' + '0' + date.group(1)  + ';'  + date.group(4) + ';'\n",
    "        numbers = re.search(';([0-9]+)([!#$%&*+-.^_`|~:\\[\\]]+)([0-9]+);([0-9]+[.,-;=:%&]+[0-9]+);([0-9]+[.,-;=:%&]+[0-9]+;.+)', line)\n",
    "        numbers_string = numbers.group(1) + '.'  + numbers.group(3) + \";\" + numbers.group(4) + \";\" + numbers.group(5)\n",
    "        return date_string + numbers_string + '\\n'\n",
    "    except: \n",
    "        print(\"Format error. Check Regex\")"
   ]
  },
  {
   "cell_type": "code",
   "execution_count": 28,
   "metadata": {},
   "outputs": [],
   "source": [
    "file_new = open('data/output/Exports_2013_2018.csv', 'w')\n",
    "file_new.write(\"date;unit_measure;coffee;coal;oil_oilbyproducts;ferronickel\\n\")\n",
    "\n",
    "for iter_file in files: \n",
    "    file = open(iter_file, 'r').readlines()\n",
    "    \n",
    "    for line in file[1:]:\n",
    "        if render_line(line): \n",
    "            file_new.write(render_line(line))\n",
    "        else: print(line)\n",
    "file_new.close()"
   ]
  },
  {
   "cell_type": "markdown",
   "metadata": {
    "tags": []
   },
   "source": [
    "### Paso 2. Transform"
   ]
  },
  {
   "cell_type": "code",
   "execution_count": 29,
   "metadata": {},
   "outputs": [
    {
     "data": {
      "text/html": [
       "<div>\n",
       "<style scoped>\n",
       "    .dataframe tbody tr th:only-of-type {\n",
       "        vertical-align: middle;\n",
       "    }\n",
       "\n",
       "    .dataframe tbody tr th {\n",
       "        vertical-align: top;\n",
       "    }\n",
       "\n",
       "    .dataframe thead th {\n",
       "        text-align: right;\n",
       "    }\n",
       "</style>\n",
       "<table border=\"1\" class=\"dataframe\">\n",
       "  <thead>\n",
       "    <tr style=\"text-align: right;\">\n",
       "      <th></th>\n",
       "      <th>date</th>\n",
       "      <th>unit_measure</th>\n",
       "      <th>coffee</th>\n",
       "      <th>coal</th>\n",
       "      <th>oil_oilbyproducts</th>\n",
       "      <th>ferronickel</th>\n",
       "    </tr>\n",
       "  </thead>\n",
       "  <tbody>\n",
       "    <tr>\n",
       "      <th>0</th>\n",
       "      <td>2017-01-01</td>\n",
       "      <td>USDkFOB</td>\n",
       "      <td>227674</td>\n",
       "      <td>426885</td>\n",
       "      <td>1179658</td>\n",
       "      <td>14728.0</td>\n",
       "    </tr>\n",
       "    <tr>\n",
       "      <th>1</th>\n",
       "      <td>2017-02-01</td>\n",
       "      <td>USDkFOB</td>\n",
       "      <td>210303</td>\n",
       "      <td>498033</td>\n",
       "      <td>919528</td>\n",
       "      <td>437.0</td>\n",
       "    </tr>\n",
       "    <tr>\n",
       "      <th>2</th>\n",
       "      <td>2017-03-01</td>\n",
       "      <td>USDkFOB</td>\n",
       "      <td>286062</td>\n",
       "      <td>616233</td>\n",
       "      <td>1040526</td>\n",
       "      <td>30851.0</td>\n",
       "    </tr>\n",
       "    <tr>\n",
       "      <th>3</th>\n",
       "      <td>2017-04-01</td>\n",
       "      <td>USDkFOB</td>\n",
       "      <td>209099</td>\n",
       "      <td>385891</td>\n",
       "      <td>1063556</td>\n",
       "      <td>4459.0</td>\n",
       "    </tr>\n",
       "    <tr>\n",
       "      <th>4</th>\n",
       "      <td>2017-05-01</td>\n",
       "      <td>USDkFOB</td>\n",
       "      <td>187682</td>\n",
       "      <td>804563</td>\n",
       "      <td>1075943</td>\n",
       "      <td>62508.0</td>\n",
       "    </tr>\n",
       "  </tbody>\n",
       "</table>\n",
       "</div>"
      ],
      "text/plain": [
       "         date unit_measure  coffee    coal  oil_oilbyproducts  ferronickel\n",
       "0  2017-01-01      USDkFOB  227674  426885            1179658      14728.0\n",
       "1  2017-02-01      USDkFOB  210303  498033             919528        437.0\n",
       "2  2017-03-01      USDkFOB  286062  616233            1040526      30851.0\n",
       "3  2017-04-01      USDkFOB  209099  385891            1063556       4459.0\n",
       "4  2017-05-01      USDkFOB  187682  804563            1075943      62508.0"
      ]
     },
     "execution_count": 29,
     "metadata": {},
     "output_type": "execute_result"
    }
   ],
   "source": [
    "## Se leen los registros del archivo generado en el paso anterior\n",
    "df_exports = pd.read_csv('data/output/Exports_2013_2018.csv', sep = ';', thousands = '.', na_values=['NA  ','NA   '])  \n",
    "df_exports.head()"
   ]
  },
  {
   "cell_type": "code",
   "execution_count": 30,
   "metadata": {},
   "outputs": [
    {
     "data": {
      "text/plain": [
       "date                  object\n",
       "unit_measure          object\n",
       "coffee                 int64\n",
       "coal                   int64\n",
       "oil_oilbyproducts      int64\n",
       "ferronickel          float64\n",
       "dtype: object"
      ]
     },
     "execution_count": 30,
     "metadata": {},
     "output_type": "execute_result"
    }
   ],
   "source": [
    "## Se obtienen los tipos de dato. \n",
    "# La columna date se importa automáticamente como string. Es necesario cambiarla para acceder a las funciones datetime\n",
    "df_exports.dtypes"
   ]
  },
  {
   "cell_type": "code",
   "execution_count": 31,
   "metadata": {},
   "outputs": [],
   "source": [
    "## Se convierte la fecha a formato correcto\n",
    "df_exports['date'] = pd.to_datetime(df_exports['date'])"
   ]
  },
  {
   "cell_type": "code",
   "execution_count": 32,
   "metadata": {},
   "outputs": [
    {
     "data": {
      "text/plain": [
       "date                 datetime64[ns]\n",
       "unit_measure                 object\n",
       "coffee                        int64\n",
       "coal                          int64\n",
       "oil_oilbyproducts             int64\n",
       "ferronickel                 float64\n",
       "year                          int64\n",
       "dtype: object"
      ]
     },
     "execution_count": 32,
     "metadata": {},
     "output_type": "execute_result"
    }
   ],
   "source": [
    "## Obtener columna de año\n",
    "df_exports['year'] = df_exports['date'].dt.year\n",
    "df_exports.dtypes"
   ]
  },
  {
   "cell_type": "code",
   "execution_count": 33,
   "metadata": {},
   "outputs": [
    {
     "data": {
      "text/html": [
       "<div>\n",
       "<style scoped>\n",
       "    .dataframe tbody tr th:only-of-type {\n",
       "        vertical-align: middle;\n",
       "    }\n",
       "\n",
       "    .dataframe tbody tr th {\n",
       "        vertical-align: top;\n",
       "    }\n",
       "\n",
       "    .dataframe thead th {\n",
       "        text-align: right;\n",
       "    }\n",
       "</style>\n",
       "<table border=\"1\" class=\"dataframe\">\n",
       "  <thead>\n",
       "    <tr style=\"text-align: right;\">\n",
       "      <th></th>\n",
       "      <th>date</th>\n",
       "      <th>unit_measure</th>\n",
       "      <th>coffee</th>\n",
       "      <th>coal</th>\n",
       "      <th>oil_oilbyproducts</th>\n",
       "      <th>ferronickel</th>\n",
       "      <th>year</th>\n",
       "    </tr>\n",
       "  </thead>\n",
       "  <tbody>\n",
       "    <tr>\n",
       "      <th>0</th>\n",
       "      <td>2017-01-01</td>\n",
       "      <td>USDkFOB</td>\n",
       "      <td>227674</td>\n",
       "      <td>426885</td>\n",
       "      <td>1179658</td>\n",
       "      <td>14728.0</td>\n",
       "      <td>2017</td>\n",
       "    </tr>\n",
       "    <tr>\n",
       "      <th>1</th>\n",
       "      <td>2017-02-01</td>\n",
       "      <td>USDkFOB</td>\n",
       "      <td>210303</td>\n",
       "      <td>498033</td>\n",
       "      <td>919528</td>\n",
       "      <td>437.0</td>\n",
       "      <td>2017</td>\n",
       "    </tr>\n",
       "    <tr>\n",
       "      <th>2</th>\n",
       "      <td>2017-03-01</td>\n",
       "      <td>USDkFOB</td>\n",
       "      <td>286062</td>\n",
       "      <td>616233</td>\n",
       "      <td>1040526</td>\n",
       "      <td>30851.0</td>\n",
       "      <td>2017</td>\n",
       "    </tr>\n",
       "    <tr>\n",
       "      <th>3</th>\n",
       "      <td>2017-04-01</td>\n",
       "      <td>USDkFOB</td>\n",
       "      <td>209099</td>\n",
       "      <td>385891</td>\n",
       "      <td>1063556</td>\n",
       "      <td>4459.0</td>\n",
       "      <td>2017</td>\n",
       "    </tr>\n",
       "    <tr>\n",
       "      <th>4</th>\n",
       "      <td>2017-05-01</td>\n",
       "      <td>USDkFOB</td>\n",
       "      <td>187682</td>\n",
       "      <td>804563</td>\n",
       "      <td>1075943</td>\n",
       "      <td>62508.0</td>\n",
       "      <td>2017</td>\n",
       "    </tr>\n",
       "  </tbody>\n",
       "</table>\n",
       "</div>"
      ],
      "text/plain": [
       "        date unit_measure  coffee    coal  oil_oilbyproducts  ferronickel  \\\n",
       "0 2017-01-01      USDkFOB  227674  426885            1179658      14728.0   \n",
       "1 2017-02-01      USDkFOB  210303  498033             919528        437.0   \n",
       "2 2017-03-01      USDkFOB  286062  616233            1040526      30851.0   \n",
       "3 2017-04-01      USDkFOB  209099  385891            1063556       4459.0   \n",
       "4 2017-05-01      USDkFOB  187682  804563            1075943      62508.0   \n",
       "\n",
       "   year  \n",
       "0  2017  \n",
       "1  2017  \n",
       "2  2017  \n",
       "3  2017  \n",
       "4  2017  "
      ]
     },
     "execution_count": 33,
     "metadata": {},
     "output_type": "execute_result"
    }
   ],
   "source": [
    "df_exports.head()"
   ]
  },
  {
   "cell_type": "code",
   "execution_count": 34,
   "metadata": {},
   "outputs": [
    {
     "data": {
      "text/html": [
       "<div>\n",
       "<style scoped>\n",
       "    .dataframe tbody tr th:only-of-type {\n",
       "        vertical-align: middle;\n",
       "    }\n",
       "\n",
       "    .dataframe tbody tr th {\n",
       "        vertical-align: top;\n",
       "    }\n",
       "\n",
       "    .dataframe thead th {\n",
       "        text-align: right;\n",
       "    }\n",
       "</style>\n",
       "<table border=\"1\" class=\"dataframe\">\n",
       "  <thead>\n",
       "    <tr style=\"text-align: right;\">\n",
       "      <th></th>\n",
       "      <th>coffee</th>\n",
       "      <th>coal</th>\n",
       "      <th>oil_oilbyproducts</th>\n",
       "      <th>ferronickel</th>\n",
       "      <th>year</th>\n",
       "    </tr>\n",
       "  </thead>\n",
       "  <tbody>\n",
       "    <tr>\n",
       "      <th>count</th>\n",
       "      <td>134.000000</td>\n",
       "      <td>1.340000e+02</td>\n",
       "      <td>1.340000e+02</td>\n",
       "      <td>128.000000</td>\n",
       "      <td>134.000000</td>\n",
       "    </tr>\n",
       "    <tr>\n",
       "      <th>mean</th>\n",
       "      <td>125784.671642</td>\n",
       "      <td>3.734873e+06</td>\n",
       "      <td>2.337259e+06</td>\n",
       "      <td>26861.765625</td>\n",
       "      <td>2015.313433</td>\n",
       "    </tr>\n",
       "    <tr>\n",
       "      <th>std</th>\n",
       "      <td>78581.637912</td>\n",
       "      <td>3.686308e+06</td>\n",
       "      <td>1.245713e+06</td>\n",
       "      <td>26474.068706</td>\n",
       "      <td>1.628773</td>\n",
       "    </tr>\n",
       "    <tr>\n",
       "      <th>min</th>\n",
       "      <td>33184.000000</td>\n",
       "      <td>1.193250e+05</td>\n",
       "      <td>4.864390e+05</td>\n",
       "      <td>0.000000</td>\n",
       "      <td>2013.000000</td>\n",
       "    </tr>\n",
       "    <tr>\n",
       "      <th>25%</th>\n",
       "      <td>55211.500000</td>\n",
       "      <td>4.330085e+05</td>\n",
       "      <td>1.144272e+06</td>\n",
       "      <td>9980.250000</td>\n",
       "      <td>2014.000000</td>\n",
       "    </tr>\n",
       "    <tr>\n",
       "      <th>50%</th>\n",
       "      <td>106228.500000</td>\n",
       "      <td>1.121291e+06</td>\n",
       "      <td>2.001843e+06</td>\n",
       "      <td>14472.000000</td>\n",
       "      <td>2015.000000</td>\n",
       "    </tr>\n",
       "    <tr>\n",
       "      <th>75%</th>\n",
       "      <td>192170.000000</td>\n",
       "      <td>6.554646e+06</td>\n",
       "      <td>3.505635e+06</td>\n",
       "      <td>36545.750000</td>\n",
       "      <td>2017.000000</td>\n",
       "    </tr>\n",
       "    <tr>\n",
       "      <th>max</th>\n",
       "      <td>424028.000000</td>\n",
       "      <td>1.473690e+07</td>\n",
       "      <td>4.593090e+06</td>\n",
       "      <td>164672.000000</td>\n",
       "      <td>2018.000000</td>\n",
       "    </tr>\n",
       "  </tbody>\n",
       "</table>\n",
       "</div>"
      ],
      "text/plain": [
       "              coffee          coal  oil_oilbyproducts    ferronickel  \\\n",
       "count     134.000000  1.340000e+02       1.340000e+02     128.000000   \n",
       "mean   125784.671642  3.734873e+06       2.337259e+06   26861.765625   \n",
       "std     78581.637912  3.686308e+06       1.245713e+06   26474.068706   \n",
       "min     33184.000000  1.193250e+05       4.864390e+05       0.000000   \n",
       "25%     55211.500000  4.330085e+05       1.144272e+06    9980.250000   \n",
       "50%    106228.500000  1.121291e+06       2.001843e+06   14472.000000   \n",
       "75%    192170.000000  6.554646e+06       3.505635e+06   36545.750000   \n",
       "max    424028.000000  1.473690e+07       4.593090e+06  164672.000000   \n",
       "\n",
       "              year  \n",
       "count   134.000000  \n",
       "mean   2015.313433  \n",
       "std       1.628773  \n",
       "min    2013.000000  \n",
       "25%    2014.000000  \n",
       "50%    2015.000000  \n",
       "75%    2017.000000  \n",
       "max    2018.000000  "
      ]
     },
     "execution_count": 34,
     "metadata": {},
     "output_type": "execute_result"
    }
   ],
   "source": [
    "## Se obtienen métricas descriptivas de cada una de las varaibles numéricas \n",
    "df_exports.describe()"
   ]
  },
  {
   "cell_type": "code",
   "execution_count": 35,
   "metadata": {},
   "outputs": [
    {
     "data": {
      "text/plain": [
       "Index(['date', 'unit_measure', 'coffee', 'coal', 'oil_oilbyproducts', 'year'], dtype='object')"
      ]
     },
     "execution_count": 35,
     "metadata": {},
     "output_type": "execute_result"
    }
   ],
   "source": [
    "## se eliminan las columnas que tengan por lo menos un null\n",
    "df_exports.dropna(axis='columns').columns"
   ]
  },
  {
   "cell_type": "code",
   "execution_count": 36,
   "metadata": {},
   "outputs": [
    {
     "data": {
      "text/plain": [
       "134"
      ]
     },
     "execution_count": 36,
     "metadata": {},
     "output_type": "execute_result"
    }
   ],
   "source": [
    "len(df_exports)"
   ]
  },
  {
   "cell_type": "code",
   "execution_count": 37,
   "metadata": {},
   "outputs": [
    {
     "data": {
      "text/plain": [
       "134"
      ]
     },
     "execution_count": 37,
     "metadata": {},
     "output_type": "execute_result"
    }
   ],
   "source": [
    "len(df_exports)"
   ]
  },
  {
   "cell_type": "code",
   "execution_count": 38,
   "metadata": {},
   "outputs": [],
   "source": [
    "## Se eliminan las filas que tengan por lo menos un null \n",
    "df_exports.dropna(thresh=len(df_exports.columns), inplace=True)"
   ]
  },
  {
   "cell_type": "code",
   "execution_count": 39,
   "metadata": {},
   "outputs": [
    {
     "data": {
      "text/html": [
       "<div>\n",
       "<style scoped>\n",
       "    .dataframe tbody tr th:only-of-type {\n",
       "        vertical-align: middle;\n",
       "    }\n",
       "\n",
       "    .dataframe tbody tr th {\n",
       "        vertical-align: top;\n",
       "    }\n",
       "\n",
       "    .dataframe thead th {\n",
       "        text-align: right;\n",
       "    }\n",
       "</style>\n",
       "<table border=\"1\" class=\"dataframe\">\n",
       "  <thead>\n",
       "    <tr style=\"text-align: right;\">\n",
       "      <th></th>\n",
       "      <th></th>\n",
       "      <th>coffee</th>\n",
       "      <th>coal</th>\n",
       "      <th>oil_oilbyproducts</th>\n",
       "      <th>ferronickel</th>\n",
       "    </tr>\n",
       "    <tr>\n",
       "      <th>unit_measure</th>\n",
       "      <th>year</th>\n",
       "      <th></th>\n",
       "      <th></th>\n",
       "      <th></th>\n",
       "      <th></th>\n",
       "    </tr>\n",
       "  </thead>\n",
       "  <tbody>\n",
       "    <tr>\n",
       "      <th rowspan=\"6\" valign=\"top\">MetricTons</th>\n",
       "      <th>2013</th>\n",
       "      <td>529806</td>\n",
       "      <td>52675813</td>\n",
       "      <td>19721265</td>\n",
       "      <td>94999.0</td>\n",
       "    </tr>\n",
       "    <tr>\n",
       "      <th>2014</th>\n",
       "      <td>617959</td>\n",
       "      <td>89095315</td>\n",
       "      <td>49142512</td>\n",
       "      <td>132555.0</td>\n",
       "    </tr>\n",
       "    <tr>\n",
       "      <th>2015</th>\n",
       "      <td>711111</td>\n",
       "      <td>74711449</td>\n",
       "      <td>48431826</td>\n",
       "      <td>128634.0</td>\n",
       "    </tr>\n",
       "    <tr>\n",
       "      <th>2016</th>\n",
       "      <td>732967</td>\n",
       "      <td>85127799</td>\n",
       "      <td>43935044</td>\n",
       "      <td>127742.0</td>\n",
       "    </tr>\n",
       "    <tr>\n",
       "      <th>2017</th>\n",
       "      <td>710355</td>\n",
       "      <td>105235590</td>\n",
       "      <td>40029965</td>\n",
       "      <td>110957.0</td>\n",
       "    </tr>\n",
       "    <tr>\n",
       "      <th>2018</th>\n",
       "      <td>347495</td>\n",
       "      <td>47712693</td>\n",
       "      <td>18711895</td>\n",
       "      <td>80686.0</td>\n",
       "    </tr>\n",
       "    <tr>\n",
       "      <th rowspan=\"6\" valign=\"top\">USDkFOB</th>\n",
       "      <th>2013</th>\n",
       "      <td>1669359</td>\n",
       "      <td>4061091</td>\n",
       "      <td>11191698</td>\n",
       "      <td>778214.0</td>\n",
       "    </tr>\n",
       "    <tr>\n",
       "      <th>2014</th>\n",
       "      <td>2076375</td>\n",
       "      <td>5681096</td>\n",
       "      <td>24757038</td>\n",
       "      <td>527796.0</td>\n",
       "    </tr>\n",
       "    <tr>\n",
       "      <th>2015</th>\n",
       "      <td>2526532</td>\n",
       "      <td>4560026</td>\n",
       "      <td>14566130</td>\n",
       "      <td>429752.0</td>\n",
       "    </tr>\n",
       "    <tr>\n",
       "      <th>2016</th>\n",
       "      <td>2417693</td>\n",
       "      <td>4638881</td>\n",
       "      <td>10795579</td>\n",
       "      <td>327765.0</td>\n",
       "    </tr>\n",
       "    <tr>\n",
       "      <th>2017</th>\n",
       "      <td>2513503</td>\n",
       "      <td>7389996</td>\n",
       "      <td>13166719</td>\n",
       "      <td>360543.0</td>\n",
       "    </tr>\n",
       "    <tr>\n",
       "      <th>2018</th>\n",
       "      <td>1125071</td>\n",
       "      <td>3961935</td>\n",
       "      <td>8157412</td>\n",
       "      <td>338663.0</td>\n",
       "    </tr>\n",
       "  </tbody>\n",
       "</table>\n",
       "</div>"
      ],
      "text/plain": [
       "                    coffee       coal  oil_oilbyproducts  ferronickel\n",
       "unit_measure year                                                    \n",
       "MetricTons   2013   529806   52675813           19721265      94999.0\n",
       "             2014   617959   89095315           49142512     132555.0\n",
       "             2015   711111   74711449           48431826     128634.0\n",
       "             2016   732967   85127799           43935044     127742.0\n",
       "             2017   710355  105235590           40029965     110957.0\n",
       "             2018   347495   47712693           18711895      80686.0\n",
       "USDkFOB      2013  1669359    4061091           11191698     778214.0\n",
       "             2014  2076375    5681096           24757038     527796.0\n",
       "             2015  2526532    4560026           14566130     429752.0\n",
       "             2016  2417693    4638881           10795579     327765.0\n",
       "             2017  2513503    7389996           13166719     360543.0\n",
       "             2018  1125071    3961935            8157412     338663.0"
      ]
     },
     "execution_count": 39,
     "metadata": {},
     "output_type": "execute_result"
    }
   ],
   "source": [
    "## Se obtiene el total de exportaciones por año y medida\n",
    "df_exports_year = df_exports.groupby(['unit_measure', 'year']).sum()\n",
    "df_exports_year"
   ]
  },
  {
   "cell_type": "code",
   "execution_count": 40,
   "metadata": {},
   "outputs": [
    {
     "data": {
      "text/html": [
       "<div>\n",
       "<style scoped>\n",
       "    .dataframe tbody tr th:only-of-type {\n",
       "        vertical-align: middle;\n",
       "    }\n",
       "\n",
       "    .dataframe tbody tr th {\n",
       "        vertical-align: top;\n",
       "    }\n",
       "\n",
       "    .dataframe thead tr th {\n",
       "        text-align: left;\n",
       "    }\n",
       "\n",
       "    .dataframe thead tr:last-of-type th {\n",
       "        text-align: right;\n",
       "    }\n",
       "</style>\n",
       "<table border=\"1\" class=\"dataframe\">\n",
       "  <thead>\n",
       "    <tr>\n",
       "      <th></th>\n",
       "      <th></th>\n",
       "      <th colspan=\"3\" halign=\"left\">coffee</th>\n",
       "      <th colspan=\"3\" halign=\"left\">coal</th>\n",
       "      <th colspan=\"3\" halign=\"left\">oil_oilbyproducts</th>\n",
       "      <th colspan=\"3\" halign=\"left\">ferronickel</th>\n",
       "    </tr>\n",
       "    <tr>\n",
       "      <th></th>\n",
       "      <th></th>\n",
       "      <th>min</th>\n",
       "      <th>max</th>\n",
       "      <th>mean</th>\n",
       "      <th>min</th>\n",
       "      <th>max</th>\n",
       "      <th>mean</th>\n",
       "      <th>min</th>\n",
       "      <th>max</th>\n",
       "      <th>mean</th>\n",
       "      <th>min</th>\n",
       "      <th>max</th>\n",
       "      <th>mean</th>\n",
       "    </tr>\n",
       "    <tr>\n",
       "      <th>unit_measure</th>\n",
       "      <th>year</th>\n",
       "      <th></th>\n",
       "      <th></th>\n",
       "      <th></th>\n",
       "      <th></th>\n",
       "      <th></th>\n",
       "      <th></th>\n",
       "      <th></th>\n",
       "      <th></th>\n",
       "      <th></th>\n",
       "      <th></th>\n",
       "      <th></th>\n",
       "      <th></th>\n",
       "    </tr>\n",
       "  </thead>\n",
       "  <tbody>\n",
       "    <tr>\n",
       "      <th rowspan=\"6\" valign=\"top\">MetricTons</th>\n",
       "      <th>2013</th>\n",
       "      <td>33184</td>\n",
       "      <td>67361</td>\n",
       "      <td>48164.181818</td>\n",
       "      <td>1079153</td>\n",
       "      <td>7198798</td>\n",
       "      <td>4.788710e+06</td>\n",
       "      <td>1398563</td>\n",
       "      <td>2095938</td>\n",
       "      <td>1.792842e+06</td>\n",
       "      <td>0.0</td>\n",
       "      <td>17404.0</td>\n",
       "      <td>8636.272727</td>\n",
       "    </tr>\n",
       "    <tr>\n",
       "      <th>2014</th>\n",
       "      <td>36257</td>\n",
       "      <td>66993</td>\n",
       "      <td>51496.583333</td>\n",
       "      <td>3331867</td>\n",
       "      <td>12456190</td>\n",
       "      <td>7.424610e+06</td>\n",
       "      <td>3653691</td>\n",
       "      <td>4442970</td>\n",
       "      <td>4.095209e+06</td>\n",
       "      <td>7278.0</td>\n",
       "      <td>13661.0</td>\n",
       "      <td>11046.250000</td>\n",
       "    </tr>\n",
       "    <tr>\n",
       "      <th>2015</th>\n",
       "      <td>44691</td>\n",
       "      <td>75227</td>\n",
       "      <td>59259.250000</td>\n",
       "      <td>4798950</td>\n",
       "      <td>7605814</td>\n",
       "      <td>6.225954e+06</td>\n",
       "      <td>3492278</td>\n",
       "      <td>4593090</td>\n",
       "      <td>4.035986e+06</td>\n",
       "      <td>3696.0</td>\n",
       "      <td>20316.0</td>\n",
       "      <td>10719.500000</td>\n",
       "    </tr>\n",
       "    <tr>\n",
       "      <th>2016</th>\n",
       "      <td>39095</td>\n",
       "      <td>113391</td>\n",
       "      <td>61080.583333</td>\n",
       "      <td>4563426</td>\n",
       "      <td>11912907</td>\n",
       "      <td>7.093983e+06</td>\n",
       "      <td>3350926</td>\n",
       "      <td>4099192</td>\n",
       "      <td>3.661254e+06</td>\n",
       "      <td>5410.0</td>\n",
       "      <td>15419.0</td>\n",
       "      <td>10645.166667</td>\n",
       "    </tr>\n",
       "    <tr>\n",
       "      <th>2017</th>\n",
       "      <td>37825</td>\n",
       "      <td>77088</td>\n",
       "      <td>59196.250000</td>\n",
       "      <td>4975521</td>\n",
       "      <td>14736902</td>\n",
       "      <td>8.769632e+06</td>\n",
       "      <td>2836185</td>\n",
       "      <td>3655405</td>\n",
       "      <td>3.335830e+06</td>\n",
       "      <td>332.0</td>\n",
       "      <td>21729.0</td>\n",
       "      <td>9246.416667</td>\n",
       "    </tr>\n",
       "    <tr>\n",
       "      <th>2018</th>\n",
       "      <td>44127</td>\n",
       "      <td>74254</td>\n",
       "      <td>57915.833333</td>\n",
       "      <td>5970972</td>\n",
       "      <td>9579831</td>\n",
       "      <td>7.952116e+06</td>\n",
       "      <td>2958676</td>\n",
       "      <td>3258040</td>\n",
       "      <td>3.118649e+06</td>\n",
       "      <td>10589.0</td>\n",
       "      <td>16077.0</td>\n",
       "      <td>13447.666667</td>\n",
       "    </tr>\n",
       "    <tr>\n",
       "      <th rowspan=\"6\" valign=\"top\">USDkFOB</th>\n",
       "      <th>2013</th>\n",
       "      <td>99066</td>\n",
       "      <td>204067</td>\n",
       "      <td>151759.909091</td>\n",
       "      <td>119325</td>\n",
       "      <td>526593</td>\n",
       "      <td>3.691901e+05</td>\n",
       "      <td>486439</td>\n",
       "      <td>1460899</td>\n",
       "      <td>1.017427e+06</td>\n",
       "      <td>0.0</td>\n",
       "      <td>164672.0</td>\n",
       "      <td>70746.727273</td>\n",
       "    </tr>\n",
       "    <tr>\n",
       "      <th>2014</th>\n",
       "      <td>139214</td>\n",
       "      <td>261195</td>\n",
       "      <td>207637.500000</td>\n",
       "      <td>268100</td>\n",
       "      <td>977542</td>\n",
       "      <td>5.681096e+05</td>\n",
       "      <td>1836360</td>\n",
       "      <td>2791267</td>\n",
       "      <td>2.475704e+06</td>\n",
       "      <td>32959.0</td>\n",
       "      <td>73247.0</td>\n",
       "      <td>52779.600000</td>\n",
       "    </tr>\n",
       "    <tr>\n",
       "      <th>2015</th>\n",
       "      <td>155986</td>\n",
       "      <td>282199</td>\n",
       "      <td>210544.333333</td>\n",
       "      <td>275602</td>\n",
       "      <td>498557</td>\n",
       "      <td>3.800022e+05</td>\n",
       "      <td>816748</td>\n",
       "      <td>1637327</td>\n",
       "      <td>1.213844e+06</td>\n",
       "      <td>15959.0</td>\n",
       "      <td>80976.0</td>\n",
       "      <td>35812.666667</td>\n",
       "    </tr>\n",
       "    <tr>\n",
       "      <th>2016</th>\n",
       "      <td>126356</td>\n",
       "      <td>424028</td>\n",
       "      <td>201474.416667</td>\n",
       "      <td>235075</td>\n",
       "      <td>654162</td>\n",
       "      <td>3.865734e+05</td>\n",
       "      <td>655691</td>\n",
       "      <td>1087928</td>\n",
       "      <td>8.996316e+05</td>\n",
       "      <td>13869.0</td>\n",
       "      <td>36804.0</td>\n",
       "      <td>27313.750000</td>\n",
       "    </tr>\n",
       "    <tr>\n",
       "      <th>2017</th>\n",
       "      <td>132054</td>\n",
       "      <td>286062</td>\n",
       "      <td>209458.583333</td>\n",
       "      <td>359358</td>\n",
       "      <td>1163429</td>\n",
       "      <td>6.158330e+05</td>\n",
       "      <td>919528</td>\n",
       "      <td>1397578</td>\n",
       "      <td>1.097227e+06</td>\n",
       "      <td>437.0</td>\n",
       "      <td>63931.0</td>\n",
       "      <td>30045.250000</td>\n",
       "    </tr>\n",
       "    <tr>\n",
       "      <th>2018</th>\n",
       "      <td>141569</td>\n",
       "      <td>247016</td>\n",
       "      <td>187511.833333</td>\n",
       "      <td>493301</td>\n",
       "      <td>806803</td>\n",
       "      <td>6.603225e+05</td>\n",
       "      <td>1194653</td>\n",
       "      <td>1469748</td>\n",
       "      <td>1.359569e+06</td>\n",
       "      <td>42839.0</td>\n",
       "      <td>70482.0</td>\n",
       "      <td>56443.833333</td>\n",
       "    </tr>\n",
       "  </tbody>\n",
       "</table>\n",
       "</div>"
      ],
      "text/plain": [
       "                   coffee                            coal            \\\n",
       "                      min     max           mean      min       max   \n",
       "unit_measure year                                                     \n",
       "MetricTons   2013   33184   67361   48164.181818  1079153   7198798   \n",
       "             2014   36257   66993   51496.583333  3331867  12456190   \n",
       "             2015   44691   75227   59259.250000  4798950   7605814   \n",
       "             2016   39095  113391   61080.583333  4563426  11912907   \n",
       "             2017   37825   77088   59196.250000  4975521  14736902   \n",
       "             2018   44127   74254   57915.833333  5970972   9579831   \n",
       "USDkFOB      2013   99066  204067  151759.909091   119325    526593   \n",
       "             2014  139214  261195  207637.500000   268100    977542   \n",
       "             2015  155986  282199  210544.333333   275602    498557   \n",
       "             2016  126356  424028  201474.416667   235075    654162   \n",
       "             2017  132054  286062  209458.583333   359358   1163429   \n",
       "             2018  141569  247016  187511.833333   493301    806803   \n",
       "\n",
       "                                oil_oilbyproducts                         \\\n",
       "                           mean               min      max          mean   \n",
       "unit_measure year                                                          \n",
       "MetricTons   2013  4.788710e+06           1398563  2095938  1.792842e+06   \n",
       "             2014  7.424610e+06           3653691  4442970  4.095209e+06   \n",
       "             2015  6.225954e+06           3492278  4593090  4.035986e+06   \n",
       "             2016  7.093983e+06           3350926  4099192  3.661254e+06   \n",
       "             2017  8.769632e+06           2836185  3655405  3.335830e+06   \n",
       "             2018  7.952116e+06           2958676  3258040  3.118649e+06   \n",
       "USDkFOB      2013  3.691901e+05            486439  1460899  1.017427e+06   \n",
       "             2014  5.681096e+05           1836360  2791267  2.475704e+06   \n",
       "             2015  3.800022e+05            816748  1637327  1.213844e+06   \n",
       "             2016  3.865734e+05            655691  1087928  8.996316e+05   \n",
       "             2017  6.158330e+05            919528  1397578  1.097227e+06   \n",
       "             2018  6.603225e+05           1194653  1469748  1.359569e+06   \n",
       "\n",
       "                  ferronickel                          \n",
       "                          min       max          mean  \n",
       "unit_measure year                                      \n",
       "MetricTons   2013         0.0   17404.0   8636.272727  \n",
       "             2014      7278.0   13661.0  11046.250000  \n",
       "             2015      3696.0   20316.0  10719.500000  \n",
       "             2016      5410.0   15419.0  10645.166667  \n",
       "             2017       332.0   21729.0   9246.416667  \n",
       "             2018     10589.0   16077.0  13447.666667  \n",
       "USDkFOB      2013         0.0  164672.0  70746.727273  \n",
       "             2014     32959.0   73247.0  52779.600000  \n",
       "             2015     15959.0   80976.0  35812.666667  \n",
       "             2016     13869.0   36804.0  27313.750000  \n",
       "             2017       437.0   63931.0  30045.250000  \n",
       "             2018     42839.0   70482.0  56443.833333  "
      ]
     },
     "execution_count": 40,
     "metadata": {},
     "output_type": "execute_result"
    }
   ],
   "source": [
    "## Se obtienen el minimo, max y media por cada año y unidad de medida\n",
    "df_exports.loc[:, 'unit_measure':'year'].groupby(['unit_measure', 'year']).agg(['min', 'max', 'mean'])"
   ]
  },
  {
   "cell_type": "markdown",
   "metadata": {},
   "source": [
    "### pandas.pivot\n",
    "<img src=\"data/pivot.png\" alt=\"drawing\" width=\"600\"/>"
   ]
  },
  {
   "cell_type": "code",
   "execution_count": 41,
   "metadata": {},
   "outputs": [],
   "source": [
    "## Se toma los datos del año 2017\n",
    "df_pivot = df_exports[(df_exports['year'] ==  2017)]"
   ]
  },
  {
   "cell_type": "code",
   "execution_count": 42,
   "metadata": {},
   "outputs": [
    {
     "data": {
      "text/html": [
       "<div>\n",
       "<style scoped>\n",
       "    .dataframe tbody tr th:only-of-type {\n",
       "        vertical-align: middle;\n",
       "    }\n",
       "\n",
       "    .dataframe tbody tr th {\n",
       "        vertical-align: top;\n",
       "    }\n",
       "\n",
       "    .dataframe thead th {\n",
       "        text-align: right;\n",
       "    }\n",
       "</style>\n",
       "<table border=\"1\" class=\"dataframe\">\n",
       "  <thead>\n",
       "    <tr style=\"text-align: right;\">\n",
       "      <th></th>\n",
       "      <th>0</th>\n",
       "      <th>1</th>\n",
       "      <th>2</th>\n",
       "      <th>3</th>\n",
       "      <th>4</th>\n",
       "      <th>5</th>\n",
       "      <th>6</th>\n",
       "      <th>7</th>\n",
       "      <th>8</th>\n",
       "      <th>9</th>\n",
       "      <th>...</th>\n",
       "      <th>14</th>\n",
       "      <th>15</th>\n",
       "      <th>16</th>\n",
       "      <th>17</th>\n",
       "      <th>18</th>\n",
       "      <th>19</th>\n",
       "      <th>20</th>\n",
       "      <th>21</th>\n",
       "      <th>22</th>\n",
       "      <th>23</th>\n",
       "    </tr>\n",
       "  </thead>\n",
       "  <tbody>\n",
       "    <tr>\n",
       "      <th>date</th>\n",
       "      <td>2017-01-01 00:00:00</td>\n",
       "      <td>2017-02-01 00:00:00</td>\n",
       "      <td>2017-03-01 00:00:00</td>\n",
       "      <td>2017-04-01 00:00:00</td>\n",
       "      <td>2017-05-01 00:00:00</td>\n",
       "      <td>2017-06-01 00:00:00</td>\n",
       "      <td>2017-07-01 00:00:00</td>\n",
       "      <td>2017-08-01 00:00:00</td>\n",
       "      <td>2017-09-01 00:00:00</td>\n",
       "      <td>2017-10-01 00:00:00</td>\n",
       "      <td>...</td>\n",
       "      <td>2017-03-01 00:00:00</td>\n",
       "      <td>2017-04-01 00:00:00</td>\n",
       "      <td>2017-05-01 00:00:00</td>\n",
       "      <td>2017-06-01 00:00:00</td>\n",
       "      <td>2017-07-01 00:00:00</td>\n",
       "      <td>2017-08-01 00:00:00</td>\n",
       "      <td>2017-09-01 00:00:00</td>\n",
       "      <td>2017-10-01 00:00:00</td>\n",
       "      <td>2017-11-01 00:00:00</td>\n",
       "      <td>2017-12-01 00:00:00</td>\n",
       "    </tr>\n",
       "    <tr>\n",
       "      <th>unit_measure</th>\n",
       "      <td>USDkFOB</td>\n",
       "      <td>USDkFOB</td>\n",
       "      <td>USDkFOB</td>\n",
       "      <td>USDkFOB</td>\n",
       "      <td>USDkFOB</td>\n",
       "      <td>USDkFOB</td>\n",
       "      <td>USDkFOB</td>\n",
       "      <td>USDkFOB</td>\n",
       "      <td>USDkFOB</td>\n",
       "      <td>USDkFOB</td>\n",
       "      <td>...</td>\n",
       "      <td>MetricTons</td>\n",
       "      <td>MetricTons</td>\n",
       "      <td>MetricTons</td>\n",
       "      <td>MetricTons</td>\n",
       "      <td>MetricTons</td>\n",
       "      <td>MetricTons</td>\n",
       "      <td>MetricTons</td>\n",
       "      <td>MetricTons</td>\n",
       "      <td>MetricTons</td>\n",
       "      <td>MetricTons</td>\n",
       "    </tr>\n",
       "    <tr>\n",
       "      <th>coffee</th>\n",
       "      <td>227674</td>\n",
       "      <td>210303</td>\n",
       "      <td>286062</td>\n",
       "      <td>209099</td>\n",
       "      <td>187682</td>\n",
       "      <td>132054</td>\n",
       "      <td>224406</td>\n",
       "      <td>202233</td>\n",
       "      <td>233587</td>\n",
       "      <td>209842</td>\n",
       "      <td>...</td>\n",
       "      <td>77088</td>\n",
       "      <td>57973</td>\n",
       "      <td>52450</td>\n",
       "      <td>37825</td>\n",
       "      <td>66120</td>\n",
       "      <td>59373</td>\n",
       "      <td>66721</td>\n",
       "      <td>59872</td>\n",
       "      <td>56936</td>\n",
       "      <td>58920</td>\n",
       "    </tr>\n",
       "    <tr>\n",
       "      <th>coal</th>\n",
       "      <td>426885</td>\n",
       "      <td>498033</td>\n",
       "      <td>616233</td>\n",
       "      <td>385891</td>\n",
       "      <td>804563</td>\n",
       "      <td>359358</td>\n",
       "      <td>652621</td>\n",
       "      <td>560126</td>\n",
       "      <td>834211</td>\n",
       "      <td>554439</td>\n",
       "      <td>...</td>\n",
       "      <td>8683657</td>\n",
       "      <td>5603903</td>\n",
       "      <td>12455878</td>\n",
       "      <td>4975521</td>\n",
       "      <td>10159976</td>\n",
       "      <td>8747276</td>\n",
       "      <td>12246021</td>\n",
       "      <td>7834836</td>\n",
       "      <td>6888399</td>\n",
       "      <td>14736902</td>\n",
       "    </tr>\n",
       "    <tr>\n",
       "      <th>oil_oilbyproducts</th>\n",
       "      <td>1179658</td>\n",
       "      <td>919528</td>\n",
       "      <td>1040526</td>\n",
       "      <td>1063556</td>\n",
       "      <td>1075943</td>\n",
       "      <td>1042656</td>\n",
       "      <td>978907</td>\n",
       "      <td>1078869</td>\n",
       "      <td>1042128</td>\n",
       "      <td>1236888</td>\n",
       "      <td>...</td>\n",
       "      <td>3297163</td>\n",
       "      <td>3351406</td>\n",
       "      <td>3390710</td>\n",
       "      <td>3604211</td>\n",
       "      <td>3271744</td>\n",
       "      <td>3441527</td>\n",
       "      <td>3118191</td>\n",
       "      <td>3445708</td>\n",
       "      <td>3025842</td>\n",
       "      <td>3591873</td>\n",
       "    </tr>\n",
       "    <tr>\n",
       "      <th>ferronickel</th>\n",
       "      <td>14728.0</td>\n",
       "      <td>437.0</td>\n",
       "      <td>30851.0</td>\n",
       "      <td>4459.0</td>\n",
       "      <td>62508.0</td>\n",
       "      <td>26292.0</td>\n",
       "      <td>5929.0</td>\n",
       "      <td>63931.0</td>\n",
       "      <td>25659.0</td>\n",
       "      <td>44222.0</td>\n",
       "      <td>...</td>\n",
       "      <td>9592.0</td>\n",
       "      <td>1693.0</td>\n",
       "      <td>19861.0</td>\n",
       "      <td>8423.0</td>\n",
       "      <td>2030.0</td>\n",
       "      <td>21729.0</td>\n",
       "      <td>8165.0</td>\n",
       "      <td>11846.0</td>\n",
       "      <td>13947.0</td>\n",
       "      <td>9021.0</td>\n",
       "    </tr>\n",
       "    <tr>\n",
       "      <th>year</th>\n",
       "      <td>2017</td>\n",
       "      <td>2017</td>\n",
       "      <td>2017</td>\n",
       "      <td>2017</td>\n",
       "      <td>2017</td>\n",
       "      <td>2017</td>\n",
       "      <td>2017</td>\n",
       "      <td>2017</td>\n",
       "      <td>2017</td>\n",
       "      <td>2017</td>\n",
       "      <td>...</td>\n",
       "      <td>2017</td>\n",
       "      <td>2017</td>\n",
       "      <td>2017</td>\n",
       "      <td>2017</td>\n",
       "      <td>2017</td>\n",
       "      <td>2017</td>\n",
       "      <td>2017</td>\n",
       "      <td>2017</td>\n",
       "      <td>2017</td>\n",
       "      <td>2017</td>\n",
       "    </tr>\n",
       "  </tbody>\n",
       "</table>\n",
       "<p>7 rows × 24 columns</p>\n",
       "</div>"
      ],
      "text/plain": [
       "                                    0                    1   \\\n",
       "date               2017-01-01 00:00:00  2017-02-01 00:00:00   \n",
       "unit_measure                   USDkFOB              USDkFOB   \n",
       "coffee                          227674               210303   \n",
       "coal                            426885               498033   \n",
       "oil_oilbyproducts              1179658               919528   \n",
       "ferronickel                    14728.0                437.0   \n",
       "year                              2017                 2017   \n",
       "\n",
       "                                    2                    3   \\\n",
       "date               2017-03-01 00:00:00  2017-04-01 00:00:00   \n",
       "unit_measure                   USDkFOB              USDkFOB   \n",
       "coffee                          286062               209099   \n",
       "coal                            616233               385891   \n",
       "oil_oilbyproducts              1040526              1063556   \n",
       "ferronickel                    30851.0               4459.0   \n",
       "year                              2017                 2017   \n",
       "\n",
       "                                    4                    5   \\\n",
       "date               2017-05-01 00:00:00  2017-06-01 00:00:00   \n",
       "unit_measure                   USDkFOB              USDkFOB   \n",
       "coffee                          187682               132054   \n",
       "coal                            804563               359358   \n",
       "oil_oilbyproducts              1075943              1042656   \n",
       "ferronickel                    62508.0              26292.0   \n",
       "year                              2017                 2017   \n",
       "\n",
       "                                    6                    7   \\\n",
       "date               2017-07-01 00:00:00  2017-08-01 00:00:00   \n",
       "unit_measure                   USDkFOB              USDkFOB   \n",
       "coffee                          224406               202233   \n",
       "coal                            652621               560126   \n",
       "oil_oilbyproducts               978907              1078869   \n",
       "ferronickel                     5929.0              63931.0   \n",
       "year                              2017                 2017   \n",
       "\n",
       "                                    8                    9   ...  \\\n",
       "date               2017-09-01 00:00:00  2017-10-01 00:00:00  ...   \n",
       "unit_measure                   USDkFOB              USDkFOB  ...   \n",
       "coffee                          233587               209842  ...   \n",
       "coal                            834211               554439  ...   \n",
       "oil_oilbyproducts              1042128              1236888  ...   \n",
       "ferronickel                    25659.0              44222.0  ...   \n",
       "year                              2017                 2017  ...   \n",
       "\n",
       "                                    14                   15  \\\n",
       "date               2017-03-01 00:00:00  2017-04-01 00:00:00   \n",
       "unit_measure                MetricTons           MetricTons   \n",
       "coffee                           77088                57973   \n",
       "coal                           8683657              5603903   \n",
       "oil_oilbyproducts              3297163              3351406   \n",
       "ferronickel                     9592.0               1693.0   \n",
       "year                              2017                 2017   \n",
       "\n",
       "                                    16                   17  \\\n",
       "date               2017-05-01 00:00:00  2017-06-01 00:00:00   \n",
       "unit_measure                MetricTons           MetricTons   \n",
       "coffee                           52450                37825   \n",
       "coal                          12455878              4975521   \n",
       "oil_oilbyproducts              3390710              3604211   \n",
       "ferronickel                    19861.0               8423.0   \n",
       "year                              2017                 2017   \n",
       "\n",
       "                                    18                   19  \\\n",
       "date               2017-07-01 00:00:00  2017-08-01 00:00:00   \n",
       "unit_measure                MetricTons           MetricTons   \n",
       "coffee                           66120                59373   \n",
       "coal                          10159976              8747276   \n",
       "oil_oilbyproducts              3271744              3441527   \n",
       "ferronickel                     2030.0              21729.0   \n",
       "year                              2017                 2017   \n",
       "\n",
       "                                    20                   21  \\\n",
       "date               2017-09-01 00:00:00  2017-10-01 00:00:00   \n",
       "unit_measure                MetricTons           MetricTons   \n",
       "coffee                           66721                59872   \n",
       "coal                          12246021              7834836   \n",
       "oil_oilbyproducts              3118191              3445708   \n",
       "ferronickel                     8165.0              11846.0   \n",
       "year                              2017                 2017   \n",
       "\n",
       "                                    22                   23  \n",
       "date               2017-11-01 00:00:00  2017-12-01 00:00:00  \n",
       "unit_measure                MetricTons           MetricTons  \n",
       "coffee                           56936                58920  \n",
       "coal                           6888399             14736902  \n",
       "oil_oilbyproducts              3025842              3591873  \n",
       "ferronickel                    13947.0               9021.0  \n",
       "year                              2017                 2017  \n",
       "\n",
       "[7 rows x 24 columns]"
      ]
     },
     "execution_count": 42,
     "metadata": {},
     "output_type": "execute_result"
    }
   ],
   "source": [
    "## Transpose\n",
    "df_pivot.T"
   ]
  },
  {
   "cell_type": "code",
   "execution_count": 43,
   "metadata": {},
   "outputs": [
    {
     "data": {
      "text/html": [
       "<div>\n",
       "<style scoped>\n",
       "    .dataframe tbody tr th:only-of-type {\n",
       "        vertical-align: middle;\n",
       "    }\n",
       "\n",
       "    .dataframe tbody tr th {\n",
       "        vertical-align: top;\n",
       "    }\n",
       "\n",
       "    .dataframe thead th {\n",
       "        text-align: right;\n",
       "    }\n",
       "</style>\n",
       "<table border=\"1\" class=\"dataframe\">\n",
       "  <thead>\n",
       "    <tr style=\"text-align: right;\">\n",
       "      <th>unit_measure</th>\n",
       "      <th>MetricTons</th>\n",
       "      <th>USDkFOB</th>\n",
       "    </tr>\n",
       "    <tr>\n",
       "      <th>date</th>\n",
       "      <th></th>\n",
       "      <th></th>\n",
       "    </tr>\n",
       "  </thead>\n",
       "  <tbody>\n",
       "    <tr>\n",
       "      <th>2017-01-01</th>\n",
       "      <td>6516997</td>\n",
       "      <td>426885</td>\n",
       "    </tr>\n",
       "    <tr>\n",
       "      <th>2017-02-01</th>\n",
       "      <td>6386224</td>\n",
       "      <td>498033</td>\n",
       "    </tr>\n",
       "    <tr>\n",
       "      <th>2017-03-01</th>\n",
       "      <td>8683657</td>\n",
       "      <td>616233</td>\n",
       "    </tr>\n",
       "    <tr>\n",
       "      <th>2017-04-01</th>\n",
       "      <td>5603903</td>\n",
       "      <td>385891</td>\n",
       "    </tr>\n",
       "    <tr>\n",
       "      <th>2017-05-01</th>\n",
       "      <td>12455878</td>\n",
       "      <td>804563</td>\n",
       "    </tr>\n",
       "    <tr>\n",
       "      <th>2017-06-01</th>\n",
       "      <td>4975521</td>\n",
       "      <td>359358</td>\n",
       "    </tr>\n",
       "    <tr>\n",
       "      <th>2017-07-01</th>\n",
       "      <td>10159976</td>\n",
       "      <td>652621</td>\n",
       "    </tr>\n",
       "    <tr>\n",
       "      <th>2017-08-01</th>\n",
       "      <td>8747276</td>\n",
       "      <td>560126</td>\n",
       "    </tr>\n",
       "    <tr>\n",
       "      <th>2017-09-01</th>\n",
       "      <td>12246021</td>\n",
       "      <td>834211</td>\n",
       "    </tr>\n",
       "    <tr>\n",
       "      <th>2017-10-01</th>\n",
       "      <td>7834836</td>\n",
       "      <td>554439</td>\n",
       "    </tr>\n",
       "    <tr>\n",
       "      <th>2017-11-01</th>\n",
       "      <td>6888399</td>\n",
       "      <td>534207</td>\n",
       "    </tr>\n",
       "    <tr>\n",
       "      <th>2017-12-01</th>\n",
       "      <td>14736902</td>\n",
       "      <td>1163429</td>\n",
       "    </tr>\n",
       "  </tbody>\n",
       "</table>\n",
       "</div>"
      ],
      "text/plain": [
       "unit_measure  MetricTons  USDkFOB\n",
       "date                             \n",
       "2017-01-01       6516997   426885\n",
       "2017-02-01       6386224   498033\n",
       "2017-03-01       8683657   616233\n",
       "2017-04-01       5603903   385891\n",
       "2017-05-01      12455878   804563\n",
       "2017-06-01       4975521   359358\n",
       "2017-07-01      10159976   652621\n",
       "2017-08-01       8747276   560126\n",
       "2017-09-01      12246021   834211\n",
       "2017-10-01       7834836   554439\n",
       "2017-11-01       6888399   534207\n",
       "2017-12-01      14736902  1163429"
      ]
     },
     "execution_count": 43,
     "metadata": {},
     "output_type": "execute_result"
    }
   ],
   "source": [
    "## Pivoter la tabla de acuerdo a un index\n",
    "df_pivot.pivot(index='date', columns = 'unit_measure', values = 'coal')"
   ]
  },
  {
   "cell_type": "markdown",
   "metadata": {},
   "source": [
    "### pandas.melt\n",
    "<img src=\"data/melt.png\" alt=\"drawing\" width=\"600\"/>"
   ]
  },
  {
   "cell_type": "code",
   "execution_count": 44,
   "metadata": {},
   "outputs": [
    {
     "data": {
      "image/png": "[encoded data removed]",
      "text/plain": [
       "<Figure size 842.4x595.44 with 1 Axes>"
      ]
     },
     "metadata": {},
     "output_type": "display_data"
    }
   ],
   "source": [
    "## Se obtiene la gráfica donde se observe la evolución del FOB USD en los años por commodity\n",
    "sns.set(rc={'figure.figsize':(11.7,8.27)})\n",
    "pre_aux = df_exports[(df_exports['unit_measure'] ==  'USDkFOB')]\n",
    "aux = pre_aux.melt(id_vars=['date'], value_vars=['coffee', 'coal','oil_oilbyproducts', 'ferronickel' ])\n",
    "aux.columns = ['date', 'Commodity', 'value']\n",
    "\n",
    "sns.set_theme(style=\"darkgrid\")\n",
    "ax = sns.lineplot(data=aux, x=\"date\", y=\"value\", hue=\"Commodity\")\n",
    "ax.set_title('Total traditional exports in FOB USD',fontsize=18)\n",
    "ax.set_ylabel('FOB USD (thousands)');ax.set_xlabel('')\n",
    "plt.show()"
   ]
  },
  {
   "cell_type": "code",
   "execution_count": 45,
   "metadata": {},
   "outputs": [
    {
     "data": {
      "text/plain": [
       "Text(0, 0.5, 'Year')"
      ]
     },
     "execution_count": 45,
     "metadata": {},
     "output_type": "execute_result"
    },
    {
     "data": {
      "image/png": "[encoded data removed]",
      "text/plain": [
       "<Figure size 842.4x595.44 with 1 Axes>"
      ]
     },
     "metadata": {},
     "output_type": "display_data"
    }
   ],
   "source": [
    "## Se obtiene gráfica donde se observe el cambio en la composición de las exportaciones por commodity\n",
    "sns.set(rc={'figure.figsize':(11.7,8.27)})\n",
    "pre_aux = df_exports[(df_exports['unit_measure'] ==  'MetricTons')]\n",
    "aux = pre_aux.loc[:, 'coffee':'year'].groupby(['year']).sum() \n",
    "aux.plot(kind='barh', stacked=True, color=['red', 'orange','blue', 'green'])\n",
    " \n",
    "# Add Title and Labels\n",
    "plt.title('Total traditional exports in Metric Tons',fontsize=18)\n",
    "plt.xlabel('Metric tons')\n",
    "plt.ylabel('Year')"
   ]
  },
  {
   "cell_type": "markdown",
   "metadata": {
    "tags": []
   },
   "source": [
    "### Paso 3. Load"
   ]
  },
  {
   "cell_type": "markdown",
   "metadata": {},
   "source": [
    "Se exporta el objeto df_exports_year a formato .csv"
   ]
  },
  {
   "cell_type": "code",
   "execution_count": 46,
   "metadata": {},
   "outputs": [],
   "source": [
    "df_exports_year.to_csv('data/output/Trad_exports_byyear.csv')"
   ]
  },
  {
   "cell_type": "markdown",
   "metadata": {},
   "source": [
    "Se exporta el objeto df_exports_year a formato .parquet"
   ]
  },
  {
   "cell_type": "code",
   "execution_count": 47,
   "metadata": {},
   "outputs": [
    {
     "ename": "ImportError",
     "evalue": "Missing optional dependency 'fastparquet'. fastparquet is required for parquet support. Use pip or conda to install fastparquet.",
     "output_type": "error",
     "traceback": [
      "\u001b[0;31m---------------------------------------------------------------------------\u001b[0m",
      "\u001b[0;31mImportError\u001b[0m                               Traceback (most recent call last)",
      "\u001b[0;32m<ipython-input-47-53a3aba44064>\u001b[0m in \u001b[0;36m<module>\u001b[0;34m\u001b[0m\n\u001b[0;32m----> 1\u001b[0;31m \u001b[0mdf_exports_year\u001b[0m\u001b[0;34m.\u001b[0m\u001b[0mto_parquet\u001b[0m\u001b[0;34m(\u001b[0m\u001b[0;34m'data/output/Trad_exports_byyear.parquet'\u001b[0m\u001b[0;34m,\u001b[0m \u001b[0mengine\u001b[0m\u001b[0;34m=\u001b[0m\u001b[0;34m'fastparquet'\u001b[0m\u001b[0;34m)\u001b[0m\u001b[0;34m\u001b[0m\u001b[0;34m\u001b[0m\u001b[0m\n\u001b[0m",
      "\u001b[0;32m/usr/local/lib/python3.9/site-packages/pandas/util/_decorators.py\u001b[0m in \u001b[0;36mwrapper\u001b[0;34m(*args, **kwargs)\u001b[0m\n\u001b[1;32m    197\u001b[0m                 \u001b[0;32melse\u001b[0m\u001b[0;34m:\u001b[0m\u001b[0;34m\u001b[0m\u001b[0;34m\u001b[0m\u001b[0m\n\u001b[1;32m    198\u001b[0m                     \u001b[0mkwargs\u001b[0m\u001b[0;34m[\u001b[0m\u001b[0mnew_arg_name\u001b[0m\u001b[0;34m]\u001b[0m \u001b[0;34m=\u001b[0m \u001b[0mnew_arg_value\u001b[0m\u001b[0;34m\u001b[0m\u001b[0;34m\u001b[0m\u001b[0m\n\u001b[0;32m--> 199\u001b[0;31m             \u001b[0;32mreturn\u001b[0m \u001b[0mfunc\u001b[0m\u001b[0;34m(\u001b[0m\u001b[0;34m*\u001b[0m\u001b[0margs\u001b[0m\u001b[0;34m,\u001b[0m \u001b[0;34m**\u001b[0m\u001b[0mkwargs\u001b[0m\u001b[0;34m)\u001b[0m\u001b[0;34m\u001b[0m\u001b[0;34m\u001b[0m\u001b[0m\n\u001b[0m\u001b[1;32m    200\u001b[0m \u001b[0;34m\u001b[0m\u001b[0m\n\u001b[1;32m    201\u001b[0m         \u001b[0;32mreturn\u001b[0m \u001b[0mcast\u001b[0m\u001b[0;34m(\u001b[0m\u001b[0mF\u001b[0m\u001b[0;34m,\u001b[0m \u001b[0mwrapper\u001b[0m\u001b[0;34m)\u001b[0m\u001b[0;34m\u001b[0m\u001b[0;34m\u001b[0m\u001b[0m\n",
      "\u001b[0;32m/usr/local/lib/python3.9/site-packages/pandas/core/frame.py\u001b[0m in \u001b[0;36mto_parquet\u001b[0;34m(self, path, engine, compression, index, partition_cols, storage_options, **kwargs)\u001b[0m\n\u001b[1;32m   2453\u001b[0m         \u001b[0;32mfrom\u001b[0m \u001b[0mpandas\u001b[0m\u001b[0;34m.\u001b[0m\u001b[0mio\u001b[0m\u001b[0;34m.\u001b[0m\u001b[0mparquet\u001b[0m \u001b[0;32mimport\u001b[0m \u001b[0mto_parquet\u001b[0m\u001b[0;34m\u001b[0m\u001b[0;34m\u001b[0m\u001b[0m\n\u001b[1;32m   2454\u001b[0m \u001b[0;34m\u001b[0m\u001b[0m\n\u001b[0;32m-> 2455\u001b[0;31m         return to_parquet(\n\u001b[0m\u001b[1;32m   2456\u001b[0m             \u001b[0mself\u001b[0m\u001b[0;34m,\u001b[0m\u001b[0;34m\u001b[0m\u001b[0;34m\u001b[0m\u001b[0m\n\u001b[1;32m   2457\u001b[0m             \u001b[0mpath\u001b[0m\u001b[0;34m,\u001b[0m\u001b[0;34m\u001b[0m\u001b[0;34m\u001b[0m\u001b[0m\n",
      "\u001b[0;32m/usr/local/lib/python3.9/site-packages/pandas/io/parquet.py\u001b[0m in \u001b[0;36mto_parquet\u001b[0;34m(df, path, engine, compression, index, storage_options, partition_cols, **kwargs)\u001b[0m\n\u001b[1;32m    384\u001b[0m     \u001b[0;32mif\u001b[0m \u001b[0misinstance\u001b[0m\u001b[0;34m(\u001b[0m\u001b[0mpartition_cols\u001b[0m\u001b[0;34m,\u001b[0m \u001b[0mstr\u001b[0m\u001b[0;34m)\u001b[0m\u001b[0;34m:\u001b[0m\u001b[0;34m\u001b[0m\u001b[0;34m\u001b[0m\u001b[0m\n\u001b[1;32m    385\u001b[0m         \u001b[0mpartition_cols\u001b[0m \u001b[0;34m=\u001b[0m \u001b[0;34m[\u001b[0m\u001b[0mpartition_cols\u001b[0m\u001b[0;34m]\u001b[0m\u001b[0;34m\u001b[0m\u001b[0;34m\u001b[0m\u001b[0m\n\u001b[0;32m--> 386\u001b[0;31m     \u001b[0mimpl\u001b[0m \u001b[0;34m=\u001b[0m \u001b[0mget_engine\u001b[0m\u001b[0;34m(\u001b[0m\u001b[0mengine\u001b[0m\u001b[0;34m)\u001b[0m\u001b[0;34m\u001b[0m\u001b[0;34m\u001b[0m\u001b[0m\n\u001b[0m\u001b[1;32m    387\u001b[0m \u001b[0;34m\u001b[0m\u001b[0m\n\u001b[1;32m    388\u001b[0m     \u001b[0mpath_or_buf\u001b[0m\u001b[0;34m:\u001b[0m \u001b[0mFilePathOrBuffer\u001b[0m \u001b[0;34m=\u001b[0m \u001b[0mio\u001b[0m\u001b[0;34m.\u001b[0m\u001b[0mBytesIO\u001b[0m\u001b[0;34m(\u001b[0m\u001b[0;34m)\u001b[0m \u001b[0;32mif\u001b[0m \u001b[0mpath\u001b[0m \u001b[0;32mis\u001b[0m \u001b[0;32mNone\u001b[0m \u001b[0;32melse\u001b[0m \u001b[0mpath\u001b[0m\u001b[0;34m\u001b[0m\u001b[0;34m\u001b[0m\u001b[0m\n",
      "\u001b[0;32m/usr/local/lib/python3.9/site-packages/pandas/io/parquet.py\u001b[0m in \u001b[0;36mget_engine\u001b[0;34m(engine)\u001b[0m\n\u001b[1;32m     47\u001b[0m         \u001b[0;32mreturn\u001b[0m \u001b[0mPyArrowImpl\u001b[0m\u001b[0;34m(\u001b[0m\u001b[0;34m)\u001b[0m\u001b[0;34m\u001b[0m\u001b[0;34m\u001b[0m\u001b[0m\n\u001b[1;32m     48\u001b[0m     \u001b[0;32melif\u001b[0m \u001b[0mengine\u001b[0m \u001b[0;34m==\u001b[0m \u001b[0;34m\"fastparquet\"\u001b[0m\u001b[0;34m:\u001b[0m\u001b[0;34m\u001b[0m\u001b[0;34m\u001b[0m\u001b[0m\n\u001b[0;32m---> 49\u001b[0;31m         \u001b[0;32mreturn\u001b[0m \u001b[0mFastParquetImpl\u001b[0m\u001b[0;34m(\u001b[0m\u001b[0;34m)\u001b[0m\u001b[0;34m\u001b[0m\u001b[0;34m\u001b[0m\u001b[0m\n\u001b[0m\u001b[1;32m     50\u001b[0m \u001b[0;34m\u001b[0m\u001b[0m\n\u001b[1;32m     51\u001b[0m     \u001b[0;32mraise\u001b[0m \u001b[0mValueError\u001b[0m\u001b[0;34m(\u001b[0m\u001b[0;34m\"engine must be one of 'pyarrow', 'fastparquet'\"\u001b[0m\u001b[0;34m)\u001b[0m\u001b[0;34m\u001b[0m\u001b[0;34m\u001b[0m\u001b[0m\n",
      "\u001b[0;32m/usr/local/lib/python3.9/site-packages/pandas/io/parquet.py\u001b[0m in \u001b[0;36m__init__\u001b[0;34m(self)\u001b[0m\n\u001b[1;32m    231\u001b[0m         \u001b[0;31m# since pandas is a dependency of fastparquet\u001b[0m\u001b[0;34m\u001b[0m\u001b[0;34m\u001b[0m\u001b[0m\n\u001b[1;32m    232\u001b[0m         \u001b[0;31m# we need to import on first use\u001b[0m\u001b[0;34m\u001b[0m\u001b[0;34m\u001b[0m\u001b[0m\n\u001b[0;32m--> 233\u001b[0;31m         fastparquet = import_optional_dependency(\n\u001b[0m\u001b[1;32m    234\u001b[0m             \u001b[0;34m\"fastparquet\"\u001b[0m\u001b[0;34m,\u001b[0m \u001b[0mextra\u001b[0m\u001b[0;34m=\u001b[0m\u001b[0;34m\"fastparquet is required for parquet support.\"\u001b[0m\u001b[0;34m\u001b[0m\u001b[0;34m\u001b[0m\u001b[0m\n\u001b[1;32m    235\u001b[0m         )\n",
      "\u001b[0;32m/usr/local/lib/python3.9/site-packages/pandas/compat/_optional.py\u001b[0m in \u001b[0;36mimport_optional_dependency\u001b[0;34m(name, extra, raise_on_missing, on_version)\u001b[0m\n\u001b[1;32m    107\u001b[0m     \u001b[0;32mexcept\u001b[0m \u001b[0mImportError\u001b[0m\u001b[0;34m:\u001b[0m\u001b[0;34m\u001b[0m\u001b[0;34m\u001b[0m\u001b[0m\n\u001b[1;32m    108\u001b[0m         \u001b[0;32mif\u001b[0m \u001b[0mraise_on_missing\u001b[0m\u001b[0;34m:\u001b[0m\u001b[0;34m\u001b[0m\u001b[0;34m\u001b[0m\u001b[0m\n\u001b[0;32m--> 109\u001b[0;31m             \u001b[0;32mraise\u001b[0m \u001b[0mImportError\u001b[0m\u001b[0;34m(\u001b[0m\u001b[0mmsg\u001b[0m\u001b[0;34m)\u001b[0m \u001b[0;32mfrom\u001b[0m \u001b[0;32mNone\u001b[0m\u001b[0;34m\u001b[0m\u001b[0;34m\u001b[0m\u001b[0m\n\u001b[0m\u001b[1;32m    110\u001b[0m         \u001b[0;32melse\u001b[0m\u001b[0;34m:\u001b[0m\u001b[0;34m\u001b[0m\u001b[0;34m\u001b[0m\u001b[0m\n\u001b[1;32m    111\u001b[0m             \u001b[0;32mreturn\u001b[0m \u001b[0;32mNone\u001b[0m\u001b[0;34m\u001b[0m\u001b[0;34m\u001b[0m\u001b[0m\n",
      "\u001b[0;31mImportError\u001b[0m: Missing optional dependency 'fastparquet'. fastparquet is required for parquet support. Use pip or conda to install fastparquet."
     ]
    }
   ],
   "source": [
    "df_exports_year.to_parquet('data/output/Trad_exports_byyear.parquet', engine='fastparquet')"
   ]
  },
  {
   "cell_type": "markdown",
   "metadata": {},
   "source": [
    "Se exporta el objeto df_exports_year a formato .json"
   ]
  },
  {
   "cell_type": "code",
   "execution_count": null,
   "metadata": {},
   "outputs": [],
   "source": [
    "df_exports_year.to_json('data/output/Trad_exports_byyear.json', orient=\"split\")"
   ]
  },
  {
   "cell_type": "markdown",
   "metadata": {},
   "source": [
    "---"
   ]
  }
 ],
 "metadata": {
  "kernelspec": {
   "display_name": "Python 3.9.13 64-bit",
   "language": "python",
   "name": "python3"
  },
  "language_info": {
   "codemirror_mode": {
    "name": "ipython",
    "version": 3
   },
   "file_extension": ".py",
   "mimetype": "text/x-python",
   "name": "python",
   "nbconvert_exporter": "python",
   "pygments_lexer": "ipython3",
   "version": "3.9.13"
  },
  "vscode": {
   "interpreter": {
    "hash": "aee8b7b246df8f9039afb4144a1f6fd8d2ca17a180786b69acc140d282b71a49"
   }
  }
 },
 "nbformat": 4,
 "nbformat_minor": 5
}
