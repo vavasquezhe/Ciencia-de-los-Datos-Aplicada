{
 "cells": [
  {
   "cell_type": "markdown",
   "metadata": {},
   "source": [
    "Taller N°1: Bash\n",
    "===\n",
    "\n",
    "**Valentina Vásquez Hernandez**  \n",
    "vavasquezhe@unal.edu.co   \n",
    "Universidad Nacional de Colombia, Sede Medellín  \n",
    "Facultad de Minas  \n",
    "Medellín, Colombia\n",
    "\n",
    "---\n"
   ]
  },
  {
   "cell_type": "markdown",
   "metadata": {},
   "source": [
    " Para el desarrollo de los ejercicios será necesario el archivo `taller.txt` que contiene información sobre pacientes suceptibles a estudio médico:"
   ]
  },
  {
   "cell_type": "code",
   "execution_count": 38,
   "metadata": {},
   "outputs": [
    {
     "name": "stdout",
     "output_type": "stream",
     "text": [
      "fullname,email,drug,phone,birthdate,city,bill\n",
      "Bert Joyner,Sed@eratsemperrutrum.com,Premarin,16110619-8573,2000-07-11T08:57:17-07:00,Haasdonk,43908\n",
      "Igor Yates,urna.Nullam.lobortis@lectusquismassa.edu,Namenda,16640818-9113,1985-02-24T02:13:13-08:00,Wilmont,43682\n",
      "Christian Savage,imperdiet@at.org,Amlodipine Besylate,16610609-4276,1984-03-05T20:51:57-08:00,Pamplona,13601\n",
      "Zia Hooper,sem.Pellentesque.ut@molestiedapibus.org,Metoprolol Tartrate ,16060507-3121,2009-12-27T13:06:26-08:00,Oostende,59905\n",
      "Colette Mcclain,egestas@Etiamgravida.org,Folic Acid,16340721-4661,1986-06-30T05:23:50-07:00,Saumur,57966\n",
      "Boris Strong,tincidunt.dui.augue@ProinmiAliquam.edu,Promethazine HCl,16511224-2796,2006-10-06T14:05:18-07:00,Beaumaris,74102\n",
      "Tallulah Cain,a.auctor@Donec.org,Metformin HCl,16150821-4358,1978-11-30T04:17:15-08:00,Verr�s,80813\n",
      "Lucy Snow,Aliquam@Mauris.net,Metoprolol Succinate,16920126-8985,2007-12-08T06:42:00-08:00,Villa Latina,2842\n",
      "Jasmine Curtis,sapien@sit.edu,Amlodipine Besylate,16930312-2726,2007-10-07T22:27:34-07:00,Chilliwack,68878\n"
     ]
    }
   ],
   "source": [
    "head taller.txt"
   ]
  },
  {
   "cell_type": "code",
   "execution_count": 40,
   "metadata": {},
   "outputs": [
    {
     "name": "stdout",
     "output_type": "stream",
     "text": [
      "100 taller.txt\n"
     ]
    }
   ],
   "source": [
    "wc -l taller.txt"
   ]
  },
  {
   "cell_type": "markdown",
   "metadata": {},
   "source": [
    "**Ejercicio N°1.** Obtenga los registros que indiquen 'Metropromol' como droga utilizada."
   ]
  },
  {
   "cell_type": "code",
   "execution_count": 67,
   "metadata": {},
   "outputs": [
    {
     "name": "stdout",
     "output_type": "stream",
     "text": [
      "\u001b[32m\u001b[K5\u001b[m\u001b[K\u001b[36m\u001b[K:\u001b[m\u001b[K\u001b[01;31m\u001b[KMetoprolol\u001b[m\u001b[K Tartrate \n",
      "\u001b[32m\u001b[K9\u001b[m\u001b[K\u001b[36m\u001b[K:\u001b[m\u001b[K\u001b[01;31m\u001b[KMetoprolol\u001b[m\u001b[K Succinate\n",
      "\u001b[32m\u001b[K48\u001b[m\u001b[K\u001b[36m\u001b[K:\u001b[m\u001b[K\u001b[01;31m\u001b[KMetoprolol\u001b[m\u001b[K Succinatee\n",
      "\u001b[32m\u001b[K86\u001b[m\u001b[K\u001b[36m\u001b[K:\u001b[m\u001b[K\u001b[01;31m\u001b[KMetoprolol\u001b[m\u001b[K Tartrate \n"
     ]
    }
   ],
   "source": [
    "cut -d, -f3 taller.txt | grep -n --color Metoprolol  #la opcion -n muestra el número de la linea y --color señala la busqueda."
   ]
  },
  {
   "cell_type": "code",
   "execution_count": 27,
   "metadata": {},
   "outputs": [
    {
     "name": "stdout",
     "output_type": "stream",
     "text": [
      "4\n"
     ]
    }
   ],
   "source": [
    "grep -c 'Metoprolol' taller.txt #la opción -c muestra cuantas veces está la busqueda en el archivo."
   ]
  },
  {
   "cell_type": "markdown",
   "metadata": {},
   "source": [
    "**Ejercicio N°2.** Obtenga los registros que indiquen 'Metropromol' como droga utilizada."
   ]
  },
  {
   "cell_type": "code",
   "execution_count": 37,
   "metadata": {},
   "outputs": [
    {
     "name": "stdout",
     "output_type": "stream",
     "text": [
      "Boris Strong,tincidunt.dui.augue@ProinmiAliquam.edu,Promethazine HCl,16511224-2796,2006-10-06T14:05:18-07:00,Beaumaris,74102\n",
      "Tallulah Cain,a.auctor@Donec.org,Metformin HCl,16150821-4358,1978-11-30T04:17:15-08:00,Verr�s,80813\n",
      "Wesley Head,et@Donectempor.edu,Metformin HCl,16070604-4211,1995-10-28T11:46:15-07:00,Moradabad,89326\n",
      "Ursa Peters,netus@amet.edu,Amoxicillin,16820919-0126,2014-09-30T12:56:49-07:00,Innisfail,72497\n",
      "Oprah Larsen,eu@nonenimcommodo.org,Bystolic,16520726-8474,1998-03-28T02:09:21-08:00,Sierning,90019\n",
      "Wynne Roberts,ultricies@vitaepurusgravida.edu,Fluoxetine HCl,16800807-0743,1986-12-29T11:42:59-08:00,Rosolini,99116\n",
      "Austin Larsen,augue@pharetraNamac.edu,Diazepam,16371001-0707,2002-11-08T16:31:56-08:00,Deutschkreutz,94057\n",
      "Paula Carlson,sed@vitaerisus.edu,Cephalexin,16870516-8774,1994-11-19T22:07:26-08:00,Anzegem,76082\n",
      "Lael Mccullough,vitae.orci.Phasellus@feugiatnonlobortis.edu,Warfarin Sodium,16270413-2154,2014-11-17T02:09:20-08:00,Rae Lakes,72754\n"
     ]
    }
   ],
   "source": [
    "awk '/\\.(org|edu)/' taller.txt | awk -F',' '$7 > 70000' "
   ]
  },
  {
   "cell_type": "markdown",
   "metadata": {},
   "source": [
    "**Ejercicio N°2.** Obtenga el apellido del paciente seguido del nombre, en diferentes columnas."
   ]
  },
  {
   "cell_type": "code",
   "execution_count": 16,
   "metadata": {},
   "outputs": [
    {
     "name": "stdout",
     "output_type": "stream",
     "text": [
      "Eugenia Kent,lorem.eu@tellusimperdietnon.net,Doxycycline Hyclate,16830901-5439,1976-06-21T19:40:49-07:00,Worcester,33659\n",
      "Elvis Mitchell,rutrum@malesuada.net,Ibuprofen (Rx),16490829-6298,2002-06-22T13:07:08-07:00,Chiusanico,0743\n",
      "Hiram Weber,mi@blanditmattisCras.ca,Fluconazole,16540129-5158,2012-11-08T12:18:23-08:00,Schwedt,43796\n",
      "Piper Livingston,amet.consectetuer.adipiscing@orciluctuset.net,Furosemide,16580409-6120,2017-09-27T12:00:36-07:00,Des Moines,19273\n",
      "Camden Hernandez,Etiam.vestibulum@luctusipsum.edu,Nexium,16480115-5120,2017-01-28T05:03:22-08:00,Orbais,28980\n",
      "Patrick Kidd,nisl.sem@vitaesemper.co.uk,Venlafaxine HCl ER,16220612-8023,2012-01-25T09:55:25-08:00,Jammu,23846\n",
      "Aileen Sutton,auctor@ipsum.edu,Lisinopril,16140923-2384,2015-07-02T19:12:04-07:00,Sibret,4729"
     ]
    }
   ],
   "source": [
    "tail -n +95 taller.txt"
   ]
  },
  {
   "cell_type": "code",
   "execution_count": 13,
   "metadata": {},
   "outputs": [
    {
     "name": "stdout",
     "output_type": "stream",
     "text": [
      "Kent,Eugenia,lorem.eu@tellusimperdietnon.net,Doxycycline Hyclate,16830901-5439,1976-06-21T19:40:49-07:00,Worcester,33659\n",
      "Mitchell,Elvis,rutrum@malesuada.net,Ibuprofen (Rx),16490829-6298,2002-06-22T13:07:08-07:00,Chiusanico,0743\n",
      "Weber,Hiram,mi@blanditmattisCras.ca,Fluconazole,16540129-5158,2012-11-08T12:18:23-08:00,Schwedt,43796\n",
      "Livingston,Piper,amet.consectetuer.adipiscing@orciluctuset.net,Furosemide,16580409-6120,2017-09-27T12:00:36-07:00,Des Moines,19273\n",
      "Hernandez,Camden,Etiam.vestibulum@luctusipsum.edu,Nexium,16480115-5120,2017-01-28T05:03:22-08:00,Orbais,28980\n",
      "Kidd,Patrick,nisl.sem@vitaesemper.co.uk,Venlafaxine HCl ER,16220612-8023,2012-01-25T09:55:25-08:00,Jammu,23846\n",
      "Sutton,Aileen,auctor@ipsum.edu,Lisinopril,16140923-2384,2015-07-02T19:12:04-07:00,Sibret,4729\n"
     ]
    }
   ],
   "source": [
    "awk '{print gensub(/([a-zA-Z]*) ([a-zA-Z]*)/, \"\\\\2,\\\\1\",1)}' taller.txt | tail -n +95"
   ]
  },
  {
   "cell_type": "code",
   "execution_count": 14,
   "metadata": {},
   "outputs": [
    {
     "name": "stdout",
     "output_type": "stream",
     "text": [
      "Kent,Eugenia,lorem.eu@tellusimperdietnon.net,Doxycycline Hyclate,16830901-5439,1976-06-21T19:40:49-07:00,Worcester,33659\n",
      "Mitchell,Elvis,rutrum@malesuada.net,Ibuprofen (Rx),16490829-6298,2002-06-22T13:07:08-07:00,Chiusanico,0743\n",
      "Weber,Hiram,mi@blanditmattisCras.ca,Fluconazole,16540129-5158,2012-11-08T12:18:23-08:00,Schwedt,43796\n",
      "Livingston,Piper,amet.consectetuer.adipiscing@orciluctuset.net,Furosemide,16580409-6120,2017-09-27T12:00:36-07:00,Des Moines,19273\n",
      "Hernandez,Camden,Etiam.vestibulum@luctusipsum.edu,Nexium,16480115-5120,2017-01-28T05:03:22-08:00,Orbais,28980\n",
      "Kidd,Patrick,nisl.sem@vitaesemper.co.uk,Venlafaxine HCl ER,16220612-8023,2012-01-25T09:55:25-08:00,Jammu,23846\n",
      "Sutton,Aileen,auctor@ipsum.edu,Lisinopril,16140923-2384,2015-07-02T19:12:04-07:00,Sibret,4729"
     ]
    }
   ],
   "source": [
    "sed 's/\\([a-zA-Z]*\\) \\([a-zA-Z]*\\)/\\2,\\1/' taller.txt | tail -n +95"
   ]
  },
  {
   "cell_type": "markdown",
   "metadata": {},
   "source": [
    "**Ejercicio N°3** Obtenga la fecha nacimiento del paciente en forma YYYY-MM-DD."
   ]
  },
  {
   "cell_type": "code",
   "execution_count": 32,
   "metadata": {
    "scrolled": true
   },
   "outputs": [
    {
     "name": "stdout",
     "output_type": "stream",
     "text": [
      "Eugenia Kent,lorem.eu@tellusimperdietnon.net,Doxycycline Hyclate,16830901-5439,1976-06-21,Worcester,33659\n",
      "Elvis Mitchell,rutrum@malesuada.net,Ibuprofen (Rx),16490829-6298,2002-06-22,Chiusanico,0743\n",
      "Hiram Weber,mi@blanditmattisCras.ca,Fluconazole,16540129-5158,2012-11-08,Schwedt,43796\n",
      "Piper Livingston,amet.consectetuer.adipiscing@orciluctuset.net,Furosemide,16580409-6120,2017-09-27,Des Moines,19273\n",
      "Camden Hernandez,Etiam.vestibulum@luctusipsum.edu,Nexium,16480115-5120,2017-01-28,Orbais,28980\n",
      "Patrick Kidd,nisl.sem@vitaesemper.co.uk,Venlafaxine HCl ER,16220612-8023,2012-01-25,Jammu,23846\n",
      "Aileen Sutton,auctor@ipsum.edu,Lisinopril,16140923-2384,2015-07-02,Sibret,4729\n"
     ]
    }
   ],
   "source": [
    "awk '{print gensub(/([0-9]*-[0-9]*-[0-9]*)([A-Z][0-9]*:[0-9]*:[0-9]*-[0-9]*:[0-9]*,)/,\"\\\\1,\",1)}' taller.txt | tail -n +95"
   ]
  },
  {
   "cell_type": "code",
   "execution_count": 39,
   "metadata": {},
   "outputs": [
    {
     "name": "stdout",
     "output_type": "stream",
     "text": [
      "Eugenia Kent,lorem.eu@tellusimperdietnon.net,Doxycycline Hyclate,16830901-5439,1976-06-21,Worcester,33659\n",
      "Elvis Mitchell,rutrum@malesuada.net,Ibuprofen (Rx),16490829-6298,2002-06-22,Chiusanico,0743\n",
      "Hiram Weber,mi@blanditmattisCras.ca,Fluconazole,16540129-5158,2012-11-08,Schwedt,43796\n",
      "Piper Livingston,amet.consectetuer.adipiscing@orciluctuset.net,Furosemide,16580409-6120,2017-09-27,Des Moines,19273\n",
      "Camden Hernandez,Etiam.vestibulum@luctusipsum.edu,Nexium,16480115-5120,2017-01-28,Orbais,28980\n",
      "Patrick Kidd,nisl.sem@vitaesemper.co.uk,Venlafaxine HCl ER,16220612-8023,2012-01-25,Jammu,23846\n",
      "Aileen Sutton,auctor@ipsum.edu,Lisinopril,16140923-2384,2015-07-02,Sibret,4729"
     ]
    }
   ],
   "source": [
    "sed 's/\\([0-9]*-[0-9]*-[0-9]*\\)\\([A-Z][0-9]*:[0-9]*:[0-9]*-[0-9]*:[0-9]*,\\)/\\1,/' taller.txt| tail -n +95"
   ]
  },
  {
   "cell_type": "markdown",
   "metadata": {},
   "source": [
    "**Ejercicio N°4** Elimine del archivo `person` todos los registros de las personas  que hayan nacido después del año `1980`."
   ]
  },
  {
   "cell_type": "code",
   "execution_count": 22,
   "metadata": {},
   "outputs": [
    {
     "name": "stdout",
     "output_type": "stream",
     "text": [
      "﻿\"ssn\",\"phone\",\"city\",\"maritalstatus\",\"fullname\",\"birthdate\"\n",
      "\"216-51-1025\",\"(09)-5580-7527\",\"Memphis (Tennessee)\",\"Single\",\"Marco Goodman\",\"Thu+1988-06-30+00:00:00\"\n",
      "\"116-51-1291\",\"(07)-2905-7818\",\"Buffalo (New York)\",\"Married\",\"Roxanne Kerns\",\"Wed+1974-11-27+00:00:00\"\n",
      "\"177-44-1159\",\"(09)-5062-6922\",\"Detroit (Michigan)\",\"Single\",\"Regina Lauritzen\",\"Sun+1969-07-27+00:00:00\"\n",
      "\"116-81-1883\",\"(03)-1350-7402\",\"Chandler (Arizona)\",\"Divorced\",\"Howard Samsel\",\"Sun+1989-11-26+00:00:00\"\n",
      "\"429-83-1156\",\"(09)-5794-9470\",\"Scottsdale (Arizona)\",\"Married\",\"Gabriel Kingston\",\"Fri+1978-05-05+00:00:00\"\n",
      "\"381-54-1605\",\"(05)-5330-5036\",\"Albuquerque (New Mexico)\",\"Single\",\"Carrie Bigelow\",\"Sun+1982-05-02+00:00:00\"\n",
      "\"224-99-1262\",\"(05)-3339-3262\",\"Milwaukee (Wisconsin)\",\"Married\",\"Nichelle Thaxton\",\"Sat+1988-01-02+00:00:00\"\n",
      "\"301-25-1394\",\"(07)-4370-8507\",\"Houston (Texas)\",\"Single\",\"Joaquin Yap\",\"Sun+1972-11-12+00:00:00\"\n",
      "\"323-51-1535\",\"(03)-5179-6500\",\"Las Vegas (Nevada)\",\"Married\",\"Yu Kittredge\",\"Sun+1978-01-22+00:00:00\"\n"
     ]
    }
   ],
   "source": [
    "head person"
   ]
  },
  {
   "cell_type": "code",
   "execution_count": 24,
   "metadata": {},
   "outputs": [
    {
     "name": "stdout",
     "output_type": "stream",
     "text": [
      "﻿\"ssn\",\"phone\",\"city\",\"maritalstatus\",\"fullname\",\"birthdate\"\n",
      "\"216-51-1025\",\"(09)-5580-7527\",\"Memphis (Tennessee)\",\"Single\",\"Marco Goodman\", 1988\n",
      "\"116-51-1291\",\"(07)-2905-7818\",\"Buffalo (New York)\",\"Married\",\"Roxanne Kerns\", 1974\n",
      "\"177-44-1159\",\"(09)-5062-6922\",\"Detroit (Michigan)\",\"Single\",\"Regina Lauritzen\", 1969\n",
      "\"116-81-1883\",\"(03)-1350-7402\",\"Chandler (Arizona)\",\"Divorced\",\"Howard Samsel\", 1989\n",
      "\"429-83-1156\",\"(09)-5794-9470\",\"Scottsdale (Arizona)\",\"Married\",\"Gabriel Kingston\", 1978\n",
      "\"381-54-1605\",\"(05)-5330-5036\",\"Albuquerque (New Mexico)\",\"Single\",\"Carrie Bigelow\", 1982\n",
      "\"224-99-1262\",\"(05)-3339-3262\",\"Milwaukee (Wisconsin)\",\"Married\",\"Nichelle Thaxton\", 1988\n",
      "\"301-25-1394\",\"(07)-4370-8507\",\"Houston (Texas)\",\"Single\",\"Joaquin Yap\", 1972\n",
      "\"323-51-1535\",\"(03)-5179-6500\",\"Las Vegas (Nevada)\",\"Married\",\"Yu Kittredge\", 1978\n"
     ]
    }
   ],
   "source": [
    "awk '{print gensub(/,\"([a-zA-Z][a-zA-Z][a-zA-Z])\\+([0-9][0-9][0-9][0-9])-([0-9][0-9])-([0-9][0-9])\\+([0-9]*:[0-9]*:[0-9]*\")/, \", \\\\2\", 1)}' person > out_1\n",
    "head out_1"
   ]
  },
  {
   "cell_type": "code",
   "execution_count": 26,
   "metadata": {},
   "outputs": [
    {
     "name": "stdout",
     "output_type": "stream",
     "text": [
      "﻿\"ssn\",\"phone\",\"city\",\"maritalstatus\",\"fullname\",\"birthdate\"\n",
      "\"116-51-1291\",\"(07)-2905-7818\",\"Buffalo (New York)\",\"Married\",\"Roxanne Kerns\", 1974\n",
      "\"177-44-1159\",\"(09)-5062-6922\",\"Detroit (Michigan)\",\"Single\",\"Regina Lauritzen\", 1969\n",
      "\"429-83-1156\",\"(09)-5794-9470\",\"Scottsdale (Arizona)\",\"Married\",\"Gabriel Kingston\", 1978\n",
      "\"301-25-1394\",\"(07)-4370-8507\",\"Houston (Texas)\",\"Single\",\"Joaquin Yap\", 1972\n",
      "\"323-51-1535\",\"(03)-5179-6500\",\"Las Vegas (Nevada)\",\"Married\",\"Yu Kittredge\", 1978\n",
      "\"216-85-1367\",\"(07)-2905-9114\",\"Saint Paul (Minnesota)\",\"Divorced\",\"Tania Raley\", 1973\n",
      "\"166-82-1605\",\"(09)-6473-4208\",\"Irvine (California)\",\"Married\",\"Demetrius Fry\", 1975\n",
      "\"177-44-1054\",\"(08)-5902-5867\",\"El Paso (Texas)\",\"Single\",\"Millie Lasher\", 1976\n",
      "\"224-25-1891\",\"(05)-9333-5713\",\"Las Vegas (Nevada)\",\"Divorced\",\"Wallace Lowery\", 1971\n"
     ]
    }
   ],
   "source": [
    "awk -F',' '$6 < 1980' out_1 > out_2\n",
    "head out_2"
   ]
  },
  {
   "cell_type": "code",
   "execution_count": 27,
   "metadata": {},
   "outputs": [
    {
     "name": "stdout",
     "output_type": "stream",
     "text": [
      "15001 person\n",
      "7493 out_2\n"
     ]
    }
   ],
   "source": [
    "wc -l person; wc -l out_2"
   ]
  },
  {
   "cell_type": "markdown",
   "metadata": {},
   "source": [
    "---"
   ]
  },
  {
   "cell_type": "markdown",
   "metadata": {},
   "source": [
    "Taller N°1: Bash\n",
    "===\n",
    "\n",
    "**Valentina Vásquez Hernandez**  \n",
    "vavasquezhe@unal.edu.co   \n",
    "Universidad Nacional de Colombia, Sede Medellín  \n",
    "Facultad de Minas  \n",
    "Medellín, Colombia\n",
    "\n",
    "\n"
   ]
  }
 ],
 "metadata": {
  "kernelspec": {
   "display_name": "Bash",
   "language": "bash",
   "name": "bash"
  },
  "language_info": {
   "codemirror_mode": "shell",
   "file_extension": ".sh",
   "mimetype": "text/x-sh",
   "name": "bash"
  }
 },
 "nbformat": 4,
 "nbformat_minor": 2
}
