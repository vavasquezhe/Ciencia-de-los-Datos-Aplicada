{
 "cells": [
  {
   "cell_type": "markdown",
   "metadata": {},
   "source": [
    "MARIADB - JOIN\n",
    "===\n",
    "\n",
    "**Valentina Vásquez Hernandez**  \n",
    "vavasquezhe@unal.edu.co   \n",
    "Universidad Nacional de Colombia, Sede Medellín  \n",
    "Facultad de Minas  \n",
    "Medellín, Colombia\n",
    "\n",
    "---\n"
   ]
  },
  {
   "cell_type": "markdown",
   "metadata": {},
   "source": [
    "<img src=\"sql_joins.png\">"
   ]
  },
  {
   "cell_type": "markdown",
   "metadata": {},
   "source": [
    "\n",
    "---\n"
   ]
  },
  {
   "cell_type": "markdown",
   "metadata": {},
   "source": [
    "Para el motor MariaDB que se implementó en clase, los comandos JOIN disponibles son LEFT JOIN, RIGHT JOIN, INNER JOIN y  CROSS JOIN."
   ]
  },
  {
   "cell_type": "markdown",
   "metadata": {},
   "source": [
    "**INNER JOIN**:Muestra las filas que coincidan en ambos archivos. \n",
    "\n",
    "> SELECT * FROM data_1 INNER JOIN data_2 ON data_1.id=data_2.id;\n",
    "\n"
   ]
  },
  {
   "cell_type": "markdown",
   "metadata": {},
   "source": [
    "**LEFT JOIN**:Muestra las filas que coincidan en ambos archivos. \n",
    "\n",
    "> SELECT * FROM data_1 LEFT JOIN data_2 ON data_1.id=data_2.id;\n",
    "\n"
   ]
  },
  {
   "cell_type": "markdown",
   "metadata": {},
   "source": [
    "**RIGTH JOIN**:Muestra las filas que coincidan en ambos archivos. \n",
    "\n",
    "> SELECT * FROM data_1 RIGHT JOIN data_2 ON data_1.id=data_2.id;\n",
    "\n"
   ]
  },
  {
   "cell_type": "markdown",
   "metadata": {},
   "source": [
    "---"
   ]
  }
 ],
 "metadata": {
  "kernelspec": {
   "display_name": "Bash",
   "language": "bash",
   "name": "bash"
  },
  "language_info": {
   "codemirror_mode": "shell",
   "file_extension": ".sh",
   "mimetype": "text/x-sh",
   "name": "bash"
  }
 },
 "nbformat": 4,
 "nbformat_minor": 2
}
