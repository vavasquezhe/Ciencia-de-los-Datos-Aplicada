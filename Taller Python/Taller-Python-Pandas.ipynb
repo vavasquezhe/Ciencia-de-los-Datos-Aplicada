{
 "cells": [
  {
   "cell_type": "markdown",
   "metadata": {},
   "source": [
    "Taller práctico - Python - Pandas\n",
    "===\n",
    "\n",
    "**Valentina Vasquez Hernadez**  \n",
    "vavasquezhe@unal.edu.co   \n",
    "Universidad Nacional de Colombia, Sede Medellín  \n",
    "Facultad de Minas  \n",
    "Medellín, Colombia\n",
    "\n",
    "---\n"
   ]
  },
  {
   "cell_type": "markdown",
   "metadata": {},
   "source": [
    "## Bibliografía\n",
    "[1] DANE , «DANE - Estadísticas por tema,» Julio 2018. [En línea]. Available: https://www.dane.gov.co/index.php/estadisticas-por-tema/comercio-internacional/exportaciones. [Último acceso: 4 Septiembre 2018]."
   ]
  },
  {
   "cell_type": "markdown",
   "metadata": {},
   "source": [
    "## Contexto\n",
    ".\n",
    "\n",
    "<div class=text-justify> Los archivos `Exportaciones_tradicionales_AÑO` corresponden a las exportaciones colombianas de café, carbón, ferroníquel y petróleo y sus derivados, denominados como tradicionales y que representan aproximadamente el 62% de las exportaciones totales del país.[1] </div>.\n",
    "<div class=text-justify> Las exportaciones se encuentran medidas en toneladas métricas que corresponde al volumen de producto en medida internacional y también el dolares FOB (Free On Board) que denota el valor de los productos en las aduanas fronterizas incluyendo el costo de impuestos, derechos de exportación, inspecciones, etc, hasta que este ha sido debidamente puesto en el transporte de salida. </div>.\n",
    "\n",
    "<div class=text-justify>  Realice los siguientes ejercicios de acuerdo a la información contenida en los archivos mencionados y su respectivo análisis.   </div>"
   ]
  },
  {
   "cell_type": "code",
   "execution_count": 29,
   "metadata": {},
   "outputs": [
    {
     "name": "stdout",
     "output_type": "stream",
     "text": [
      "1/03/1992;Toneladas Metricas;61685;324415;1349665;2555\r",
      "\r\n",
      "1/04/1992;Toneladas Metricas;81761;1410411;1110176;773\r",
      "\r\n",
      "1/05/1992;Toneladas Metricas;86318;963402;1128888;7698\r",
      "\r\n",
      "1/06/1992;Toneladas Metricas;99106;964840;770133;5091\r",
      "\r\n",
      "1/07/1992;Toneladas Metricas;75940;1645281;1165882;3061\r",
      "\r\n",
      "1/08/1992;Toneladas Metricas;76846;742083;1181742;1537\r",
      "\r\n",
      "1/09/1992;Toneladas Metricas;66725;1390825;1030560;8555\r",
      "\r\n",
      "1/10/1992;Toneladas Metricas;80782;1325570;1192537;3667\r",
      "\r\n",
      "1/11/1992;Toneladas Metricas;95215;1562868;474294;3849\r",
      "\r\n",
      "1/12/1992;Toneladas Metricas;101672;1886992;720154;3476\r",
      "\r\n"
     ]
    }
   ],
   "source": [
    "!tail Exportaciones_tradicionales_1992.csv"
   ]
  },
  {
   "cell_type": "markdown",
   "metadata": {},
   "source": [
    "**Ejercicio N°1** Construya una tabla que contenga la información de todos los años. Debe contener las siguientes columnas:\n",
    "\n",
    "* fecha\n",
    "* unidad de medida\n",
    "* cafe\n",
    "* carbon\n",
    "* petroleo y sus derivados\n",
    "* ferroniquel"
   ]
  },
  {
   "cell_type": "code",
   "execution_count": 2,
   "metadata": {},
   "outputs": [],
   "source": [
    "import pandas as pd\n",
    "import glob\n",
    "import numpy as np\n",
    "import matplotlib.pyplot as plt\n",
    "import sys"
   ]
  },
  {
   "cell_type": "code",
   "execution_count": 3,
   "metadata": {},
   "outputs": [],
   "source": [
    "## Se guardan los nombres de los archivos en una lista\n",
    "dirs = glob.glob('Exportaciones_tradicionales_*.csv')\n",
    "file = pd.DataFrame()\n",
    "\n",
    "#Se crean tablas de pandas para concatenar la información\n",
    "for i in dirs:\n",
    "    g = pd.read_csv(i,sep = ';',thousands='.',skiprows=1, header=None, na_values=\"-\")\n",
    "    file = file.append(g)\n",
    "    \n",
    "file.columns=['fecha', 'unidad', 'cafe', 'carbon', 'petroleo', 'ferroniquel']"
   ]
  },
  {
   "cell_type": "code",
   "execution_count": 4,
   "metadata": {},
   "outputs": [
    {
     "data": {
      "text/html": [
       "<div>\n",
       "<style scoped>\n",
       "    .dataframe tbody tr th:only-of-type {\n",
       "        vertical-align: middle;\n",
       "    }\n",
       "\n",
       "    .dataframe tbody tr th {\n",
       "        vertical-align: top;\n",
       "    }\n",
       "\n",
       "    .dataframe thead th {\n",
       "        text-align: right;\n",
       "    }\n",
       "</style>\n",
       "<table border=\"1\" class=\"dataframe\">\n",
       "  <thead>\n",
       "    <tr style=\"text-align: right;\">\n",
       "      <th></th>\n",
       "      <th>fecha</th>\n",
       "      <th>unidad</th>\n",
       "      <th>cafe</th>\n",
       "      <th>carbon</th>\n",
       "      <th>petroleo</th>\n",
       "      <th>ferroniquel</th>\n",
       "    </tr>\n",
       "  </thead>\n",
       "  <tbody>\n",
       "    <tr>\n",
       "      <th>9</th>\n",
       "      <td>1/03/2018</td>\n",
       "      <td>Toneladas Metricas</td>\n",
       "      <td>60532</td>\n",
       "      <td>8501830</td>\n",
       "      <td>2958676</td>\n",
       "      <td>15021</td>\n",
       "    </tr>\n",
       "    <tr>\n",
       "      <th>10</th>\n",
       "      <td>1/04/2018</td>\n",
       "      <td>Toneladas Metricas</td>\n",
       "      <td>61389</td>\n",
       "      <td>9579831</td>\n",
       "      <td>3258040</td>\n",
       "      <td>14186</td>\n",
       "    </tr>\n",
       "    <tr>\n",
       "      <th>11</th>\n",
       "      <td>1/05/2018</td>\n",
       "      <td>Toneladas Metricas</td>\n",
       "      <td>57533</td>\n",
       "      <td>7055155</td>\n",
       "      <td>3205261</td>\n",
       "      <td>16077</td>\n",
       "    </tr>\n",
       "    <tr>\n",
       "      <th>12</th>\n",
       "      <td>1/06/2018</td>\n",
       "      <td>Toneladas Metricas</td>\n",
       "      <td>44127</td>\n",
       "      <td>5970972</td>\n",
       "      <td>3019655</td>\n",
       "      <td>10589</td>\n",
       "    </tr>\n",
       "    <tr>\n",
       "      <th>13</th>\n",
       "      <td>1/07/2018</td>\n",
       "      <td>Toneladas Metricas</td>\n",
       "      <td>49660</td>\n",
       "      <td>8364156</td>\n",
       "      <td>3159031</td>\n",
       "      <td>12966</td>\n",
       "    </tr>\n",
       "  </tbody>\n",
       "</table>\n",
       "</div>"
      ],
      "text/plain": [
       "        fecha              unidad   cafe   carbon  petroleo ferroniquel\n",
       "9   1/03/2018  Toneladas Metricas  60532  8501830   2958676       15021\n",
       "10  1/04/2018  Toneladas Metricas  61389  9579831   3258040       14186\n",
       "11  1/05/2018  Toneladas Metricas  57533  7055155   3205261       16077\n",
       "12  1/06/2018  Toneladas Metricas  44127  5970972   3019655       10589\n",
       "13  1/07/2018  Toneladas Metricas  49660  8364156   3159031       12966"
      ]
     },
     "execution_count": 4,
     "metadata": {},
     "output_type": "execute_result"
    }
   ],
   "source": [
    "file.tail()"
   ]
  },
  {
   "cell_type": "code",
   "execution_count": 5,
   "metadata": {},
   "outputs": [
    {
     "data": {
      "text/plain": [
       "638"
      ]
     },
     "execution_count": 5,
     "metadata": {},
     "output_type": "execute_result"
    }
   ],
   "source": [
    "len(file)"
   ]
  },
  {
   "cell_type": "markdown",
   "metadata": {},
   "source": [
    "**Ejercicio N°2** Agregue a la tabla el año y mes correspondiente en dos nuevas columnas, y elimine la columna contiene la fecha completa."
   ]
  },
  {
   "cell_type": "code",
   "execution_count": 6,
   "metadata": {},
   "outputs": [],
   "source": [
    "## Se reconoce la fecha con formato fecha para pandas\n",
    "file['fecha'] =  pd.to_datetime(file['fecha'], format='%d/%m/%Y')"
   ]
  },
  {
   "cell_type": "code",
   "execution_count": 7,
   "metadata": {},
   "outputs": [
    {
     "data": {
      "text/html": [
       "<div>\n",
       "<style scoped>\n",
       "    .dataframe tbody tr th:only-of-type {\n",
       "        vertical-align: middle;\n",
       "    }\n",
       "\n",
       "    .dataframe tbody tr th {\n",
       "        vertical-align: top;\n",
       "    }\n",
       "\n",
       "    .dataframe thead th {\n",
       "        text-align: right;\n",
       "    }\n",
       "</style>\n",
       "<table border=\"1\" class=\"dataframe\">\n",
       "  <thead>\n",
       "    <tr style=\"text-align: right;\">\n",
       "      <th></th>\n",
       "      <th>fecha</th>\n",
       "      <th>unidad</th>\n",
       "      <th>cafe</th>\n",
       "      <th>carbon</th>\n",
       "      <th>petroleo</th>\n",
       "      <th>ferroniquel</th>\n",
       "    </tr>\n",
       "  </thead>\n",
       "  <tbody>\n",
       "    <tr>\n",
       "      <th>0</th>\n",
       "      <td>1992-01-01</td>\n",
       "      <td>Miles de Dolares FOB</td>\n",
       "      <td>108864</td>\n",
       "      <td>39350</td>\n",
       "      <td>130960</td>\n",
       "      <td>2580</td>\n",
       "    </tr>\n",
       "    <tr>\n",
       "      <th>1</th>\n",
       "      <td>1992-02-01</td>\n",
       "      <td>Miles de Dolares FOB</td>\n",
       "      <td>114799</td>\n",
       "      <td>56116</td>\n",
       "      <td>102964</td>\n",
       "      <td>17023</td>\n",
       "    </tr>\n",
       "    <tr>\n",
       "      <th>2</th>\n",
       "      <td>1992-03-01</td>\n",
       "      <td>Miles de Dolares FOB</td>\n",
       "      <td>89464</td>\n",
       "      <td>11971</td>\n",
       "      <td>139098</td>\n",
       "      <td>6689</td>\n",
       "    </tr>\n",
       "    <tr>\n",
       "      <th>3</th>\n",
       "      <td>1992-04-01</td>\n",
       "      <td>Miles de Dolares FOB</td>\n",
       "      <td>113535</td>\n",
       "      <td>54218</td>\n",
       "      <td>123237</td>\n",
       "      <td>2160</td>\n",
       "    </tr>\n",
       "    <tr>\n",
       "      <th>4</th>\n",
       "      <td>1992-05-01</td>\n",
       "      <td>Miles de Dolares FOB</td>\n",
       "      <td>118170</td>\n",
       "      <td>36989</td>\n",
       "      <td>126696</td>\n",
       "      <td>20406</td>\n",
       "    </tr>\n",
       "  </tbody>\n",
       "</table>\n",
       "</div>"
      ],
      "text/plain": [
       "       fecha                unidad    cafe  carbon  petroleo ferroniquel\n",
       "0 1992-01-01  Miles de Dolares FOB  108864   39350    130960        2580\n",
       "1 1992-02-01  Miles de Dolares FOB  114799   56116    102964       17023\n",
       "2 1992-03-01  Miles de Dolares FOB   89464   11971    139098        6689\n",
       "3 1992-04-01  Miles de Dolares FOB  113535   54218    123237        2160\n",
       "4 1992-05-01  Miles de Dolares FOB  118170   36989    126696       20406"
      ]
     },
     "execution_count": 7,
     "metadata": {},
     "output_type": "execute_result"
    }
   ],
   "source": [
    "file.head()"
   ]
  },
  {
   "cell_type": "code",
   "execution_count": 8,
   "metadata": {},
   "outputs": [
    {
     "data": {
      "text/html": [
       "<div>\n",
       "<style scoped>\n",
       "    .dataframe tbody tr th:only-of-type {\n",
       "        vertical-align: middle;\n",
       "    }\n",
       "\n",
       "    .dataframe tbody tr th {\n",
       "        vertical-align: top;\n",
       "    }\n",
       "\n",
       "    .dataframe thead th {\n",
       "        text-align: right;\n",
       "    }\n",
       "</style>\n",
       "<table border=\"1\" class=\"dataframe\">\n",
       "  <thead>\n",
       "    <tr style=\"text-align: right;\">\n",
       "      <th></th>\n",
       "      <th>unidad</th>\n",
       "      <th>cafe</th>\n",
       "      <th>carbon</th>\n",
       "      <th>petroleo</th>\n",
       "      <th>ferroniquel</th>\n",
       "      <th>ano</th>\n",
       "      <th>mes</th>\n",
       "    </tr>\n",
       "  </thead>\n",
       "  <tbody>\n",
       "    <tr>\n",
       "      <th>0</th>\n",
       "      <td>Miles de Dolares FOB</td>\n",
       "      <td>108864</td>\n",
       "      <td>39350</td>\n",
       "      <td>130960</td>\n",
       "      <td>2580</td>\n",
       "      <td>1992</td>\n",
       "      <td>1</td>\n",
       "    </tr>\n",
       "    <tr>\n",
       "      <th>1</th>\n",
       "      <td>Miles de Dolares FOB</td>\n",
       "      <td>114799</td>\n",
       "      <td>56116</td>\n",
       "      <td>102964</td>\n",
       "      <td>17023</td>\n",
       "      <td>1992</td>\n",
       "      <td>2</td>\n",
       "    </tr>\n",
       "    <tr>\n",
       "      <th>2</th>\n",
       "      <td>Miles de Dolares FOB</td>\n",
       "      <td>89464</td>\n",
       "      <td>11971</td>\n",
       "      <td>139098</td>\n",
       "      <td>6689</td>\n",
       "      <td>1992</td>\n",
       "      <td>3</td>\n",
       "    </tr>\n",
       "    <tr>\n",
       "      <th>3</th>\n",
       "      <td>Miles de Dolares FOB</td>\n",
       "      <td>113535</td>\n",
       "      <td>54218</td>\n",
       "      <td>123237</td>\n",
       "      <td>2160</td>\n",
       "      <td>1992</td>\n",
       "      <td>4</td>\n",
       "    </tr>\n",
       "    <tr>\n",
       "      <th>4</th>\n",
       "      <td>Miles de Dolares FOB</td>\n",
       "      <td>118170</td>\n",
       "      <td>36989</td>\n",
       "      <td>126696</td>\n",
       "      <td>20406</td>\n",
       "      <td>1992</td>\n",
       "      <td>5</td>\n",
       "    </tr>\n",
       "  </tbody>\n",
       "</table>\n",
       "</div>"
      ],
      "text/plain": [
       "                 unidad    cafe  carbon  petroleo ferroniquel   ano  mes\n",
       "0  Miles de Dolares FOB  108864   39350    130960        2580  1992    1\n",
       "1  Miles de Dolares FOB  114799   56116    102964       17023  1992    2\n",
       "2  Miles de Dolares FOB   89464   11971    139098        6689  1992    3\n",
       "3  Miles de Dolares FOB  113535   54218    123237        2160  1992    4\n",
       "4  Miles de Dolares FOB  118170   36989    126696       20406  1992    5"
      ]
     },
     "execution_count": 8,
     "metadata": {},
     "output_type": "execute_result"
    }
   ],
   "source": [
    "## Se crean las columnas mes y año en la tabla\n",
    "file['ano'] = file['fecha'].dt.year\n",
    "file['mes'] = file['fecha'].dt.month\n",
    "file_2 = file.drop('fecha', 1)\n",
    "file_2.head()"
   ]
  },
  {
   "cell_type": "markdown",
   "metadata": {},
   "source": [
    "**Ejercicio N°3** ¿Cuantos registros de la tabla son nulos?. Elimine los registros que tengan datos faltantes."
   ]
  },
  {
   "cell_type": "code",
   "execution_count": 9,
   "metadata": {},
   "outputs": [
    {
     "name": "stderr",
     "output_type": "stream",
     "text": [
      "/home/vavasquezhe/anaconda3/lib/python3.6/site-packages/ipykernel_launcher.py:1: FutureWarning: convert_objects is deprecated.  To re-infer data dtypes for object columns, use DataFrame.infer_objects()\n",
      "For all other conversions use the data-type specific converters pd.to_datetime, pd.to_timedelta and pd.to_numeric.\n",
      "  \"\"\"Entry point for launching an IPython kernel.\n"
     ]
    },
    {
     "data": {
      "text/plain": [
       "4"
      ]
     },
     "execution_count": 9,
     "metadata": {},
     "output_type": "execute_result"
    }
   ],
   "source": [
    "file_3 = file_2.convert_objects(convert_numeric=True).dropna()\n",
    "len(file_2)-len(file_3)"
   ]
  },
  {
   "cell_type": "markdown",
   "metadata": {},
   "source": [
    "**Ejercicio N°4** Genere un archivo tipo texto que contenga la tabla resultante del numeral 3."
   ]
  },
  {
   "cell_type": "code",
   "execution_count": 10,
   "metadata": {},
   "outputs": [],
   "source": [
    "file_3.to_csv('Exportaciones_tradicionales.txt', sep=';')"
   ]
  },
  {
   "cell_type": "code",
   "execution_count": 11,
   "metadata": {},
   "outputs": [
    {
     "data": {
      "text/html": [
       "<div>\n",
       "<style scoped>\n",
       "    .dataframe tbody tr th:only-of-type {\n",
       "        vertical-align: middle;\n",
       "    }\n",
       "\n",
       "    .dataframe tbody tr th {\n",
       "        vertical-align: top;\n",
       "    }\n",
       "\n",
       "    .dataframe thead th {\n",
       "        text-align: right;\n",
       "    }\n",
       "</style>\n",
       "<table border=\"1\" class=\"dataframe\">\n",
       "  <thead>\n",
       "    <tr style=\"text-align: right;\">\n",
       "      <th></th>\n",
       "      <th>unidad</th>\n",
       "      <th>cafe</th>\n",
       "      <th>carbon</th>\n",
       "      <th>petroleo</th>\n",
       "      <th>ferroniquel</th>\n",
       "      <th>ano</th>\n",
       "      <th>mes</th>\n",
       "    </tr>\n",
       "  </thead>\n",
       "  <tbody>\n",
       "    <tr>\n",
       "      <th>0</th>\n",
       "      <td>Miles de Dolares FOB</td>\n",
       "      <td>108864</td>\n",
       "      <td>39350</td>\n",
       "      <td>130960</td>\n",
       "      <td>2580.0</td>\n",
       "      <td>1992</td>\n",
       "      <td>1</td>\n",
       "    </tr>\n",
       "    <tr>\n",
       "      <th>1</th>\n",
       "      <td>Miles de Dolares FOB</td>\n",
       "      <td>114799</td>\n",
       "      <td>56116</td>\n",
       "      <td>102964</td>\n",
       "      <td>17023.0</td>\n",
       "      <td>1992</td>\n",
       "      <td>2</td>\n",
       "    </tr>\n",
       "    <tr>\n",
       "      <th>2</th>\n",
       "      <td>Miles de Dolares FOB</td>\n",
       "      <td>89464</td>\n",
       "      <td>11971</td>\n",
       "      <td>139098</td>\n",
       "      <td>6689.0</td>\n",
       "      <td>1992</td>\n",
       "      <td>3</td>\n",
       "    </tr>\n",
       "    <tr>\n",
       "      <th>3</th>\n",
       "      <td>Miles de Dolares FOB</td>\n",
       "      <td>113535</td>\n",
       "      <td>54218</td>\n",
       "      <td>123237</td>\n",
       "      <td>2160.0</td>\n",
       "      <td>1992</td>\n",
       "      <td>4</td>\n",
       "    </tr>\n",
       "    <tr>\n",
       "      <th>4</th>\n",
       "      <td>Miles de Dolares FOB</td>\n",
       "      <td>118170</td>\n",
       "      <td>36989</td>\n",
       "      <td>126696</td>\n",
       "      <td>20406.0</td>\n",
       "      <td>1992</td>\n",
       "      <td>5</td>\n",
       "    </tr>\n",
       "  </tbody>\n",
       "</table>\n",
       "</div>"
      ],
      "text/plain": [
       "                 unidad    cafe  carbon  petroleo  ferroniquel   ano  mes\n",
       "0  Miles de Dolares FOB  108864   39350    130960       2580.0  1992    1\n",
       "1  Miles de Dolares FOB  114799   56116    102964      17023.0  1992    2\n",
       "2  Miles de Dolares FOB   89464   11971    139098       6689.0  1992    3\n",
       "3  Miles de Dolares FOB  113535   54218    123237       2160.0  1992    4\n",
       "4  Miles de Dolares FOB  118170   36989    126696      20406.0  1992    5"
      ]
     },
     "execution_count": 11,
     "metadata": {},
     "output_type": "execute_result"
    }
   ],
   "source": [
    "file_3.head()"
   ]
  },
  {
   "cell_type": "markdown",
   "metadata": {},
   "source": [
    "**Ejercicio N°5** Genere una nueva tabla que presente el consolidado de las exportaciones por año por producto y por unidad de medida, es decir, para cada año analizado se debe obtener un registro para cada una de las unidades de medida por producto. Guarde el resultado en un archivo de texto."
   ]
  },
  {
   "cell_type": "code",
   "execution_count": 12,
   "metadata": {},
   "outputs": [
    {
     "data": {
      "text/html": [
       "<div>\n",
       "<style scoped>\n",
       "    .dataframe tbody tr th:only-of-type {\n",
       "        vertical-align: middle;\n",
       "    }\n",
       "\n",
       "    .dataframe tbody tr th {\n",
       "        vertical-align: top;\n",
       "    }\n",
       "\n",
       "    .dataframe thead th {\n",
       "        text-align: right;\n",
       "    }\n",
       "</style>\n",
       "<table border=\"1\" class=\"dataframe\">\n",
       "  <thead>\n",
       "    <tr style=\"text-align: right;\">\n",
       "      <th></th>\n",
       "      <th></th>\n",
       "      <th>cafe</th>\n",
       "      <th>carbon</th>\n",
       "      <th>petroleo</th>\n",
       "      <th>ferroniquel</th>\n",
       "    </tr>\n",
       "    <tr>\n",
       "      <th>ano</th>\n",
       "      <th>unidad</th>\n",
       "      <th></th>\n",
       "      <th></th>\n",
       "      <th></th>\n",
       "      <th></th>\n",
       "    </tr>\n",
       "  </thead>\n",
       "  <tbody>\n",
       "    <tr>\n",
       "      <th rowspan=\"2\" valign=\"top\">1992</th>\n",
       "      <th>Miles de Dolares FOB</th>\n",
       "      <td>1258847</td>\n",
       "      <td>555429</td>\n",
       "      <td>1412943</td>\n",
       "      <td>125155.0</td>\n",
       "    </tr>\n",
       "    <tr>\n",
       "      <th>Toneladas Metricas</th>\n",
       "      <td>966835</td>\n",
       "      <td>14793269</td>\n",
       "      <td>12465425</td>\n",
       "      <td>48048.0</td>\n",
       "    </tr>\n",
       "    <tr>\n",
       "      <th rowspan=\"2\" valign=\"top\">1993</th>\n",
       "      <th>Miles de Dolares FOB</th>\n",
       "      <td>1139868</td>\n",
       "      <td>564415</td>\n",
       "      <td>1323260</td>\n",
       "      <td>101898.0</td>\n",
       "    </tr>\n",
       "    <tr>\n",
       "      <th>Toneladas Metricas</th>\n",
       "      <td>782259</td>\n",
       "      <td>17716683</td>\n",
       "      <td>12761908</td>\n",
       "      <td>49380.0</td>\n",
       "    </tr>\n",
       "    <tr>\n",
       "      <th>1994</th>\n",
       "      <th>Miles de Dolares FOB</th>\n",
       "      <td>1990136</td>\n",
       "      <td>549833</td>\n",
       "      <td>1312724</td>\n",
       "      <td>118782.0</td>\n",
       "    </tr>\n",
       "  </tbody>\n",
       "</table>\n",
       "</div>"
      ],
      "text/plain": [
       "                              cafe    carbon  petroleo  ferroniquel\n",
       "ano  unidad                                                        \n",
       "1992 Miles de Dolares FOB  1258847    555429   1412943     125155.0\n",
       "     Toneladas Metricas     966835  14793269  12465425      48048.0\n",
       "1993 Miles de Dolares FOB  1139868    564415   1323260     101898.0\n",
       "     Toneladas Metricas     782259  17716683  12761908      49380.0\n",
       "1994 Miles de Dolares FOB  1990136    549833   1312724     118782.0"
      ]
     },
     "execution_count": 12,
     "metadata": {},
     "output_type": "execute_result"
    }
   ],
   "source": [
    "file_4 = file_3.loc[:, file_3.columns != 'mes'].groupby(['ano','unidad']).sum()\n",
    "file_4.head()"
   ]
  },
  {
   "cell_type": "code",
   "execution_count": 13,
   "metadata": {},
   "outputs": [],
   "source": [
    "file_4.to_csv('Exportaciones_tradiciones_medida.txt',sep=';')"
   ]
  },
  {
   "cell_type": "markdown",
   "metadata": {},
   "source": [
    "**Ejercicio N°6** Calcule el promedio de las exportaciones por mes por producto y grafíquelo."
   ]
  },
  {
   "cell_type": "code",
   "execution_count": 14,
   "metadata": {},
   "outputs": [
    {
     "data": {
      "text/html": [
       "<div>\n",
       "<style scoped>\n",
       "    .dataframe tbody tr th:only-of-type {\n",
       "        vertical-align: middle;\n",
       "    }\n",
       "\n",
       "    .dataframe tbody tr th {\n",
       "        vertical-align: top;\n",
       "    }\n",
       "\n",
       "    .dataframe thead th {\n",
       "        text-align: right;\n",
       "    }\n",
       "</style>\n",
       "<table border=\"1\" class=\"dataframe\">\n",
       "  <thead>\n",
       "    <tr style=\"text-align: right;\">\n",
       "      <th></th>\n",
       "      <th></th>\n",
       "      <th>cafe</th>\n",
       "      <th>carbon</th>\n",
       "      <th>petroleo</th>\n",
       "      <th>ferroniquel</th>\n",
       "    </tr>\n",
       "    <tr>\n",
       "      <th>unidad</th>\n",
       "      <th>mes</th>\n",
       "      <th></th>\n",
       "      <th></th>\n",
       "      <th></th>\n",
       "      <th></th>\n",
       "    </tr>\n",
       "  </thead>\n",
       "  <tbody>\n",
       "    <tr>\n",
       "      <th rowspan=\"12\" valign=\"top\">Miles de Dolares FOB</th>\n",
       "      <th>1</th>\n",
       "      <td>147038.444444</td>\n",
       "      <td>2.746003e+05</td>\n",
       "      <td>7.647992e+05</td>\n",
       "      <td>33479.765630</td>\n",
       "    </tr>\n",
       "    <tr>\n",
       "      <th>2</th>\n",
       "      <td>143206.500000</td>\n",
       "      <td>2.246442e+05</td>\n",
       "      <td>7.214277e+05</td>\n",
       "      <td>34510.412962</td>\n",
       "    </tr>\n",
       "    <tr>\n",
       "      <th>3</th>\n",
       "      <td>137384.038462</td>\n",
       "      <td>2.500009e+05</td>\n",
       "      <td>8.349502e+05</td>\n",
       "      <td>37961.038462</td>\n",
       "    </tr>\n",
       "    <tr>\n",
       "      <th>4</th>\n",
       "      <td>138860.111111</td>\n",
       "      <td>2.715620e+05</td>\n",
       "      <td>8.310392e+05</td>\n",
       "      <td>41546.689333</td>\n",
       "    </tr>\n",
       "    <tr>\n",
       "      <th>5</th>\n",
       "      <td>138006.592593</td>\n",
       "      <td>3.360396e+05</td>\n",
       "      <td>8.825227e+05</td>\n",
       "      <td>50199.873593</td>\n",
       "    </tr>\n",
       "    <tr>\n",
       "      <th>6</th>\n",
       "      <td>135769.925926</td>\n",
       "      <td>2.695717e+05</td>\n",
       "      <td>8.495897e+05</td>\n",
       "      <td>41245.813852</td>\n",
       "    </tr>\n",
       "    <tr>\n",
       "      <th>7</th>\n",
       "      <td>133510.074074</td>\n",
       "      <td>2.994721e+05</td>\n",
       "      <td>8.654846e+05</td>\n",
       "      <td>36436.387778</td>\n",
       "    </tr>\n",
       "    <tr>\n",
       "      <th>8</th>\n",
       "      <td>131817.538462</td>\n",
       "      <td>2.802016e+05</td>\n",
       "      <td>8.471858e+05</td>\n",
       "      <td>39048.750769</td>\n",
       "    </tr>\n",
       "    <tr>\n",
       "      <th>9</th>\n",
       "      <td>125846.000000</td>\n",
       "      <td>2.749238e+05</td>\n",
       "      <td>8.401538e+05</td>\n",
       "      <td>38402.034654</td>\n",
       "    </tr>\n",
       "    <tr>\n",
       "      <th>10</th>\n",
       "      <td>136910.115385</td>\n",
       "      <td>2.608843e+05</td>\n",
       "      <td>8.518688e+05</td>\n",
       "      <td>40213.115385</td>\n",
       "    </tr>\n",
       "    <tr>\n",
       "      <th>11</th>\n",
       "      <td>152920.230769</td>\n",
       "      <td>2.463058e+05</td>\n",
       "      <td>7.967336e+05</td>\n",
       "      <td>40136.848615</td>\n",
       "    </tr>\n",
       "    <tr>\n",
       "      <th>12</th>\n",
       "      <td>178863.730769</td>\n",
       "      <td>3.013830e+05</td>\n",
       "      <td>8.388625e+05</td>\n",
       "      <td>45357.795269</td>\n",
       "    </tr>\n",
       "    <tr>\n",
       "      <th rowspan=\"12\" valign=\"top\">Toneladas Metricas</th>\n",
       "      <th>1</th>\n",
       "      <td>51382.592593</td>\n",
       "      <td>4.254662e+06</td>\n",
       "      <td>2.268399e+06</td>\n",
       "      <td>7999.422370</td>\n",
       "    </tr>\n",
       "    <tr>\n",
       "      <th>2</th>\n",
       "      <td>52409.269231</td>\n",
       "      <td>3.775030e+06</td>\n",
       "      <td>2.081120e+06</td>\n",
       "      <td>7913.291692</td>\n",
       "    </tr>\n",
       "    <tr>\n",
       "      <th>3</th>\n",
       "      <td>47620.807692</td>\n",
       "      <td>4.013086e+06</td>\n",
       "      <td>2.316541e+06</td>\n",
       "      <td>8860.923077</td>\n",
       "    </tr>\n",
       "    <tr>\n",
       "      <th>4</th>\n",
       "      <td>48992.333333</td>\n",
       "      <td>4.398257e+06</td>\n",
       "      <td>2.229598e+06</td>\n",
       "      <td>7906.265074</td>\n",
       "    </tr>\n",
       "    <tr>\n",
       "      <th>5</th>\n",
       "      <td>47924.148148</td>\n",
       "      <td>5.405569e+06</td>\n",
       "      <td>2.317494e+06</td>\n",
       "      <td>9485.009778</td>\n",
       "    </tr>\n",
       "    <tr>\n",
       "      <th>6</th>\n",
       "      <td>47873.037037</td>\n",
       "      <td>4.290906e+06</td>\n",
       "      <td>2.253212e+06</td>\n",
       "      <td>8189.019963</td>\n",
       "    </tr>\n",
       "    <tr>\n",
       "      <th>7</th>\n",
       "      <td>46786.407407</td>\n",
       "      <td>4.699232e+06</td>\n",
       "      <td>2.291068e+06</td>\n",
       "      <td>7809.452444</td>\n",
       "    </tr>\n",
       "    <tr>\n",
       "      <th>8</th>\n",
       "      <td>45682.846154</td>\n",
       "      <td>4.567165e+06</td>\n",
       "      <td>2.289765e+06</td>\n",
       "      <td>8451.807346</td>\n",
       "    </tr>\n",
       "    <tr>\n",
       "      <th>9</th>\n",
       "      <td>43654.692308</td>\n",
       "      <td>4.505178e+06</td>\n",
       "      <td>2.240536e+06</td>\n",
       "      <td>8400.791577</td>\n",
       "    </tr>\n",
       "    <tr>\n",
       "      <th>10</th>\n",
       "      <td>49467.615385</td>\n",
       "      <td>4.131978e+06</td>\n",
       "      <td>2.357902e+06</td>\n",
       "      <td>8012.230769</td>\n",
       "    </tr>\n",
       "    <tr>\n",
       "      <th>11</th>\n",
       "      <td>56362.269231</td>\n",
       "      <td>4.134796e+06</td>\n",
       "      <td>2.193686e+06</td>\n",
       "      <td>8369.370500</td>\n",
       "    </tr>\n",
       "    <tr>\n",
       "      <th>12</th>\n",
       "      <td>64549.192308</td>\n",
       "      <td>4.933106e+06</td>\n",
       "      <td>2.442022e+06</td>\n",
       "      <td>9235.870385</td>\n",
       "    </tr>\n",
       "  </tbody>\n",
       "</table>\n",
       "</div>"
      ],
      "text/plain": [
       "                                   cafe        carbon      petroleo  \\\n",
       "unidad               mes                                              \n",
       "Miles de Dolares FOB 1    147038.444444  2.746003e+05  7.647992e+05   \n",
       "                     2    143206.500000  2.246442e+05  7.214277e+05   \n",
       "                     3    137384.038462  2.500009e+05  8.349502e+05   \n",
       "                     4    138860.111111  2.715620e+05  8.310392e+05   \n",
       "                     5    138006.592593  3.360396e+05  8.825227e+05   \n",
       "                     6    135769.925926  2.695717e+05  8.495897e+05   \n",
       "                     7    133510.074074  2.994721e+05  8.654846e+05   \n",
       "                     8    131817.538462  2.802016e+05  8.471858e+05   \n",
       "                     9    125846.000000  2.749238e+05  8.401538e+05   \n",
       "                     10   136910.115385  2.608843e+05  8.518688e+05   \n",
       "                     11   152920.230769  2.463058e+05  7.967336e+05   \n",
       "                     12   178863.730769  3.013830e+05  8.388625e+05   \n",
       "Toneladas Metricas   1     51382.592593  4.254662e+06  2.268399e+06   \n",
       "                     2     52409.269231  3.775030e+06  2.081120e+06   \n",
       "                     3     47620.807692  4.013086e+06  2.316541e+06   \n",
       "                     4     48992.333333  4.398257e+06  2.229598e+06   \n",
       "                     5     47924.148148  5.405569e+06  2.317494e+06   \n",
       "                     6     47873.037037  4.290906e+06  2.253212e+06   \n",
       "                     7     46786.407407  4.699232e+06  2.291068e+06   \n",
       "                     8     45682.846154  4.567165e+06  2.289765e+06   \n",
       "                     9     43654.692308  4.505178e+06  2.240536e+06   \n",
       "                     10    49467.615385  4.131978e+06  2.357902e+06   \n",
       "                     11    56362.269231  4.134796e+06  2.193686e+06   \n",
       "                     12    64549.192308  4.933106e+06  2.442022e+06   \n",
       "\n",
       "                           ferroniquel  \n",
       "unidad               mes                \n",
       "Miles de Dolares FOB 1    33479.765630  \n",
       "                     2    34510.412962  \n",
       "                     3    37961.038462  \n",
       "                     4    41546.689333  \n",
       "                     5    50199.873593  \n",
       "                     6    41245.813852  \n",
       "                     7    36436.387778  \n",
       "                     8    39048.750769  \n",
       "                     9    38402.034654  \n",
       "                     10   40213.115385  \n",
       "                     11   40136.848615  \n",
       "                     12   45357.795269  \n",
       "Toneladas Metricas   1     7999.422370  \n",
       "                     2     7913.291692  \n",
       "                     3     8860.923077  \n",
       "                     4     7906.265074  \n",
       "                     5     9485.009778  \n",
       "                     6     8189.019963  \n",
       "                     7     7809.452444  \n",
       "                     8     8451.807346  \n",
       "                     9     8400.791577  \n",
       "                     10    8012.230769  \n",
       "                     11    8369.370500  \n",
       "                     12    9235.870385  "
      ]
     },
     "execution_count": 14,
     "metadata": {},
     "output_type": "execute_result"
    }
   ],
   "source": [
    "file_5 = file_3.loc[:, file_3.columns != 'ano'].groupby(['unidad','mes']).mean()\n",
    "file_5"
   ]
  },
  {
   "cell_type": "code",
   "execution_count": 16,
   "metadata": {},
   "outputs": [
    {
     "data": {
      "image/png": "[encoded data removed]",
      "text/plain": [
       "<Figure size 1080x576 with 2 Axes>"
      ]
     },
     "metadata": {},
     "output_type": "display_data"
    }
   ],
   "source": [
    "plt.figure(figsize=(15, 8))\n",
    "\n",
    "plt.subplot(2,1,1)\n",
    "p1 = plt.plot(file_5.loc['Toneladas Metricas'],linestyle='dashdot', markersize=12, linewidth=3)\n",
    "plt.title(\"Exportaciones tradicionales promedio por mes\", fontsize=18)  # Establece el título del gráfico\n",
    "plt.ylabel(\"Toneldas Metricas\", fontsize=15)   # Establece el título del eje y\n",
    "plt.legend((p1[0], p1[1], p1[2], p1[3]), ('Café', 'Carbón', 'Petróleo', 'Ferroniquel'),\n",
    "           bbox_to_anchor=(1.05, 1), loc=2, borderaxespad=0.2, prop={'size': 15})\n",
    "\n",
    "\n",
    "plt.subplot(2,1,2)\n",
    "plt.plot(file_5.loc['Miles de Dolares FOB'],linestyle='dashdot', markersize=12 ,linewidth=3)\n",
    "plt.xlabel(\"Meses\", fontsize=15)   # Establece el título del eje x \n",
    "plt.ylabel(\"Miles de Dolares FOB\", fontsize=15)   # Establece el título del eje y\n",
    "\n",
    "\n",
    "plt.subplots_adjust(left=0.6, wspace=0.8, top=0.8)\n",
    "plt.tight_layout()\n",
    "plt.show()"
   ]
  },
  {
   "cell_type": "markdown",
   "metadata": {},
   "source": [
    "**Ejercicio N°7** Calcule el total de exportaciones tradicionales por año por unidad de medida y grafíquelo. ¿Qué se infiere de los resultados?"
   ]
  },
  {
   "cell_type": "code",
   "execution_count": 17,
   "metadata": {},
   "outputs": [],
   "source": [
    "file_6 = file_3.loc[:, file_3.columns != 'mes'].groupby(['unidad','ano']).sum()\n",
    "file_7 = file_6.loc['Miles de Dolares FOB'].T.sum()\n",
    "file_8 = file_6.loc['Toneladas Metricas'].T.sum()"
   ]
  },
  {
   "cell_type": "code",
   "execution_count": 18,
   "metadata": {},
   "outputs": [
    {
     "name": "stderr",
     "output_type": "stream",
     "text": [
      "/home/vavasquezhe/anaconda3/lib/python3.6/site-packages/matplotlib/cbook/__init__.py:2446: UserWarning: Saw kwargs ['lw', 'linewidth'] which are all aliases for 'linewidth'.  Kept value from 'linewidth'\n",
      "  seen=seen, canon=canonical, used=seen[-1]))\n"
     ]
    },
    {
     "data": {
      "image/png": "[encoded data removed]",
      "text/plain": [
       "<Figure size 1080x576 with 2 Axes>"
      ]
     },
     "metadata": {},
     "output_type": "display_data"
    }
   ],
   "source": [
    "plt.figure(figsize=(15,8))\n",
    "plt.subplot(2,1,1)\n",
    "plt.plot(file_7, '-o', ms=15, lw=2, alpha=0.7, mfc='orange',linewidth=3)\n",
    "plt.title(\"Exportaciones tradicionales totales por año\", fontsize=18)  # Establece el título del gráfico\n",
    "plt.ylabel(\"Miles de Dolares FOB\", fontsize=15)   # Establece el título del eje y\n",
    "\n",
    "\n",
    "plt.subplot(2,1,2)\n",
    "plt.plot(file_8, '-o', ms=20, lw=2, alpha=0.7, mfc='red',linewidth=3)\n",
    "plt.xlabel(\"Años\", fontsize=15)   # Establece el título del eje x \n",
    "plt.ylabel(\"Toneladas Metricas\", fontsize=15)   # Establece el título del eje y\n",
    "\n",
    "\n",
    "plt.subplots_adjust(left=0.6, wspace=0.8, top=0.8)\n",
    "plt.tight_layout()\n",
    "plt.show()"
   ]
  },
  {
   "cell_type": "markdown",
   "metadata": {},
   "source": [
    "**Ejercicio N°8** Calcule el total de exportaciones tradicionales por mes por unidad de medida y grafíquelo."
   ]
  },
  {
   "cell_type": "code",
   "execution_count": 19,
   "metadata": {},
   "outputs": [],
   "source": [
    "file_9 = file_3.loc[:, file_3.columns != 'ano'].groupby(['unidad','mes']).sum()"
   ]
  },
  {
   "cell_type": "code",
   "execution_count": 20,
   "metadata": {},
   "outputs": [
    {
     "name": "stderr",
     "output_type": "stream",
     "text": [
      "/home/vavasquezhe/anaconda3/lib/python3.6/site-packages/matplotlib/cbook/__init__.py:2446: UserWarning: Saw kwargs ['lw', 'linewidth'] which are all aliases for 'linewidth'.  Kept value from 'linewidth'\n",
      "  seen=seen, canon=canonical, used=seen[-1]))\n"
     ]
    },
    {
     "data": {
      "image/png": "[encoded data removed]",
      "text/plain": [
       "<Figure size 720x576 with 2 Axes>"
      ]
     },
     "metadata": {},
     "output_type": "display_data"
    }
   ],
   "source": [
    "plt.figure(figsize=(10,8))\n",
    "plt.subplot(2,1,1)\n",
    "plt.plot(file_9.loc['Miles de Dolares FOB'].T.sum(), 'g^-', ms=20, lw=2, alpha=0.7, mfc='blue',linewidth=3)\n",
    "plt.title(\"Exportaciones tradicionales totales por año\", fontsize=18)  # Establece el título del gráfico\n",
    "plt.ylabel(\"Miles de Dolares FOB\", fontsize=15)   # Establece el título del eje y\n",
    "\n",
    "\n",
    "plt.subplot(2,1,2)\n",
    "plt.plot(file_9.loc['Toneladas Metricas'].T.sum(), 'g^-', ms=20, lw=2, alpha=0.7, mfc='red',linewidth=3)\n",
    "plt.xlabel(\"Años\", fontsize=15)   # Establece el título del eje x \n",
    "plt.ylabel(\"Toneladas Metricas\", fontsize=15)   # Establece el título del eje y\n",
    "\n",
    "\n",
    "plt.subplots_adjust(left=0.6, wspace=0.8, top=0.8)\n",
    "plt.tight_layout()\n",
    "plt.show()"
   ]
  },
  {
   "cell_type": "markdown",
   "metadata": {},
   "source": [
    "**Ejercicio N°8** Calcule la cantidad máxima de toneladas métricas que se han exportado en un año por cada producto y el año en que se produjo."
   ]
  },
  {
   "cell_type": "code",
   "execution_count": 21,
   "metadata": {
    "scrolled": true
   },
   "outputs": [
    {
     "data": {
      "text/plain": [
       "cafe             113391.0\n",
       "carbon         14736902.0\n",
       "petroleo        4593090.0\n",
       "ferroniquel       24080.0\n",
       "dtype: float64"
      ]
     },
     "execution_count": 21,
     "metadata": {},
     "output_type": "execute_result"
    }
   ],
   "source": [
    "temp = file_3.loc[:, file_3.columns != 'mes'].groupby(['unidad','ano']).max().loc['Toneladas Metricas']\n",
    "g = temp.max()\n",
    "g"
   ]
  },
  {
   "cell_type": "code",
   "execution_count": 22,
   "metadata": {},
   "outputs": [
    {
     "data": {
      "text/html": [
       "<div>\n",
       "<style scoped>\n",
       "    .dataframe tbody tr th:only-of-type {\n",
       "        vertical-align: middle;\n",
       "    }\n",
       "\n",
       "    .dataframe tbody tr th {\n",
       "        vertical-align: top;\n",
       "    }\n",
       "\n",
       "    .dataframe thead th {\n",
       "        text-align: right;\n",
       "    }\n",
       "</style>\n",
       "<table border=\"1\" class=\"dataframe\">\n",
       "  <thead>\n",
       "    <tr style=\"text-align: right;\">\n",
       "      <th></th>\n",
       "      <th>cafe</th>\n",
       "      <th>carbon</th>\n",
       "      <th>petroleo</th>\n",
       "      <th>ferroniquel</th>\n",
       "    </tr>\n",
       "    <tr>\n",
       "      <th>ano</th>\n",
       "      <th></th>\n",
       "      <th></th>\n",
       "      <th></th>\n",
       "      <th></th>\n",
       "    </tr>\n",
       "  </thead>\n",
       "  <tbody>\n",
       "    <tr>\n",
       "      <th>2016</th>\n",
       "      <td>113391</td>\n",
       "      <td>11912907</td>\n",
       "      <td>4099192</td>\n",
       "      <td>15419.0</td>\n",
       "    </tr>\n",
       "  </tbody>\n",
       "</table>\n",
       "</div>"
      ],
      "text/plain": [
       "        cafe    carbon  petroleo  ferroniquel\n",
       "ano                                          \n",
       "2016  113391  11912907   4099192      15419.0"
      ]
     },
     "execution_count": 22,
     "metadata": {},
     "output_type": "execute_result"
    }
   ],
   "source": [
    "temp[temp['cafe']==g[0]]"
   ]
  },
  {
   "cell_type": "code",
   "execution_count": 23,
   "metadata": {},
   "outputs": [
    {
     "data": {
      "text/plain": [
       "2016"
      ]
     },
     "execution_count": 23,
     "metadata": {},
     "output_type": "execute_result"
    }
   ],
   "source": [
    "temp[temp['cafe']==g[0]].index.values[0]"
   ]
  },
  {
   "cell_type": "code",
   "execution_count": 24,
   "metadata": {},
   "outputs": [
    {
     "name": "stderr",
     "output_type": "stream",
     "text": [
      "/home/vavasquezhe/anaconda3/lib/python3.6/site-packages/ipykernel_launcher.py:7: FutureWarning: Series.data is deprecated and will be removed in a future version\n",
      "  import sys\n"
     ]
    },
    {
     "data": {
      "text/plain": [
       "[[2016, 113391.0, 'cafe'],\n",
       " [2017, 14736902.0, 'carbon'],\n",
       " [2015, 4593090.0, 'petroleo'],\n",
       " [2007, 24080.0, 'ferroniquel']]"
      ]
     },
     "execution_count": 24,
     "metadata": {},
     "output_type": "execute_result"
    }
   ],
   "source": [
    "data = ['cafe','carbon','petroleo','ferroniquel']\n",
    "num = [0,1,2,3]; o= []; p=[]\n",
    "\n",
    "for i in num:\n",
    "    p=[]\n",
    "    h = temp[temp[data[i]]==g[i]].index.values[0]\n",
    "    j = g.data[i]\n",
    "    p.append(h);p.append(j);p.append(data[i])\n",
    "    o.append(p)\n",
    "o"
   ]
  },
  {
   "cell_type": "markdown",
   "metadata": {},
   "source": [
    "**Ejercicio N°9** Construya un histograma que muestre cuantas veces un producto ha tenido la cantidad máxima de toneladas en cada mes."
   ]
  },
  {
   "cell_type": "code",
   "execution_count": 25,
   "metadata": {},
   "outputs": [],
   "source": [
    "t = file_3.loc[:, file_3.columns != 'ano']\n",
    "file_new = t.loc[:, t.columns != 'mes']\n",
    "file_new = file_new[file_new['unidad'].str.contains(\"Miles de Dolares FOB\")]\n",
    "file_new = file_new.loc[:, file_new.columns != 'unidad']"
   ]
  },
  {
   "cell_type": "code",
   "execution_count": 26,
   "metadata": {},
   "outputs": [],
   "source": [
    "liss = []\n",
    "for j in range(0,len(file_new)):\n",
    "    dato = 0\n",
    "    x = []\n",
    "    l = 0\n",
    "    for k in range(0,4):\n",
    "        dato = file_new.iloc[j,k]\n",
    "        x.append(dato)\n",
    "    maxii= max(x)\n",
    "    ind = x.index(maxii)\n",
    "    liss.append(ind)"
   ]
  },
  {
   "cell_type": "code",
   "execution_count": 27,
   "metadata": {},
   "outputs": [],
   "source": [
    "y = []\n",
    "b = 0\n",
    "for i in liss:\n",
    "    if i == 0:\n",
    "        b = 'cafe'\n",
    "    elif i == 1:\n",
    "        b = 'carbon'\n",
    "    elif i == 2:\n",
    "        b = 'petroleo'\n",
    "    else: b= 'ferroniquel'\n",
    "    y.append(b)"
   ]
  },
  {
   "cell_type": "code",
   "execution_count": 28,
   "metadata": {},
   "outputs": [
    {
     "data": {
      "image/png": "[encoded data removed]",
      "text/plain": [
       "<Figure size 576x576 with 1 Axes>"
      ]
     },
     "metadata": {},
     "output_type": "display_data"
    }
   ],
   "source": [
    "plt.figure(figsize=(8,8))\n",
    "plt.hist(y, facecolor='b', color = 'g')\n",
    "plt.xlim(0, 3)\n",
    "plt.ylabel('Frecuencia',fontsize=15)\n",
    "plt.title('Periodo Horario para la Demanda Máxima Comercial (Lunes a Viernes)',fontsize=15)\n",
    "plt.axis([0, 3, 0, 300])\n",
    "plt.show()"
   ]
  },
  {
   "cell_type": "markdown",
   "metadata": {},
   "source": [
    "---\n",
    "\n",
    "Taller práctico - Python - Pandas\n",
    "===\n",
    "\n",
    "**Valentina Vasquez Hernadez**  \n",
    "vavasquezhe@unal.edu.co   \n",
    "Universidad Nacional de Colombia, Sede Medellín  \n",
    "Facultad de Minas  \n",
    "Medellín, Colombia\n",
    "\n",
    "\n"
   ]
  }
 ],
 "metadata": {
  "kernelspec": {
   "display_name": "Python 3",
   "language": "python",
   "name": "python3"
  },
  "language_info": {
   "codemirror_mode": {
    "name": "ipython",
    "version": 3
   },
   "file_extension": ".py",
   "mimetype": "text/x-python",
   "name": "python",
   "nbconvert_exporter": "python",
   "pygments_lexer": "ipython3",
   "version": "3.6.5"
  }
 },
 "nbformat": 4,
 "nbformat_minor": 2
}
